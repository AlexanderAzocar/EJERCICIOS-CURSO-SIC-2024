{
  "cells": [
    {
      "cell_type": "markdown",
      "id": "5d671b98",
      "metadata": {
        "id": "5d671b98"
      },
      "source": [
        "# Actividades Capítulo 4 - Estructuras de Datos\n",
        "\n",
        "Resumen de la actividad.\n",
        "\n",
        "\n",
        "- **1. Pilas y Colas**\n",
        "  - Actividad 1.2 - Implementar una Cola\n",
        "\n",
        "\n",
        "- **2. Búsqueda Secuencial**\n",
        "  - Actividad 2.1 - Búsqueda en una Lista\n",
        "\n",
        "\n",
        "- **3. Búsqueda Binaria**\n",
        "  - Actividad 3.1 - Búsqueda Binaria\n",
        "\n",
        "\n",
        "- **4. Tablas Hash**\n",
        "  - Actividad 4.1 - Implementar una Tabla Hash"
      ]
    },
    {
      "cell_type": "markdown",
      "id": "33866775",
      "metadata": {
        "id": "33866775"
      },
      "source": [
        "# Actividad: Implementación de una Pila en Python\n",
        "\n",
        "En esta actividad, tendrás la oportunidad de aplicar tus conocimientos sobre estructuras de datos y programación en Python para implementar una pila (stack). Una pila es una estructura de datos que sigue el principio \"Last-In-First-Out\" (LIFO), lo que significa que el último elemento que se agrega es el primero en ser eliminado.\n",
        "\n",
        "## Resumen:\n",
        "\n",
        "- **stack** = [ ]  # Recordando que una pila es básicamente una lista.\n",
        "- **append**: Método utilizado para agregar un elemento a la lista.\n",
        "- **pop**: Método usado para eliminar elementos de la lista, sino se especifica el índice se elimina el último elemento y retorna la lista resultante."
      ]
    },
    {
      "cell_type": "code",
      "execution_count": 20,
      "id": "fbb2dca1",
      "metadata": {
        "id": "fbb2dca1",
        "colab": {
          "base_uri": "https://localhost:8080/"
        },
        "outputId": "21c2e374-a1cd-43d3-f282-4753cced4b9c"
      },
      "outputs": [
        {
          "output_type": "stream",
          "name": "stdout",
          "text": [
            "Nombres agrupados por inicial:\n",
            "Z: ['Zacarías', 'Zoe', 'Zaira']\n",
            "Y: ['Yenny', 'Yolanda']\n",
            "X: ['Xavier', 'Ximena']\n",
            "V: ['Verónica', 'Víctor']\n",
            "T: ['Teresa', 'Tomás']\n",
            "S: ['Silvia', 'Sergio', 'Sara']\n",
            "R: ['Rosario', 'Roberto', 'Renata', 'Rafael', 'Raquel']\n",
            "P: ['Pedro', 'Paula', 'Pablo']\n",
            "O: ['Olivia']\n",
            "Ó: ['Óscar']\n",
            "N: ['Nora', 'Nicolás', 'Natalia']\n",
            "M: ['Miguel', 'María', 'Manuel']\n",
            "L: ['Lorena', 'Lucía', 'Luis']\n",
            "J: ['Juan']\n",
            "I: ['Isabel']\n",
            "H: ['Hugo']\n",
            "G: ['Gabriela']\n",
            "F: ['Fernando']\n",
            "E: ['Elena']\n",
            "D: ['David']\n",
            "C: ['Carlos']\n",
            "A: ['Ana']\n",
            "\n",
            "Lista original después de vaciar: []\n"
          ]
        }
      ],
      "source": [
        "# Lista inicial de nombres aleatorios\n",
        "nombres_aleatorios = [\"Ana\", \"Carlos\", \"David\", \"Elena\", \"Fernando\", \"Gabriela\",\n",
        "                      \"Hugo\", \"Isabel\", \"Juan\", \"Luis\", \"Lucía\",\n",
        "                      \"Lorena\", \"Manuel\", \"María\", \"Miguel\", \"Natalia\",\n",
        "                      \"Nicolás\", \"Nora\", \"Óscar\", \"Olivia\", \"Pablo\", \"Paula\",\n",
        "                      \"Pedro\", \"Raquel\", \"Rafael\", \"Renata\", \"Roberto\", \"Rosario\",\n",
        "                      \"Sara\", \"Sergio\", \"Silvia\", \"Tomás\", \"Teresa\", \"Víctor\", \"Verónica\",\n",
        "                      \"Ximena\", \"Xavier\", \"Yolanda\", \"Yenny\", \"Zaira\", \"Zoe\", \"Zacarías\"]\n",
        "\n",
        "nombres_por_inicial = {}\n",
        "\n",
        "while nombres_aleatorios:\n",
        "    nombre = nombres_aleatorios.pop()\n",
        "    inicial = nombre[0]\n",
        "\n",
        "    if inicial not in nombres_por_inicial:\n",
        "        nombres_por_inicial[inicial] = []\n",
        "    nombres_por_inicial[inicial].append(nombre)\n",
        "\n",
        "print(\"Nombres agrupados por inicial:\")\n",
        "for inicial, nombres in nombres_por_inicial.items():\n",
        "    print(f\"{inicial}: {nombres}\")\n",
        "\n",
        "print(\"\\nLista original después de vaciar:\", nombres_aleatorios)\n",
        "\n",
        "# Generar un código para revisar los nombres contenidos en la lista, y guardarlos en diferentes listas,\n",
        "# de acuerdo a la inicial del nombre, use los comandos usandos antenirmente y barra los elementos usando\n",
        "# el comando \"for nombre in nombres_aleatorios:\" al final del proceso la lista inicial debe quedar vacia."
      ]
    },
    {
      "cell_type": "markdown",
      "id": "490f04a8",
      "metadata": {
        "id": "490f04a8"
      },
      "source": [
        "# Actividad: Replique el código, mostrado en la presentación 36 correspondiente al capítulo 4.\n",
        "\n",
        "En este codódigo se muestra la creación de una clasa para crear una pila y hacer las actividades básicas correspondientes.\n",
        "\n",
        "- **__init__**: Creación de la pila.\n",
        "- **is_empty**: Verificación si la pila está vacia.\n",
        "- **push**: agregar elemento a la pila\n",
        "- **pop**:si la pila no está vacia eliminar el último de elemento.\n",
        "\n",
        "Use la notación mostrada en la presentacion 40, realice varias operaciones y comente brevemente los resultados (máximo 3 lineas), antes de pasar a la siguiente actividad asegurese de entender completamente la notación utilizada."
      ]
    },
    {
      "cell_type": "code",
      "execution_count": 7,
      "id": "950d71ca",
      "metadata": {
        "id": "950d71ca",
        "colab": {
          "base_uri": "https://localhost:8080/"
        },
        "outputId": "83fad2eb-bdeb-46f0-f374-34c56a31cdcb"
      },
      "outputs": [
        {
          "output_type": "stream",
          "name": "stdout",
          "text": [
            "[]\n"
          ]
        }
      ],
      "source": [
        "# Escriba su código en está celda y todos los comentarios necesarios en la misma celda.\n",
        "\n",
        "class Pila():\n",
        "    def __init__(self):\n",
        "        self.items = []\n",
        "    def __str__(self):\n",
        "        return str(self.items)\n",
        "    def __is_empty__(self):\n",
        "        return len(self.items) == 0\n",
        "    def __push__(self, item):\n",
        "        self.items.append(item)\n",
        "    def __pop__(self):\n",
        "            return None if self.__is_empty__() else self.items.pop()\n",
        "\n",
        "pila = Pila() #agregamos el bojeto pila a la clase pila\n",
        "pila.__push__(1) #metodo para agregar un elemento a la pila\n",
        "pila.__pop__() # si la pila no está vacia eliminar el último de elemento.\n",
        "pila.__is_empty__() #Verifica si la pila está vacia\n",
        "print(pila) #imprime la pila"
      ]
    },
    {
      "cell_type": "markdown",
      "id": "5f2fe9e8",
      "metadata": {
        "id": "5f2fe9e8"
      },
      "source": [
        "# Actividad: Búsqueda secuencial.\n",
        "\n",
        "Se tiene una lista de 10 ciudades organizadas en función de la densidad de población, escriba una función para retornar la posición ocupada.\n"
      ]
    },
    {
      "cell_type": "code",
      "execution_count": null,
      "id": "dec8954f",
      "metadata": {
        "colab": {
          "base_uri": "https://localhost:8080/"
        },
        "id": "dec8954f",
        "outputId": "eab8f515-b209-432b-a9a7-9e153cd1b282"
      },
      "outputs": [
        {
          "output_type": "stream",
          "name": "stdout",
          "text": [
            "Estos son los paises con mas dencidad de poblacion con sus cuidades: ['Daca, Bangladés', 'Karachi, Pakistán', 'Nueva Delhi, India', 'Manila, Filipinas', 'Seúl, Corea del Sur', 'Cantón, China', 'Taipéi, Taiwán', 'Chenaral, Chile', 'Shenzhen, China', 'Bombay, India']\n",
            "Ingrese la ciudad a buscar: Bombay, India\n",
            "La posicion ubicada de la ciudad es la posicion:  9\n"
          ]
        }
      ],
      "source": [
        "ciudades = [\n",
        "    \"Daca, Bangladés\",\n",
        "    \"Karachi, Pakistán\",\n",
        "    \"Nueva Delhi, India\",\n",
        "    \"Manila, Filipinas\",\n",
        "    \"Seúl, Corea del Sur\",\n",
        "    \"Cantón, China\",\n",
        "    \"Taipéi, Taiwán\",\n",
        "    \"Chenaral, Chile\",\n",
        "    \"Shenzhen, China\",\n",
        "    \"Bombay, India\"\n",
        "]\n",
        "\n",
        "def obtener_posicion(ciudades, ciudad):\n",
        "    for i in range(len(ciudades)):\n",
        "        if ciudades[i] == ciudad:\n",
        "            return i\n",
        "\n",
        "print(f'Estos son los paises con mas dencidad de poblacion con sus cuidades:', ciudades)\n",
        "city = str(input(\"Ingrese la ciudad a buscar: \"))\n",
        "posicion_ocupada = obtener_posicion(ciudades, city)\n",
        "print(f'La posicion ubicada de la ciudad es la posicion: ', posicion_ocupada)"
      ]
    },
    {
      "cell_type": "markdown",
      "id": "9fffd532",
      "metadata": {
        "id": "9fffd532"
      },
      "source": [
        "# Actividad: Búsqueda binaria.\n",
        "\n",
        "- Escriba al menos una ventaja de la busqueda binaria.\n",
        "- Replique el código mostrado en la presentación 192.\n",
        "- Explique brevemente el funcionamiento del código, maximo 3 lineas.\n",
        "- Ingrese un piso de ruptura del huevo y calcule cuantas veces se realiza la revisión para encontrar el piso seguro.(Se puede agrear algún contador dentro del código para verificar)\n"
      ]
    },
    {
      "cell_type": "markdown",
      "source": [
        "#Respuesta a ventaja de la busqueda binaria\n",
        "## 1R) = * Una de las principales ventajas es su eficiencia en comparación con la búsqueda lineal, especialmente cuando se trabaja con listas grandes, ya que   tiene un tiempo de ejecución de O(log n)\n",
        "## * Simplicidad en Implementación\n",
        "## * Uso de Recursos: Dado que la búsqueda binaria reduce significativamente el número de comparaciones, también puede ser más eficiente en términos de uso de recursos\n",
        "## * Aplicaciones en Datos Ordenados: La búsqueda binaria es ideal para situaciones donde los datos están ordenados\n",
        "\n",
        "## Posdata si los datos no esta ordenados no se puede usar busqueda binaria\n",
        "\n",
        "##2R)  = * La funcion find_highest_safe_floor2(), encuentra el piso mas alto en el que no se rompre un huevo mediante busqueda binaria\n",
        " ## La funcion do_experiment() es la misma para el experimento de la caida del huevo\n",
        " ## linea 6 = Establece el valor medio como el suelo intermedio entre el minimo y el maximo y realiza el experimento\n",
        " ## Si el huevo no se rompre, cambie el alto a medio para reducir el espacio de busqueda a pisos inferiores\n",
        " ## Si el huevo se rompre, cambie de bajo a medio +1 para reducir el espacio de busqueda a los pisos superiores\n",
        " ## Finaliza la busqueda si el valoe bajo es igual o mayor que el valor alto"
      ],
      "metadata": {
        "id": "4dFnnEGGa1mW"
      },
      "id": "4dFnnEGGa1mW"
    },
    {
      "cell_type": "code",
      "execution_count": 17,
      "id": "bdc866e2",
      "metadata": {
        "id": "bdc866e2",
        "colab": {
          "base_uri": "https://localhost:8080/"
        },
        "outputId": "5baf5dc9-a348-4faa-9a6a-b6996907f7d2"
      },
      "outputs": [
        {
          "output_type": "stream",
          "name": "stdout",
          "text": [
            "Ingrese el número de pisos: 7\n",
            "Ingrese el número del piso donde se romperá el huevo: 5\n",
            "Revisiones realizadas: 3\n",
            "El huevo estará a salvo hasta el piso 4\n"
          ]
        }
      ],
      "source": [
        "def do_experiment(floor, breaking):\n",
        "    return floor >= breaking\n",
        "\n",
        "def find_highest_safe_floor2(height, breaking):\n",
        "    low, high = 1, height\n",
        "    attempts = 0\n",
        "    while low <= high:\n",
        "        mid = (low + high) // 2\n",
        "        attempts += 1\n",
        "        if do_experiment(mid, breaking):\n",
        "            high = mid - 1\n",
        "        else:\n",
        "            low = mid + 1\n",
        "\n",
        "    print(f\"Revisiones realizadas: {attempts}\")\n",
        "    return low - 1\n",
        "\n",
        "height = int(input(\"Ingrese el número de pisos: \"))\n",
        "breaking = int(input(\"Ingrese el número del piso donde se romperá el huevo: \"))\n",
        "floor = find_highest_safe_floor2(height, breaking)\n",
        "print(f\"El huevo estará a salvo hasta el piso {floor}\")"
      ]
    },
    {
      "cell_type": "markdown",
      "id": "eb266a1e",
      "metadata": {
        "id": "eb266a1e"
      },
      "source": [
        "# Actividad: Definir una tabla Hash tipo diccionario.\n",
        "\n",
        "En la siguiente celda se muestrar como crear un diccionario, como agregar elementos, como eliminar elementos,\n",
        "como verificar si la key existe en el diccionario, basados en este código agregue otros elementos, comente los resultados, si tienes alguna duda también la puedes escribir. (Use máximo 3 líneas en la explicación)\n"
      ]
    },
    {
      "cell_type": "code",
      "execution_count": 15,
      "id": "f48163a5",
      "metadata": {
        "id": "f48163a5",
        "colab": {
          "base_uri": "https://localhost:8080/"
        },
        "outputId": "730ca87d-cef4-42ee-82b7-10d9a34c9e04"
      },
      "outputs": [
        {
          "output_type": "stream",
          "name": "stdout",
          "text": [
            "Nombre: Juan\n",
            "Edad: 30\n",
            "Ciudad: Nueva York\n",
            "La clave 'ciudad' no está en el diccionario.\n",
            "--------------------------------------------------\n",
            "Nombre: Alexander\n",
            "Edad: 21\n",
            "Ciudad: Los Teques\n",
            "Profesión: Ingeniero\n",
            "Lenguaje favorito: Python\n",
            "Anime favorito: One Piece\n",
            "Nombre: Alexander\n",
            "Edad: 20\n",
            "Ciudad: Caracas\n",
            "Profesión: Doctor\n",
            "Lenguaje favorito: JavaScript\n",
            "Anime favorito: Naruto\n",
            "La clave 'nombre' está en la tabla hash.\n",
            "La clave 'anime_favorito' no está en la tablaHash.\n"
          ]
        }
      ],
      "source": [
        "# Crear un diccionario vacío\n",
        "mi_diccionario = {}\n",
        "\n",
        "# Agregar elementos al diccionario\n",
        "mi_diccionario[\"nombre\"] = \"Juan\"\n",
        "mi_diccionario[\"edad\"] = 30\n",
        "mi_diccionario[\"ciudad\"] = \"Nueva York\"\n",
        "\n",
        "# Acceder a los valores por clave\n",
        "print(\"Nombre:\", mi_diccionario[\"nombre\"])\n",
        "print(\"Edad:\", mi_diccionario[\"edad\"])\n",
        "print(\"Ciudad:\", mi_diccionario[\"ciudad\"])\n",
        "\n",
        "# Modificar un valor existente\n",
        "mi_diccionario[\"edad\"] = 31\n",
        "\n",
        "# Eliminar un elemento del diccionario\n",
        "del mi_diccionario[\"ciudad\"]\n",
        "\n",
        "# Verificar si una clave existe en el diccionario\n",
        "if \"ciudad\" in mi_diccionario:\n",
        "    print(\"La clave 'ciudad' está en el diccionario.\")\n",
        "else:\n",
        "    print(\"La clave 'ciudad' no está en el diccionario.\")\n",
        "\n",
        "print(50*\"-\")\n",
        "# Crear un diccionario vacío\n",
        "tabla_hash = {}\n",
        "# Agregar elementos a la tabla hash\n",
        "tabla_hash[\"nombre\"] = \"Alexander\"\n",
        "tabla_hash[\"edad\"] = 21\n",
        "tabla_hash[\"ciudad\"] = \"Los Teques\"\n",
        "tabla_hash[\"profesión\"] = \"Ingeniero\"\n",
        "tabla_hash[\"lenguaje_favorito\"] = \"Python\"\n",
        "tabla_hash[\"anime_favorito\"] = \"One Piece\"\n",
        "# Acceder a los valores usando las claves\n",
        "\n",
        "print(\"Nombre:\", tabla_hash[\"nombre\"])  # Salida: Juan\n",
        "print(\"Edad:\", tabla_hash[\"edad\"])      # Salida: 30\n",
        "print(\"Ciudad:\", tabla_hash[\"ciudad\"])  # Salida: Madrid\n",
        "print(\"Profesión:\", tabla_hash[\"profesión\"])\n",
        "print(\"Lenguaje favorito:\", tabla_hash[\"lenguaje_favorito\"])\n",
        "print(\"Anime favorito:\", tabla_hash[\"anime_favorito\"])\n",
        "\n",
        "# Modificar un valor existente\n",
        "tabla_hash[\"edad\"] = 20\n",
        "tabla_hash[\"ciudad\"] = \"Caracas\"\n",
        "tabla_hash[\"profesión\"] = \"Doctor\"\n",
        "tabla_hash[\"lenguaje_favorito\"] = \"JavaScript\"\n",
        "tabla_hash[\"anime_favorito\"] = \"Naruto\"\n",
        "\n",
        "# Accediendo a los valores cambiados:\n",
        "print(\"Nombre:\", tabla_hash[\"nombre\"])\n",
        "print(\"Edad:\", tabla_hash[\"edad\"])\n",
        "print(\"Ciudad:\", tabla_hash[\"ciudad\"])\n",
        "print(\"Profesión:\", tabla_hash[\"profesión\"])\n",
        "print(\"Lenguaje favorito:\", tabla_hash[\"lenguaje_favorito\"])\n",
        "print(\"Anime favorito:\", tabla_hash[\"anime_favorito\"])\n",
        "\n",
        "# Eliminar un elemento de la tabla hash\n",
        "del tabla_hash[\"ciudad\"]\n",
        "del tabla_hash[\"profesión\"]\n",
        "del tabla_hash[\"lenguaje_favorito\"]\n",
        "del tabla_hash[\"anime_favorito\"]\n",
        "\n",
        "# Verificar si una clave existe\n",
        "if \"nombre\" in tabla_hash:\n",
        "    print(\"La clave 'nombre' está en la tabla hash.\")\n",
        "else:\n",
        "    print(\"La clave 'nombre' no está en la tabla hash.\")  # Salida: no está\n",
        "if \"anime_favorito\" in tabla_hash:\n",
        "    print(\"La clave 'anime_favorito' está en la tablaHash.\")\n",
        "else:\n",
        "    print(\"La clave 'anime_favorito' no está en la tablaHash.\")\n"
      ]
    }
  ],
  "metadata": {
    "kernelspec": {
      "display_name": "sep_scraping",
      "language": "python",
      "name": "sep_scraping"
    },
    "language_info": {
      "codemirror_mode": {
        "name": "ipython",
        "version": 3
      },
      "file_extension": ".py",
      "mimetype": "text/x-python",
      "name": "python",
      "nbconvert_exporter": "python",
      "pygments_lexer": "ipython3",
      "version": "3.10.12"
    },
    "colab": {
      "provenance": []
    }
  },
  "nbformat": 4,
  "nbformat_minor": 5
}