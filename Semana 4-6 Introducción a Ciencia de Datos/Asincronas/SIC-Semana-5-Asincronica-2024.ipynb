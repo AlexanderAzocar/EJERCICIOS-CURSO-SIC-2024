{
  "cells": [
    {
      "cell_type": "markdown",
      "id": "5ad8356f",
      "metadata": {
        "id": "5ad8356f"
      },
      "source": [
        "# Actividades Capítulo 5.\n",
        "\n",
        "\n",
        "# Algoritmos de clasificación.\n",
        "\n",
        "## Resumen de actividades\n",
        "\n",
        "\n",
        "- **Unidad 27.** Ordenamiento de burbuja, (Bubble Sort) algoritmo de ordenamiento, selección e inserción\n",
        "- **Unidad 28.** Ordenar por selección, ordenamiento por inserción.\n",
        "- **Unidad 29.** Clasificación rápida\n"
      ]
    },
    {
      "cell_type": "markdown",
      "id": "8c5aa9c8",
      "metadata": {
        "id": "8c5aa9c8"
      },
      "source": [
        "# Actividad: Ordenamiento de Burbuja\n",
        "\n",
        "\n",
        "## Instrucciones\n",
        "\n",
        "1. Explique brevemente y en forma clara cómo funciona el algoritmo de ordenamiento de burbuja.\n",
        "\n",
        "2. Desarrollo un función donde se use el ordenamiento de burbuja aplicada a una lista de valores enteros.\n",
        "\n"
      ]
    },
    {
      "cell_type": "markdown",
      "source": [
        "# Este método simple para ordenar una lista de elementos. Funciona comparando pares de elementos desde el indice 0 hasta -1 y, si están en el orden incorrecto, los intercambia. Este proceso se repite hasta que no se requieren más intercambios, lo que significa que la lista está ordenada.\n",
        "\n"
      ],
      "metadata": {
        "id": "vR4wCzxRG1_D"
      },
      "id": "vR4wCzxRG1_D"
    },
    {
      "cell_type": "code",
      "execution_count": null,
      "id": "90cd2e33",
      "metadata": {
        "id": "90cd2e33",
        "colab": {
          "base_uri": "https://localhost:8080/"
        },
        "outputId": "1d9ba48e-827c-455f-92ff-6ac1b906c2ca"
      },
      "outputs": [
        {
          "output_type": "stream",
          "name": "stdout",
          "text": [
            "[15, 65, 84, 75, 45, 12, 70]\n",
            "[15, 65, 75, 45, 12, 70, 84]\n",
            "[15, 65, 45, 12, 70, 75, 84]\n",
            "[15, 45, 12, 65, 70, 75, 84]\n",
            "[15, 12, 45, 65, 70, 75, 84]\n",
            "[12, 15, 45, 65, 70, 75, 84]\n",
            "[12, 15, 45, 65, 70, 75, 84]\n"
          ]
        },
        {
          "output_type": "execute_result",
          "data": {
            "text/plain": [
              "[12, 15, 45, 65, 70, 75, 84]"
            ]
          },
          "metadata": {},
          "execution_count": 4
        }
      ],
      "source": [
        "# Espacio para desarrollar el código requerido, recuerde agregar algunos\n",
        "# comentarios breves sobre su funcionamiento.\n",
        "\n",
        "ordenamiento_list = [15, 65, 84, 75, 45, 12, 70]\n",
        "\n",
        "def ordenamiento_burbuja(lista):\n",
        "    for i in range(len(lista)):\n",
        "      print(lista)\n",
        "      for j in range(len(lista)-1):\n",
        "          if lista[j] > lista[j+1]:\n",
        "                lista[j], lista[j+1] = lista[j+1], lista[j]\n",
        "    return lista\n",
        "\n",
        "ordenamiento_burbuja(ordenamiento_list)\n",
        "\n",
        "\n",
        "\n",
        "\n",
        "\n"
      ]
    },
    {
      "cell_type": "markdown",
      "id": "a11871f3",
      "metadata": {
        "id": "a11871f3"
      },
      "source": [
        "# Actividad: Función Swap.\n",
        "\n",
        "1. Escriba una función que permita el intercambion de elementos en una lista.\n",
        "2. Los argumentos de esta función serán, la lista y los indices de los elementos que se desean intercambiar.\n",
        "3. En la siguiente celda desarrollo el código requerido, recuerde agregar comentarias breves que expliquen su funcionamiento.\n"
      ]
    },
    {
      "cell_type": "code",
      "execution_count": null,
      "id": "1e7a5371",
      "metadata": {
        "id": "1e7a5371",
        "colab": {
          "base_uri": "https://localhost:8080/"
        },
        "outputId": "663e6164-78f3-451e-a11d-2f6cd45414ea"
      },
      "outputs": [
        {
          "output_type": "stream",
          "name": "stdout",
          "text": [
            "[15, 65, 84, 75, 45, 12, 70]\n"
          ]
        },
        {
          "output_type": "execute_result",
          "data": {
            "text/plain": [
              "[45, 65, 84, 75, 15, 12, 70]"
            ]
          },
          "metadata": {},
          "execution_count": 7
        }
      ],
      "source": [
        "# Espacio para desarrollar la actividad, si tienes alguna duda o comentario adicional\n",
        "# lo puedes dejar planteado acá.\n",
        "list_swap = [15, 65, 84, 75, 45, 12, 70]\n",
        "print(list_swap)\n",
        "def intercambio_elementos(lista, indice1, indice2):\n",
        "    lista[indice1], lista[indice2] = lista[indice2], lista[indice1]\n",
        "    return lista\n",
        "\n",
        "intercambio_elementos(list_swap, 0, 4)\n",
        "\n",
        "\n",
        "\n",
        "\n",
        "\n",
        "\n",
        "\n",
        "\n"
      ]
    },
    {
      "cell_type": "markdown",
      "id": "a207d974",
      "metadata": {
        "id": "a207d974"
      },
      "source": [
        "\n",
        "# Actividad:\n",
        "\n",
        "1. Explique brevemente el funcionamiento del algoritmo Quick Sort.\n",
        "2. Desarrollo el código para implementar el algoritmo Quick Sort.\n",
        "3. Revise las unidad 29, sección 1.1"
      ]
    },
    {
      "cell_type": "markdown",
      "source": [
        "#Su funcionamiento se basa en seleccionar un elemento como pivote y particionar la lista en dos sublistas: una que contiene elementos menores que el pivote y otra con elementos mayores. Luego, aplica el mismo proceso recursivamente a las sublistas."
      ],
      "metadata": {
        "id": "pPwcxKq1IXEj"
      },
      "id": "pPwcxKq1IXEj"
    },
    {
      "cell_type": "code",
      "execution_count": null,
      "id": "a4f925a4",
      "metadata": {
        "id": "a4f925a4",
        "colab": {
          "base_uri": "https://localhost:8080/"
        },
        "outputId": "0dfb794f-9362-4a91-b9ef-7c52b715cf19"
      },
      "outputs": [
        {
          "output_type": "stream",
          "name": "stdout",
          "text": [
            "[15, 65, 84, 75, 45, 12, 70]\n",
            "[15, 65, 84, 75, 45, 12, 70]\n",
            "[15, 12, 84, 75, 45, 65, 70]\n",
            "[12, 15, 84, 75, 45, 65, 70]\n",
            "[12, 15, 84, 75, 45, 65, 70]\n",
            "[12, 15, 70, 75, 45, 65, 84]\n",
            "[12, 15, 70, 75, 45, 65, 84]\n",
            "[12, 15, 70, 65, 45, 75, 84]\n",
            "[12, 15, 45, 65, 70, 75, 84]\n",
            "[12, 15, 45, 65, 70, 75, 84]\n",
            "[12, 15, 45, 65, 70, 75, 84]\n"
          ]
        }
      ],
      "source": [
        "# Celda para desarrollar\n",
        "def particion1(S, low, high):\n",
        "    pivot = S[low]\n",
        "    left, right = low + 1, high\n",
        "    while left <= right:\n",
        "      print(S)\n",
        "      while left <= right and S[left] <= pivot:\n",
        "          left += 1\n",
        "      while left <= right and S[right] >= pivot:\n",
        "          right -= 1\n",
        "      if left <= right:\n",
        "          S[left], S[right] = S[right], S[left]\n",
        "    pivot_point = right\n",
        "    S[low], S[right] = S[right], S[low]\n",
        "    return right\n",
        "\n",
        "def quick_sort1(S, low, high):\n",
        "    if low < high:\n",
        "        print(S)\n",
        "        pivot_point= particion1(S, low, high)\n",
        "        quick_sort1(S, low, pivot_point - 1)\n",
        "        quick_sort1(S, pivot_point + 1, high)\n",
        "\n",
        "s = [15, 65, 84, 75, 45, 12, 70]\n",
        "quick_sort1(s, 0, len(s) - 1)\n",
        "print(s)"
      ]
    },
    {
      "cell_type": "markdown",
      "source": [
        "# Primero se definen 2 fuciones praticion1(s,low,hig), esta funcion toma la lista s y dos indices seleciona un pivote y reorganiza la lista para que los elementos menores del pivote esten a la izquierda y los mayores a la derecha y al final devuelve la posicion final del pivote\n",
        "#Segundo se define la otra funcion llamada quick_sort1(S, low, high): Esta función es la que implementa el algoritmo Quick Sort. Utiliza la función de partición para ordenar recursivamente las sublistas. y el algoritmo usa el metodo divide y venceras\n"
      ],
      "metadata": {
        "id": "jWLdsjDOKmTk"
      },
      "id": "jWLdsjDOKmTk"
    },
    {
      "cell_type": "markdown",
      "id": "26a6bb9e",
      "metadata": {
        "id": "26a6bb9e"
      },
      "source": [
        "# Actividad: Quick Sort usando un valor de pivote aleatorio.\n",
        "\n",
        "1. Explique brevemente el funcionamiento del algoritmo Quick Sort en la modaladidad de usar un valor de pivote aleatorio.\n",
        "2. Comente las ventajas de esta variación.\n",
        "3. Desarrollo el código necesarion para este algoritmo.\n",
        "4. Agregue comentarios sobre su funcionamiento.\n",
        "\n"
      ]
    },
    {
      "cell_type": "code",
      "execution_count": 20,
      "id": "6670eace",
      "metadata": {
        "id": "6670eace",
        "colab": {
          "base_uri": "https://localhost:8080/"
        },
        "outputId": "440d9c5b-cc91-472a-e060-23ec75cc5f9a"
      },
      "outputs": [
        {
          "output_type": "stream",
          "name": "stdout",
          "text": [
            "[12, 65, 84, 75, 45, 15, 70] 1 6 pivot =  12\n",
            "[12, 65, 84, 75, 45, 15, 70] 2 6 pivot =  65\n",
            "[12, 45, 15, 65, 75, 84, 70] 2 2 pivot =  45\n",
            "[12, 15, 45, 65, 75, 84, 70] 5 6 pivot =  75\n",
            "[12, 15, 45, 65, 70, 75, 84]\n"
          ]
        }
      ],
      "source": [
        "# Espacio para desarrollar el código siguiendo las instrucciones.\n",
        "import random  # Importa la librería random para seleccionar un pivote aleatorio\n",
        "\n",
        "def quick_sort2(s, low, high):  # Función principal de ordenamiento\n",
        "    if low < high:  # Comprueba si el rango es válido (hay más de un elemento)\n",
        "        pivot_point2 = particion2(s, low, high)  # Llama a la función de partición y recibe el índice del pivote\n",
        "        quick_sort2(s, low, pivot_point2 - 1)  # Llama recursivamente a quick_sort2 para la parte izquierda\n",
        "        quick_sort2(s, pivot_point2 + 1, high)  # Llama recursivamente a quick_sort2 para la parte derecha\n",
        "\n",
        "def particion2(s, low, high):  # Función para particionar el arreglo\n",
        "    rand = random.randint(low, high)  # Selecciona un índice aleatorio dentro del rango dado\n",
        "    s[low], s[rand] = s[rand], s[low]  # Intercambia el elemento en low con el elemento en el índice aleatorio\n",
        "    pivot, left, right = s[low], low + 1, high  # Establece el pivote y los índices izquierdo y derecho\n",
        "    print(s, left, right, \"pivot = \", pivot)  # Imprime el estado actual del arreglo y el pivote\n",
        "\n",
        "    while left <= right:  # Mientras el índice izquierdo no sobrepase el derecho\n",
        "        while left <= right and s[left] <= pivot:  # Busca el primer elemento mayor que el pivote desde la izquierda\n",
        "            left += 1  # Incrementa el índice izquierdo\n",
        "        while right > low and pivot < s[right]:  # Busca el primer elemento menor que el pivote desde la derecha\n",
        "            right -= 1  # Decrementa el índice derecho\n",
        "\n",
        "        if left <= right:  # Si los índices izquierdo y derecho todavía son válidos\n",
        "            s[left], s[right] = s[right], s[left]  # Intercambia los elementos en los índices izquierdo y derecho\n",
        "\n",
        "    s[low], s[right] = s[right], s[low]  # Coloca el pivote en su posición correcta\n",
        "    return right  # Devuelve el índice del pivote\n",
        "\n",
        "s = [15, 65, 84, 75, 45, 12, 70]  # Lista del ejemplo\n",
        "quick_sort2(s, 0, len(s) - 1)  # Llama a la función quick_sort2 para ordenar la lista\n",
        "print(s)  # Imprime la lista ordenada\n"
      ]
    },
    {
      "cell_type": "markdown",
      "source": [
        "# Este algoritmo puede ser mas eficiente eligiendo un pivote aleatorio en lugar de uno fijo. Esto ayuda a mejorar su rendimiento en la práctica, especialmente en listas que pueden estar ordenadas o casi ordenadas, donde la elección de un pivote fijo puede llevar a un peor rendimiento.\n",
        "# Una de las ventajas es el Mejor Rendimiento Promedio: Al elegir un pivote aleatorio, se reduce la probabilidad de tener una serie de particiones desbalanceadas, mejorando el rendimiento promedio a O(n log n).\n",
        "#Otra ventaja es la Resistencia a Casos Patológicos: La elección aleatoria del pivote hace que el algoritmo sea menos susceptible a listas ya ordenadas o parcialmente ordenadas, donde los algoritmos con pivote fijo podrían fallar y caer en tener mayor complejidad"
      ],
      "metadata": {
        "id": "JgnvTugpLc11"
      },
      "id": "JgnvTugpLc11"
    }
  ],
  "metadata": {
    "kernelspec": {
      "display_name": "Python 3 (ipykernel)",
      "language": "python",
      "name": "python3"
    },
    "language_info": {
      "codemirror_mode": {
        "name": "ipython",
        "version": 3
      },
      "file_extension": ".py",
      "mimetype": "text/x-python",
      "name": "python",
      "nbconvert_exporter": "python",
      "pygments_lexer": "ipython3",
      "version": "3.10.12"
    },
    "colab": {
      "provenance": []
    }
  },
  "nbformat": 4,
  "nbformat_minor": 5
}