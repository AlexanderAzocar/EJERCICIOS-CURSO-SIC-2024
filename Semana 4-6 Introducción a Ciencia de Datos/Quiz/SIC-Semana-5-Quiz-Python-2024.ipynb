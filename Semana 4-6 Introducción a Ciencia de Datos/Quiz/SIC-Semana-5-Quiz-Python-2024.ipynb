{
  "cells": [
    {
      "cell_type": "markdown",
      "id": "5ad8356f",
      "metadata": {
        "id": "5ad8356f"
      },
      "source": [
        "# Coding and Programming\n",
        "\n",
        "## Capítulo 5\n",
        "\n",
        "### Algoritmos de clasificación\n",
        "\n",
        "- **Unidad 27.** Ordenamiento de burbuja, (Bubble Sort) algoritmo de ordenamiento, selección e inserción\n",
        "- **Unidad 28.** Ordenar por selección, ordenamiento por inserción.\n",
        "- **Unidad 29.** Clasificación rápida\n"
      ]
    },
    {
      "cell_type": "markdown",
      "id": "2e42031a",
      "metadata": {
        "id": "2e42031a"
      },
      "source": [
        "___"
      ]
    },
    {
      "cell_type": "markdown",
      "id": "8c5aa9c8",
      "metadata": {
        "id": "8c5aa9c8"
      },
      "source": [
        "## Q 27-01\n",
        "\n",
        "¿Cuántas comparaciones se ejecutaron en el siguiente proceso de ordenamiento de burbuja?\n",
        "```\n",
        "def bubbleSort(S):\n",
        "    n = len(S)\n",
        "    for i in range(n):\n",
        "        print(S)\n",
        "        for j in range(n-1):\n",
        "            if S[j] > S[j+1]:\n",
        "               S[j] , S[j+1] = S[j+1] , S[j]\n",
        "\n",
        "S = [50, 30, 40, 10, 20]\n",
        "bubbleSort(S)\n",
        "print(S)\n",
        "```\n",
        "#### Output\n",
        "```\n",
        "[50, 30, 40, 10, 20]\n",
        "[30, 40, 10, 20, 50]\n",
        "[30, 10, 20, 40, 50]\n",
        "[10, 20, 30, 40, 50]\n",
        "[10, 20, 30, 40, 50]\n",
        "[10, 20, 30, 40, 50]\n",
        "```"
      ]
    },
    {
      "cell_type": "markdown",
      "id": "ac65e987",
      "metadata": {
        "id": "ac65e987"
      },
      "source": [
        "este algortimo de burbuja se ejecutan un total de 20 comparaciones durante el proceso de ordenamiento de la lista. ya que n * (n - 1) comparaciones. Siendo 5 * ( 5 - 1) siendo un total de 20 comparaciones"
      ]
    },
    {
      "cell_type": "markdown",
      "id": "07be4f9d",
      "metadata": {
        "id": "07be4f9d"
      },
      "source": [
        "___"
      ]
    },
    {
      "cell_type": "code",
      "source": [],
      "metadata": {
        "id": "JW-M63LmDhx5"
      },
      "id": "JW-M63LmDhx5",
      "execution_count": null,
      "outputs": []
    },
    {
      "cell_type": "markdown",
      "id": "a11871f3",
      "metadata": {
        "id": "a11871f3"
      },
      "source": [
        "## Q 27-02\n",
        "\n",
        "¿Cuántas comparaciones se ejecutaron en el siguiente proceso de ordenamiento de inserción?\n",
        "```\n",
        "def insertionSort2(S):\n",
        "    n = len(S)\n",
        "    for i in range(1,n):\n",
        "        print(S)\n",
        "        x = S[i]\n",
        "        j = i - 1\n",
        "        while j >= 0 and S[j] > x:\n",
        "            S[j+1] = S[j]\n",
        "            j -= 1\n",
        "        S[j + 1] = x\n",
        "\n",
        "S = [50, 30, 40, 10, 20]\n",
        "insertionSort2(S)\n",
        "print(S)\n",
        "```\n",
        "#### Output\n",
        "```\n",
        "[50, 30, 40, 10, 20]\n",
        "[30, 40, 10, 20, 50]\n",
        "[30, 10, 20, 40, 50]\n",
        "[10, 20, 30, 40, 50]\n",
        "[10, 20, 30, 40, 50]\n",
        "[10, 20, 30, 40, 50]\n",
        "```"
      ]
    },
    {
      "cell_type": "code",
      "execution_count": 1,
      "id": "30a1c729",
      "metadata": {
        "colab": {
          "base_uri": "https://localhost:8080/"
        },
        "id": "30a1c729",
        "outputId": "e815a4df-2fdc-4288-c7e7-953fadde3b33"
      },
      "outputs": [
        {
          "output_type": "stream",
          "name": "stdout",
          "text": [
            "[50, 30, 40, 10, 20]\n",
            "Cantidad de veces que se realizó la comparación: 2\n",
            "[30, 50, 40, 10, 20]\n",
            "Cantidad de veces que se realizó la comparación: 4\n",
            "[30, 40, 50, 10, 20]\n",
            "Cantidad de veces que se realizó la comparación: 8\n",
            "[10, 30, 40, 50, 20]\n",
            "Cantidad de veces que se realizó la comparación: 12\n",
            "[10, 20, 30, 40, 50]\n"
          ]
        }
      ],
      "source": [
        "def insertionSort2(S):\n",
        "    n = len(S)\n",
        "    counter = 0\n",
        "    for i in range(1,n):\n",
        "        print(S)\n",
        "        x = S[i]\n",
        "        j = i - 1\n",
        "        counter += 1\n",
        "        while j >= 0 and S[j] > x:\n",
        "            counter += 1\n",
        "            S[j+1] = S[j]\n",
        "            j -= 1\n",
        "        S[j + 1] = x\n",
        "        print(f'Cantidad de veces que se realizó la comparación: {counter}')\n",
        "\n",
        "\n",
        "S = [50, 30, 40, 10, 20]\n",
        "insertionSort2(S)\n",
        "print(S)"
      ]
    },
    {
      "cell_type": "markdown",
      "source": [
        "Este algoritmo tiene un total de 12 comparaciones"
      ],
      "metadata": {
        "id": "b1gyxKNrETIv"
      },
      "id": "b1gyxKNrETIv"
    },
    {
      "cell_type": "markdown",
      "id": "05c7586b",
      "metadata": {
        "id": "05c7586b"
      },
      "source": [
        "___"
      ]
    },
    {
      "cell_type": "code",
      "source": [
        "def mergesort2(S, low, high, counter):\n",
        "    counter[0] += 1\n",
        "    if low < high:\n",
        "        print(S)\n",
        "        mid = (low + high) // 2\n",
        "        mergesort2(S, low, mid, counter)\n",
        "        mergesort2(S, mid + 1, high, counter)\n",
        "        merge2(S, low, mid, high, counter)\n",
        "\n",
        "def merge2(S, low, mid, high, counter):\n",
        "    counter[1] += 1\n",
        "    R = []\n",
        "    i, j = low, mid + 1\n",
        "\n",
        "    while i <= mid and j <= high:\n",
        "        if S[i] < S[j]:\n",
        "            R.append(S[i])\n",
        "            i += 1\n",
        "        else:\n",
        "            R.append(S[j])\n",
        "            j += 1\n",
        "\n",
        "    if i > mid:\n",
        "        for k in range(j, high + 1):\n",
        "            R.append(S[k])\n",
        "    else:\n",
        "        for k in range(i, mid + 1):\n",
        "            R.append(S[k])\n",
        "\n",
        "    for k in range(len(R)):\n",
        "        S[low + k] = R[k]\n",
        "\n",
        "S = [6,2,11,7,5,4,8,16,10,3]\n",
        "counter = [0, 0]\n",
        "mergesort2(S, 0, len(S)-1, counter)\n",
        "print(f'La cantidad total de ejecuciones de mergesort2 fue de: {counter[0]}')\n",
        "print(f'La cantidad total de ejecuciones de merge2 fue de: {counter[1]}')"
      ],
      "metadata": {
        "colab": {
          "base_uri": "https://localhost:8080/"
        },
        "id": "Seaa2diuEzg3",
        "outputId": "b193e2d1-cabe-43aa-eb56-6a7eac64a22d"
      },
      "id": "Seaa2diuEzg3",
      "execution_count": 2,
      "outputs": [
        {
          "output_type": "stream",
          "name": "stdout",
          "text": [
            "[6, 2, 11, 7, 5, 4, 8, 16, 10, 3]\n",
            "[6, 2, 11, 7, 5, 4, 8, 16, 10, 3]\n",
            "[6, 2, 11, 7, 5, 4, 8, 16, 10, 3]\n",
            "[6, 2, 11, 7, 5, 4, 8, 16, 10, 3]\n",
            "[2, 6, 11, 7, 5, 4, 8, 16, 10, 3]\n",
            "[2, 5, 6, 7, 11, 4, 8, 16, 10, 3]\n",
            "[2, 5, 6, 7, 11, 4, 8, 16, 10, 3]\n",
            "[2, 5, 6, 7, 11, 4, 8, 16, 10, 3]\n",
            "[2, 5, 6, 7, 11, 4, 8, 16, 10, 3]\n",
            "La cantidad total de ejecuciones de mergesort2 fue de: 19\n",
            "La cantidad total de ejecuciones de merge2 fue de: 9\n"
          ]
        }
      ]
    },
    {
      "cell_type": "markdown",
      "id": "a207d974",
      "metadata": {
        "id": "a207d974"
      },
      "source": [
        "## Q 28-01\n",
        "\n",
        "¿Cuántas veces se ejecuta la función `merge2()` en el siguiente proceso de ordenamiento por fusión?\n",
        "```\n",
        "S = [6,2,11,7,5,4,8,16,10,3]\n",
        "mergeSort2(S, 0, len(S)-1)\n",
        "print(S)\n",
        "```"
      ]
    },
    {
      "cell_type": "markdown",
      "source": [
        "#La funcion merge2() tiene un total de 9 comparaciones"
      ],
      "metadata": {
        "id": "2kthU6NuFQWP"
      },
      "id": "2kthU6NuFQWP"
    },
    {
      "cell_type": "markdown",
      "id": "f0d1a419",
      "metadata": {
        "id": "f0d1a419"
      },
      "source": [
        "___"
      ]
    },
    {
      "cell_type": "markdown",
      "id": "26a6bb9e",
      "metadata": {
        "id": "26a6bb9e"
      },
      "source": [
        "## Q 29-01\n",
        "\n",
        "Dada la lista a continuación, escriba la salida después de ejecutar la función `partition1()`\n",
        "```\n",
        "S = [15,10,12,20,25,13,22]\n",
        "partition1(S, 0, len(S)-1)\n",
        "print(S)\n",
        "```\n",
        "#### Output\n",
        "```\n",
        "[15,10,12,20,25,13,22] 0 6 pivot = 15\n",
        "...\n",
        "```\n"
      ]
    },
    {
      "cell_type": "markdown",
      "id": "5c53b843",
      "metadata": {
        "id": "5c53b843"
      },
      "source": [
        "___"
      ]
    },
    {
      "cell_type": "code",
      "source": [
        "def partition1(S, low, high):\n",
        "    pivot = S[low]\n",
        "    left, right = low + 1, high\n",
        "\n",
        "    print(S, low, high, 'pivot =', pivot)\n",
        "\n",
        "    while left < right:\n",
        "        while left <= right and S[left] <= pivot:\n",
        "            left += 1\n",
        "        while left <= right and S[right] >= pivot:\n",
        "            right -= 1\n",
        "        if left < right:\n",
        "            S[left], S[right] = S[right], S[left]\n",
        "    pivotpoint = right\n",
        "    S[low], S[pivotpoint] = S[pivotpoint], S[low]\n",
        "    return pivotpoint\n",
        "\n",
        "S = [15,10,12,20,25,13,22]\n",
        "partition1(S, 0, len(S)-1)\n",
        "print(S)"
      ],
      "metadata": {
        "colab": {
          "base_uri": "https://localhost:8080/"
        },
        "id": "2FdvgRt-Fg8J",
        "outputId": "85f8c008-86c7-40e1-c689-1aa40aaa1bf4"
      },
      "id": "2FdvgRt-Fg8J",
      "execution_count": 3,
      "outputs": [
        {
          "output_type": "stream",
          "name": "stdout",
          "text": [
            "[15, 10, 12, 20, 25, 13, 22] 0 6 pivot = 15\n",
            "[13, 10, 12, 15, 25, 20, 22]\n"
          ]
        }
      ]
    },
    {
      "cell_type": "markdown",
      "id": "896ee09a",
      "metadata": {
        "id": "896ee09a"
      },
      "source": [
        "# Fin"
      ]
    }
  ],
  "metadata": {
    "kernelspec": {
      "display_name": "Python 3 (ipykernel)",
      "language": "python",
      "name": "python3"
    },
    "language_info": {
      "codemirror_mode": {
        "name": "ipython",
        "version": 3
      },
      "file_extension": ".py",
      "mimetype": "text/x-python",
      "name": "python",
      "nbconvert_exporter": "python",
      "pygments_lexer": "ipython3",
      "version": "3.10.12"
    },
    "colab": {
      "provenance": []
    }
  },
  "nbformat": 4,
  "nbformat_minor": 5
}