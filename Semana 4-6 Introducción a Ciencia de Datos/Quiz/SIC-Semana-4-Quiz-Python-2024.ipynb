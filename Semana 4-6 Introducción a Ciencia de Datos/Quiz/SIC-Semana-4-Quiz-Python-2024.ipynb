{
  "cells": [
    {
      "cell_type": "markdown",
      "id": "5d671b98",
      "metadata": {
        "id": "5d671b98"
      },
      "source": [
        "# Coding and Programming\n",
        "\n",
        "## Capítulo 4\n",
        "\n",
        "### Estructuras de Datos\n",
        "\n",
        "- **Unidad 17.** Pila\n",
        "- **Unidad 18.** Cola\n",
        "- **Unidad 19.** Búsqueda Binaria\n",
        "- **Unidad 20.** Tabla Hash\n",
        "\n",
        "# Quiz 4"
      ]
    },
    {
      "cell_type": "markdown",
      "id": "2e42031a",
      "metadata": {
        "id": "2e42031a"
      },
      "source": [
        "___"
      ]
    },
    {
      "cell_type": "markdown",
      "id": "33866775",
      "metadata": {
        "id": "33866775"
      },
      "source": [
        "## Q 22-01\n",
        "\n",
        "La siguiente es la implantación de una pila. ¿Cuál será el resultado del siguiente código?\n",
        "\n",
        "```\n",
        "stack = Stack()\n",
        "stack.push(\"Banana\")\n",
        "stack.push(\"Apple\")\n",
        "stack.push(\"Tomato\")\n",
        "stack.pop()\n",
        "stack.push(\"Strawberry\")\n",
        "stack.push(\"Grapes\")\n",
        "stack.pop()\n",
        "print(stack.stack)\n",
        "```\n",
        "\n",
        "**Respuesta:**"
      ]
    },
    {
      "cell_type": "code",
      "source": [
        "class Stack:\n",
        "    def __init__(self):\n",
        "        self.stack = []\n",
        "    def push(self, item):\n",
        "        self.stack.append(item)\n",
        "    def pop(self):\n",
        "        if self.stack:\n",
        "            return self.stack.pop()\n",
        "    def __is_empty__(self):\n",
        "        return self.stack == []"
      ],
      "metadata": {
        "id": "U1G4QR8BCD4m"
      },
      "id": "U1G4QR8BCD4m",
      "execution_count": 2,
      "outputs": []
    },
    {
      "cell_type": "code",
      "source": [
        "stack = Stack() #esta creando una pila que tiene una clase pila\n",
        "stack.push(\"Banana\") #esta agregando una banana a la clase pila\n",
        "stack.push(\"Apple\") #esta agregando una manzana a la clase pila\n",
        "stack.push(\"Tomato\") #esta agregando un tomate a la clase pila\n",
        "stack.pop() #elimina el ultimo elemento de la clase pila que seria el ultimo que entro tomate\n",
        "stack.push(\"Strawberry\") # esta agregando una fresa a la clase pila\n",
        "stack.push(\"Grapes\") # esta agregando una uva a la clase pila\n",
        "stack.pop() #elimina el ultimo elemento de la clase pila que seria el ultimo que entro uva\n",
        "print(stack.stack) #imprime la pila de la clase pila"
      ],
      "metadata": {
        "colab": {
          "base_uri": "https://localhost:8080/"
        },
        "id": "R-_NO8wT3jlG",
        "outputId": "173825b6-e99f-4021-f33f-3948cab171e9"
      },
      "id": "R-_NO8wT3jlG",
      "execution_count": 3,
      "outputs": [
        {
          "output_type": "stream",
          "name": "stdout",
          "text": [
            "['Banana', 'Apple', 'Strawberry']\n"
          ]
        }
      ]
    },
    {
      "cell_type": "markdown",
      "source": [
        "#El resultado es una lista que tiene estos elementos los cuales son: ['Banana', 'Apple', 'Strawberry']"
      ],
      "metadata": {
        "id": "lzdsYyAXzgIH"
      },
      "id": "lzdsYyAXzgIH"
    },
    {
      "cell_type": "markdown",
      "id": "2dbba0e2",
      "metadata": {
        "id": "2dbba0e2"
      },
      "source": [
        "___"
      ]
    },
    {
      "cell_type": "markdown",
      "id": "8d8ca892",
      "metadata": {
        "id": "8d8ca892"
      },
      "source": [
        "## Q 22-02\n",
        "\n",
        "La siguiente es la implantación de una pila. ¿Cuál será el resultado del siguiente código?\n",
        "\n",
        "```\n",
        "stack = Stack()\n",
        "items = [10 * i for i in range(1,10)]\n",
        "for item in items:\n",
        "    stack.push(item)\n",
        "    if (item // 10) % 2 == 0:\n",
        "        stack.pop()\n",
        "print(stack.stack)\n",
        "```\n",
        "\n",
        "**Respuesta:**"
      ]
    },
    {
      "cell_type": "code",
      "source": [
        "stack = Stack()\n",
        "items = [10 * i for i in range(1,10)]\n",
        "for item in items:\n",
        "    stack.push(item)\n",
        "    if (item // 10) % 2 == 0:\n",
        "        stack.pop()\n",
        "print(stack.stack)"
      ],
      "metadata": {
        "colab": {
          "base_uri": "https://localhost:8080/"
        },
        "id": "PnGZrvEACRU1",
        "outputId": "2df7cba1-cf87-45d4-f491-f6bf67b9e4ea"
      },
      "id": "PnGZrvEACRU1",
      "execution_count": 3,
      "outputs": [
        {
          "output_type": "stream",
          "name": "stdout",
          "text": [
            "[10, 30, 50, 70, 90]\n"
          ]
        }
      ]
    },
    {
      "cell_type": "markdown",
      "source": [
        "#El resultado es una lista que tiene estos elementos los cuales son: [10, 30, 50, 70, 90]\n",
        "\n"
      ],
      "metadata": {
        "id": "5fIJxxoFyS6W"
      },
      "id": "5fIJxxoFyS6W"
    },
    {
      "cell_type": "markdown",
      "id": "9c101740",
      "metadata": {
        "id": "9c101740"
      },
      "source": [
        "___"
      ]
    },
    {
      "cell_type": "markdown",
      "id": "490f04a8",
      "metadata": {
        "id": "490f04a8"
      },
      "source": [
        "## Q 23-01\n",
        "\n",
        "La siguiente es la implantación de una pila. ¿Cuál será el resultado del siguiente código?\n",
        "\n",
        "```\n",
        "queue = Queue()\n",
        "queue.enqueue(\"Banana\")\n",
        "queue.enqueue(\"Apple\")\n",
        "queue.enqueue(\"Tomato\")\n",
        "queue.dequeue()\n",
        "queue.enqueue(\"Strawberry\")\n",
        "queue.enqueue(\"Grapes\")\n",
        "queue.dequeue()\n",
        "print(queue.queue)\n",
        "```\n",
        "\n",
        "**Respuesta:**"
      ]
    },
    {
      "cell_type": "markdown",
      "source": [
        "#La clase Queue es tipo cola o pila? por lo que veo es una cola pero por si acaso hice el ejercicio como dice el enunciado profe pa que sepa"
      ],
      "metadata": {
        "id": "YwS4V0FhE-M2"
      },
      "id": "YwS4V0FhE-M2"
    },
    {
      "cell_type": "code",
      "source": [
        "queue = Queue() #esta creando una pila llamada queue que tiene una clase pila\n",
        "queue.enqueue(\"Banana\") #esta agregando una banana a la clase queue\n",
        "queue.enqueue(\"Apple\") #esta agregando una manzana a la clase queue\n",
        "queue.enqueue(\"Tomato\") #esta agregando un tomate a la clase queue\n",
        "queue.dequeue() #elimina el elemento con index 0 dentro de la pila queue de la clase pila que seria el primer elemento que entro que seria banana\n",
        "queue.enqueue(\"Strawberry\") #esta agregando una frea a la clase queue\n",
        "queue.enqueue(\"Grapes\") #esta agregando una uva a la clase queue\n",
        "queue.dequeue() #elimina el elemento con index 0 dentro de la pila queue de la clase pila que seria el primer elemento que entro que seria manzana\n",
        "print(queue.queue) #imprime la pila de la clase queue"
      ],
      "metadata": {
        "colab": {
          "base_uri": "https://localhost:8080/"
        },
        "id": "e_7HQ13MDpr1",
        "outputId": "af812cf1-fb3e-42f2-a46d-4b63f6da5f09"
      },
      "id": "e_7HQ13MDpr1",
      "execution_count": 7,
      "outputs": [
        {
          "output_type": "stream",
          "name": "stdout",
          "text": [
            "['Tomato', 'Strawberry', 'Grapes']\n"
          ]
        }
      ]
    },
    {
      "cell_type": "markdown",
      "source": [
        "#el resultado tiene es una lista con estos elementor: ['Tomato', 'Strawberry', 'Grapes']\n",
        "\n"
      ],
      "metadata": {
        "id": "kK4PJOUOzRYO"
      },
      "id": "kK4PJOUOzRYO"
    },
    {
      "cell_type": "markdown",
      "id": "4811d8fa",
      "metadata": {
        "id": "4811d8fa"
      },
      "source": [
        "___"
      ]
    },
    {
      "cell_type": "markdown",
      "id": "680514b8",
      "metadata": {
        "id": "680514b8"
      },
      "source": [
        "## Q 23-02\n",
        "\n",
        "La siguiente es la implantación de una cola. ¿Cuál será el resultado del siguiente código?\n",
        "\n",
        "```\n",
        "queue = Queue()\n",
        "items = [10 * i for i in range(1,10)]\n",
        "for item in items:\n",
        "    queue.enqueue(item)\n",
        "    if (item // 10) % 2 == 0:\n",
        "        queue.dequeue()\n",
        "print(queue.queue)\n",
        "```\n",
        "\n",
        "**Respuesta:**"
      ]
    },
    {
      "cell_type": "markdown",
      "id": "d1399404",
      "metadata": {
        "id": "d1399404"
      },
      "source": [
        "#El resultado de la cola es una lista con estos elemtos [50, 60, 70, 80, 90]\n",
        "\n",
        "\n",
        "\n"
      ]
    },
    {
      "cell_type": "markdown",
      "id": "b16e0741",
      "metadata": {
        "id": "b16e0741"
      },
      "source": [
        "___"
      ]
    },
    {
      "cell_type": "markdown",
      "id": "5f2fe9e8",
      "metadata": {
        "id": "5f2fe9e8"
      },
      "source": [
        "## Q 24-01\n",
        "\n",
        "¿Cuál es el algoritmo de la siguiente función `find_two()`?\n",
        "```\n",
        "def find_two():\n",
        "    x = y = 0\n",
        "    for i in range(1, len(nums)):\n",
        "        if nums[x] < nums[i]:\n",
        "            x = i\n",
        "        elif nums[y] > nums[i]:\n",
        "            y = i\n",
        "    return x,y\n",
        "\n",
        "nums = [11, 37, 45, 26, 59, 28, 17, 53]\n",
        "i,j = find_two(nums)\n",
        "print(nums[i], nums[j])\n",
        "```\n",
        "Analice el código y escriba el resultado de la ejecución."
      ]
    },
    {
      "cell_type": "markdown",
      "id": "0407f911",
      "metadata": {
        "id": "0407f911"
      },
      "source": [
        "#Este algoritmo de la funcion find_two, lo que hace es encontrar el numero mayor y menor de una lista que se la pasas como parametro a la funcion y con el ciclo for itera en todos los elementos que hay en esa lista y con los comparadores if,elif compara el iterador con la variable x, y. Viendo asi cual es mayor y menor y despues retorna esos dos valores, que en este caso 59 es el mayor y 11 es el menor\n",
        "\n"
      ]
    },
    {
      "cell_type": "markdown",
      "id": "bba31171",
      "metadata": {
        "id": "bba31171"
      },
      "source": [
        "___"
      ]
    },
    {
      "cell_type": "markdown",
      "id": "36e47747",
      "metadata": {
        "id": "36e47747"
      },
      "source": [
        "## Q 24-02\n",
        "\n",
        "¿Cuántas comparaciones debe realizar la función `find_two()` implementada en la pregunta anterior (24-01)?"
      ]
    },
    {
      "cell_type": "markdown",
      "id": "560f7505",
      "metadata": {
        "id": "560f7505"
      },
      "source": [
        "# Deben realizarse varias comparaciones para saber quien es mayor y quien es menor se tienen que hacer entre 7 y 14 comparaciones,  por ejemplo, con el for itera en cada elemento de la lista, con  el if si el numero de la lista es menor que el iterador entonces x pasa a tener el valor del iterador i, y con el elif, si nums es mayor a el iterador pasa a tener el valor del iterador la variable y"
      ]
    },
    {
      "cell_type": "markdown",
      "id": "976b7b8e",
      "metadata": {
        "id": "976b7b8e"
      },
      "source": [
        "___"
      ]
    },
    {
      "cell_type": "markdown",
      "id": "9fffd532",
      "metadata": {
        "id": "9fffd532"
      },
      "source": [
        "## Q 25-01\n",
        "\n",
        "El siguiente es el código para el juego de combinación de números.\n",
        "\n",
        "Si el máximo es 100 y el número es 51, ¿cuál es la salida de `count`?\n",
        "```\n",
        "from random import randint\n",
        "\n",
        "maximo = int(input(\"Ingrese el número maximo: \"))\n",
        "numero = int(input(\"Ingrese tu intento de adivinar el numero: \"))\n",
        "low, high = 1, maximo\n",
        "count = 0\n",
        "while low < high:\n",
        "    count += 1\n",
        "    mid = (low + high) // 2\n",
        "    if mid == numero:\n",
        "        print(f\"El número es {numero}\")\n",
        "        break\n",
        "    elif mid > numero:\n",
        "        high = mid - 1\n",
        "    else:\n",
        "        low  = mid + 1\n",
        "\n",
        "print(f\"Total {count} veces fue buscado.\")\n",
        "```"
      ]
    },
    {
      "cell_type": "code",
      "source": [
        "from random import randint\n",
        "maximo = int(input(\"Ingrese el número maximo: \"))\n",
        "numero = int(input(\"Ingrese tu intento de adivinar el numero: \"))\n",
        "low, high = 1, maximo\n",
        "count = 0\n",
        "while low < high:\n",
        "    count += 1\n",
        "    mid = (low + high) // 2\n",
        "    if mid == numero:\n",
        "        print(f\"El número es {numero}\")\n",
        "        break\n",
        "    elif mid > numero:\n",
        "        high = mid - 1\n",
        "    else:\n",
        "        low  = mid + 1\n",
        "\n",
        "print(f\"Total {count} veces fue buscado.\")"
      ],
      "metadata": {
        "colab": {
          "base_uri": "https://localhost:8080/"
        },
        "id": "yUKlmhFjFkN1",
        "outputId": "7356812a-79d3-4134-db49-4b50713f4d28"
      },
      "id": "yUKlmhFjFkN1",
      "execution_count": 11,
      "outputs": [
        {
          "output_type": "stream",
          "name": "stdout",
          "text": [
            "Ingrese el número maximo: 100\n",
            "Ingrese tu intento de adivinar el numero: 25\n",
            "El número es 25\n",
            "Total 2 veces fue buscado.\n"
          ]
        }
      ]
    },
    {
      "cell_type": "markdown",
      "id": "2a351b8a",
      "metadata": {
        "id": "2a351b8a"
      },
      "source": [
        "# La salida de count es de 6"
      ]
    },
    {
      "cell_type": "markdown",
      "id": "c29e1c0c",
      "metadata": {
        "id": "c29e1c0c"
      },
      "source": [
        "___"
      ]
    },
    {
      "cell_type": "markdown",
      "id": "c185d96c",
      "metadata": {
        "id": "c185d96c"
      },
      "source": [
        "## Q 25-02\n",
        "\n",
        "En el código del juego de combinación de números, si el máximo es 100 y el número es 25, ¿cuál es el resultado del conteo?"
      ]
    },
    {
      "cell_type": "markdown",
      "id": "27353ddf",
      "metadata": {
        "id": "27353ddf"
      },
      "source": [
        "# la salida de count es de 2 veces buscado"
      ]
    },
    {
      "cell_type": "markdown",
      "id": "662d5bfd",
      "metadata": {
        "id": "662d5bfd"
      },
      "source": [
        "___"
      ]
    },
    {
      "cell_type": "markdown",
      "id": "eb266a1e",
      "metadata": {
        "id": "eb266a1e"
      },
      "source": [
        "## Q 26-01\n",
        "\n",
        "Usando la función hash de la clase HashTable, calcule la clave y la clave hash de \"Alicia en el país de las maravillas\" de la siguiente manera. (El valor clave es 1763.)\n",
        "```\n",
        "table = HashTable(8)\n",
        "book  = \"Alice in Wonderland\"\n",
        "key = sum(map(ord, book))\n",
        "print(key, table.hash(key))\n",
        "```"
      ]
    },
    {
      "cell_type": "code",
      "source": [
        "class HashTable:\n",
        "    def __init__(self, size):\n",
        "        self.size = size\n",
        "        self.table = {}\n",
        "        for i in range(size):\n",
        "            self.table[i] = []\n",
        "\n",
        "    def put(self, key, value):\n",
        "        self.table[key].append(value)\n",
        "\n",
        "    def get(self, key):\n",
        "        return self.table[key]\n",
        "\n",
        "    def hash(self, key):\n",
        "        return key % self.size"
      ],
      "metadata": {
        "id": "5cCZ6bSR4tkm"
      },
      "id": "5cCZ6bSR4tkm",
      "execution_count": 61,
      "outputs": []
    },
    {
      "cell_type": "code",
      "source": [
        "table = HashTable(8)\n",
        "book  = \"Alice inWonderland\"\n",
        "key = sum(map(ord, book))\n",
        "print(key, table.hash(key))"
      ],
      "metadata": {
        "colab": {
          "base_uri": "https://localhost:8080/"
        },
        "id": "Mx8heKhhyMId",
        "outputId": "b2021e18-9035-4b0c-f928-e3c5f6a260ac"
      },
      "id": "Mx8heKhhyMId",
      "execution_count": 64,
      "outputs": [
        {
          "output_type": "stream",
          "name": "stdout",
          "text": [
            "1763 3\n"
          ]
        }
      ]
    },
    {
      "cell_type": "markdown",
      "id": "d4fd6f63",
      "metadata": {
        "id": "d4fd6f63"
      },
      "source": [
        "## Q 26-02\n",
        "\n",
        "> Añadir blockquote\n",
        "\n",
        "\n",
        "\n",
        "Si la nueva estantería tiene 10 compartimentos, usa el siguiente código para averiguar qué libro hay en cada compartimento.\n",
        "```\n",
        "table = HashTable(10)\n",
        "books = [\n",
        "    \"The Little Prince\",\n",
        "    \"The Old Man and the Sea\",\n",
        "    \"The Little Memaid\",\n",
        "    \"Beauty and the Beast\",\n",
        "    \"The Last Leaf\",\n",
        "    \"Alice in Wonderland\",\n",
        "]\n",
        "\n",
        "for book in books:\n",
        "    key = sum(map(ord, book))\n",
        "    table.put(key, book)\n",
        "\n",
        "for key in table.table.key():\n",
        "    print(key, table.table[key])\n",
        "```"
      ]
    },
    {
      "cell_type": "code",
      "source": [
        "table = HashTable(10)\n",
        "books = [\n",
        "    \"The Little Prince\",\n",
        "    \"The Old Man and the Sea\",\n",
        "    \"The Little Mermaid\",\n",
        "    \"Beauty and the Beast\",\n",
        "    \"The Last Leaf\",\n",
        "    \"Alice in Wonderland\",\n",
        "]\n",
        "\n",
        "for book in books:\n",
        "    key = sum(map(ord, book))\n",
        "    hash_key = table.hash(key)\n",
        "    table.put(hash_key, book)\n",
        "\n",
        "for key in table.table.keys():\n",
        "    print(key, table.table[key])"
      ],
      "metadata": {
        "colab": {
          "base_uri": "https://localhost:8080/"
        },
        "id": "4BbxyWCl4Qr2",
        "outputId": "1da28e61-7381-4bfb-f517-66d1742511c4"
      },
      "id": "4BbxyWCl4Qr2",
      "execution_count": 49,
      "outputs": [
        {
          "output_type": "stream",
          "name": "stdout",
          "text": [
            "0 []\n",
            "1 []\n",
            "2 []\n",
            "3 ['The Last Leaf']\n",
            "4 ['The Little Prince']\n",
            "5 ['Alice in Wonderland']\n",
            "6 []\n",
            "7 ['Beauty and the Beast']\n",
            "8 ['The Little Mermaid']\n",
            "9 ['The Old Man and the Sea']\n"
          ]
        }
      ]
    },
    {
      "cell_type": "markdown",
      "id": "574b1c0f",
      "metadata": {
        "id": "574b1c0f"
      },
      "source": [
        "___"
      ]
    },
    {
      "cell_type": "markdown",
      "id": "7f165fb5",
      "metadata": {
        "id": "7f165fb5"
      },
      "source": [
        "# Fin"
      ]
    }
  ],
  "metadata": {
    "kernelspec": {
      "display_name": "Python 3 (ipykernel)",
      "language": "python",
      "name": "python3"
    },
    "language_info": {
      "codemirror_mode": {
        "name": "ipython",
        "version": 3
      },
      "file_extension": ".py",
      "mimetype": "text/x-python",
      "name": "python",
      "nbconvert_exporter": "python",
      "pygments_lexer": "ipython3",
      "version": "3.10.12"
    },
    "colab": {
      "provenance": []
    }
  },
  "nbformat": 4,
  "nbformat_minor": 5
}