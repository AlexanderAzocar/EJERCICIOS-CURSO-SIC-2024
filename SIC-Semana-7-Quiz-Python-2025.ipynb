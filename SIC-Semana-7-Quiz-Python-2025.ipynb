{
  "cells": [
    {
      "cell_type": "markdown",
      "id": "49909eb6",
      "metadata": {
        "id": "49909eb6"
      },
      "source": [
        "# Coding and Programming\n",
        "\n",
        "## Capítulo 6\n",
        "\n",
        "### Resolución de problemas con algoritmos\n",
        "\n",
        "- **Unidad 30.** Enfoque Greedy algoritmos voraces o ávidos.\n",
        "- **Unidad 31.** Divide y vencerás\n",
        "- **Unidad 32.** Programación dinámica\n",
        "- **Unidad 33.** Backtracking\n"
      ]
    },
    {
      "cell_type": "markdown",
      "id": "2e42031a",
      "metadata": {
        "id": "2e42031a"
      },
      "source": [
        "___"
      ]
    },
    {
      "cell_type": "markdown",
      "id": "780f0fff",
      "metadata": {
        "id": "780f0fff"
      },
      "source": [
        "## Q 30-01\n",
        "\n",
        "Este es el problema del intercambio de monedas.\n",
        "\n",
        "Tienes una moneda de 400 wones.\n",
        "\n",
        "Escriba el resultado de cómo el algoritmo `coin_change()` determina el cambio de la moneda de 800 wones.\n",
        "```\n",
        "coins  = [500, 400, 100, 50, 10]\n",
        "amount = int(input(\"Ingrese la cantidad: \"))\n",
        "changes= coin_change(coins, amount)\n",
        "print(changes, len(changes))\n",
        "\n",
        "Ingrese la cantidad: 800\n",
        "```"
      ]
    },
    {
      "cell_type": "markdown",
      "id": "8d0b8eb8",
      "metadata": {
        "id": "8d0b8eb8"
      },
      "source": []
    },
    {
      "cell_type": "code",
      "source": [
        "def cambio_moneda(monedas, monto):\n",
        "    cambio = []\n",
        "    mayor = 0\n",
        "    while monto > 0: #caso base\n",
        "        if monto < monedas[mayor]: #verificar la viabilidad\n",
        "            mayor += 1\n",
        "        else:\n",
        "            cambio.append(monedas[mayor]) #comprobacion de solucion\n",
        "            monto -= monedas[mayor]\n",
        "    return cambio"
      ],
      "metadata": {
        "id": "aqFQGsJSbfUE"
      },
      "id": "aqFQGsJSbfUE",
      "execution_count": null,
      "outputs": []
    },
    {
      "cell_type": "code",
      "source": [
        "monedas = [500, 400, 100, 50, 10]\n",
        "monto = int(input(\"Ingrese la cantidad: \"))\n",
        "changes = cambio_moneda(monedas, monto)\n",
        "print(changes, len(changes))\n",
        "#Imprime 500,100,100,100 porque el algoritmo ´primero busca la moneda de mayor valor para dar el cambio despues evalua y busca otra moneda de igual o menor valor al monto asi hasta llegar a 0"
      ],
      "metadata": {
        "colab": {
          "base_uri": "https://localhost:8080/"
        },
        "id": "Lbx1Jh0u0SaN",
        "outputId": "ac13ccd5-a87d-4561-e273-12b5a9b5e173"
      },
      "id": "Lbx1Jh0u0SaN",
      "execution_count": null,
      "outputs": [
        {
          "output_type": "stream",
          "name": "stdout",
          "text": [
            "Ingrese la cantidad: 800\n",
            "[500, 100, 100, 100] 4\n"
          ]
        }
      ]
    },
    {
      "cell_type": "markdown",
      "id": "ca15d3cf",
      "metadata": {
        "id": "ca15d3cf"
      },
      "source": [
        "___"
      ]
    },
    {
      "cell_type": "markdown",
      "id": "89395b47",
      "metadata": {
        "id": "89395b47"
      },
      "source": [
        "## Q 31-01\n",
        "\n",
        "Tienes 8 monedas idénticas numeradas del 1 al 8. De estas, solo una moneda es más pesada que la otra.\n",
        "\n",
        "Suponiendo que puede pesar monedas con una balanza equilibrada, diseñe un algoritmo que encuentre la moneda más pesada.\n",
        "\n",
        "En este momento, ¿cuántas veces se debe usar al menos la balanza?"
      ]
    },
    {
      "cell_type": "markdown",
      "id": "8d05fa5e",
      "metadata": {
        "id": "8d05fa5e"
      },
      "source": []
    },
    {
      "cell_type": "markdown",
      "id": "9c37e736",
      "metadata": {
        "id": "9c37e736"
      },
      "source": [
        "___"
      ]
    },
    {
      "cell_type": "code",
      "source": [
        "monedas = [1, 2, 3, 4, 5, 6, 7, 8]\n",
        "def pesar_monedas(monedas):\n",
        "    izquierda = 0\n",
        "    derecha = len(monedas) - 1\n",
        "    while izquierda < derecha:\n",
        "        print(izquierda, derecha)\n",
        "        medio = (izquierda + derecha) // 2\n",
        "        if monedas[medio] == medio + 1:\n",
        "            izquierda = medio + 1\n",
        "        else:\n",
        "            derecha = medio\n",
        "    return izquierda + 1\n",
        "\n",
        "print(pesar_monedas(monedas))"
      ],
      "metadata": {
        "colab": {
          "base_uri": "https://localhost:8080/"
        },
        "id": "m-tRbokbdCUU",
        "outputId": "c61e0a70-59e9-4fa4-f8a1-7f10108184bf"
      },
      "id": "m-tRbokbdCUU",
      "execution_count": 1,
      "outputs": [
        {
          "output_type": "stream",
          "name": "stdout",
          "text": [
            "0 7\n",
            "4 7\n",
            "6 7\n",
            "8\n"
          ]
        }
      ]
    },
    {
      "cell_type": "markdown",
      "source": [
        "#Utilice una bandera para asi poder identificar cada ves que se usa la balanza para comparar que moneda es mas pesada que la otra, se deben usar al menos 3 veces la balanza en este aalgoritmo\n"
      ],
      "metadata": {
        "id": "R6o-DY1ipxSv"
      },
      "id": "R6o-DY1ipxSv"
    },
    {
      "cell_type": "markdown",
      "id": "6f047403",
      "metadata": {
        "id": "6f047403"
      },
      "source": [
        "## Q 31-02\n",
        "\n",
        "Hay nueve monedas idénticas numeradas del 1 al 9 en el problema anterior.\n",
        "\n",
        "Diseñe un algoritmo para encontrar una moneda pesada en este caso.\n",
        "\n",
        "En este momento, ¿cuántas veces se debe usar al menos la balanza?"
      ]
    },
    {
      "cell_type": "markdown",
      "id": "41e80a15",
      "metadata": {
        "id": "41e80a15"
      },
      "source": []
    },
    {
      "cell_type": "markdown",
      "id": "0453c475",
      "metadata": {
        "id": "0453c475"
      },
      "source": [
        "___"
      ]
    },
    {
      "cell_type": "code",
      "source": [
        "def encontrar_moneda_pesada(monedas):\n",
        "  grupo1 = monedas[:3]\n",
        "  grupo2 = monedas[3:6]\n",
        "  if sum(grupo1) > sum(grupo2):  # Grupo 1 es más pesado\n",
        "    grupo_pesado = grupo1\n",
        "  elif sum(grupo1) < sum(grupo2): # Grupo 2 es más pesado\n",
        "    grupo_pesado = grupo2\n",
        "  else:  # Grupo 3 es más pesado\n",
        "    grupo_pesado = monedas[6:]\n",
        "  # Pesaje 2: Comparar las monedas dentro del grupo pesado\n",
        "  moneda_a = grupo_pesado[0]\n",
        "  moneda_b = grupo_pesado[1]\n",
        "  if moneda_a > moneda_b:  # Moneda A es más pesada\n",
        "    return moneda_a\n",
        "  elif moneda_a < moneda_b:  # Moneda B es más pesada\n",
        "    return moneda_b\n",
        "  else:                      # Moneda C es más pesada\n",
        "    return grupo_pesado[2]\n",
        "\n",
        "monedas = [1, 2, 3, 4, 5, 6, 7, 8, 9]  # Reemplaza con los pesos reales de las monedas si es necesario\n",
        "moneda_pesada = encontrar_moneda_pesada(monedas)\n",
        "print(\"La moneda más pesada es:\", moneda_pesada)"
      ],
      "metadata": {
        "colab": {
          "base_uri": "https://localhost:8080/"
        },
        "id": "qMHXa7QMtQfu",
        "outputId": "b3ed9f4d-8e5b-4739-a619-9d5d19dc7d33"
      },
      "id": "qMHXa7QMtQfu",
      "execution_count": 16,
      "outputs": [
        {
          "output_type": "stream",
          "name": "stdout",
          "text": [
            "La moneda más pesada es: 5\n"
          ]
        }
      ]
    },
    {
      "cell_type": "markdown",
      "source": [
        "#Este algoritmo realiza un total de 5 comparaciones para encontrar la moneda más pesada entre el conjunto de monedas."
      ],
      "metadata": {
        "id": "59_LcW-gwxpO"
      },
      "id": "59_LcW-gwxpO"
    },
    {
      "cell_type": "markdown",
      "id": "881569fc",
      "metadata": {
        "id": "881569fc"
      },
      "source": [
        "## Q 32-01\n",
        "\n",
        "Analice el resultado de la ejecución del siguiente código y compárelo con el rendimiento de las funciones `fib1()`, `fib2()` y `fib3()`.\n",
        "```\n",
        "def fib4(n):\n",
        "    if n <= 1:\n",
        "        return n\n",
        "    else:\n",
        "        a,b = 0,1\n",
        "        for i in range(2, n + 1):\n",
        "            a,b = b,a+b\n",
        "        return b\n",
        "\n",
        "N = int(input(\"Ingrese un numero: \"))\n",
        "print(fib4(N))\n",
        "\n",
        "\n",
        "Ingrese un numero:\n",
        "```\n"
      ]
    },
    {
      "cell_type": "markdown",
      "id": "25354b5c",
      "metadata": {
        "id": "25354b5c"
      },
      "source": [
        "##def fib4(n): Esta línea define una función llamada fib4 que toma un argumento n, que representa la posición del número de Fibonacci\n",
        "##if n <= 1: Esta línea verifica si n es menor o igual a 1. Si es así, la función simplemente devuelve n\n",
        "##else:: Si n es mayor que 1, el código dentro del bloque else se ejecutará.\n",
        "##for i in range(2, n + 1): Este bucle for itera desde 2 hasta n. La variable i\n",
        "##a,b = b,a+b: Esta es la línea clave que calcula el siguiente número de Fibonacci\n",
        "##return b: Después de que el bucle for ha completado todas las iteraciones, la función devuelve el valor de b"
      ]
    },
    {
      "cell_type": "markdown",
      "source": [
        "#la funcion bin 4, tiene una Complejidad Temporal: O(n). Esta función itera desde 2 hasta n, calculando el número de Fibonacci en tiempo lineal y su Complejidad Espacial: O(1). Solo utiliza un número constante de variables (a y b), independientemente del tamaño de n.\n",
        "#La Función 4 (fib4) es la más eficiente en términos de espacio y tiempo. Su enfoque iterativo permite calcular el número de Fibonacci en tiempo lineal y con un uso constante de espacio."
      ],
      "metadata": {
        "id": "XkBFC2gErbuP"
      },
      "id": "XkBFC2gErbuP"
    },
    {
      "cell_type": "markdown",
      "id": "60d998bd",
      "metadata": {
        "id": "60d998bd"
      },
      "source": [
        "___"
      ]
    },
    {
      "cell_type": "code",
      "source": [
        "def fib4(n):\n",
        "    if n <= 1:\n",
        "        return n\n",
        "    else:\n",
        "        a,b = 0,1\n",
        "        for i in range(2, n + 1):\n",
        "            a,b = b,a+b\n",
        "        return b\n",
        "\n",
        "N = int(input(\"Ingrese un numero: \"))\n",
        "print(fib4(N))"
      ],
      "metadata": {
        "colab": {
          "base_uri": "https://localhost:8080/"
        },
        "id": "2YvLKeSriwY-",
        "outputId": "79b83aa8-f9af-430b-949b-bcad998872e8"
      },
      "id": "2YvLKeSriwY-",
      "execution_count": null,
      "outputs": [
        {
          "output_type": "stream",
          "name": "stdout",
          "text": [
            "Ingrese un numero: 10\n",
            "55\n"
          ]
        }
      ]
    },
    {
      "cell_type": "markdown",
      "id": "1087c522",
      "metadata": {
        "id": "1087c522"
      },
      "source": [
        "## Q 32-02\n",
        "\n",
        "Analice el resultado de la ejecución del siguiente código y compárelo con el rendimiento de las funciones `bin1()` y `bin2()`.\n",
        "```\n",
        "def bin3(n,k):\n",
        "    B = [0] * (n + 1)\n",
        "    for i in range(n + 1):\n",
        "        for j in range(n, -1, -1):\n",
        "            if j==0 or j==i:\n",
        "                B[j] = 1\n",
        "            else:\n",
        "                B[j] = B[j] B[j-1]\n",
        "    return B[k]\n",
        "\n",
        "\n",
        "for i in range(10):\n",
        "    for j in range(i+1):\n",
        "        print(bin3(i,j),end=\" \")\n",
        "    print()\n",
        "```"
      ]
    },
    {
      "cell_type": "markdown",
      "id": "a0df2e98",
      "metadata": {
        "id": "a0df2e98"
      },
      "source": [
        "##def bin3(n,k): Esta línea define una función llamada bin3 que toma dos argumentos: n y k\n",
        "## B = [0] * (n + 1): Se crea una lista B con n + 1 elementos, todos inicializados en 0.\n",
        "##for i in range(n + 1): Este bucle externo itera i desde 0 hasta n.\n",
        "##for j in range(n, -1, -1): Este bucle interno itera j desde n hasta 0 (en orden descendente).\n",
        "##if j==0 or j==i: Si j es 0 o igual a i, se asigna el valor 1 a B[j]. Esto se debe a que el coeficiente binomial es siempre 1 cuando se eligen 0 elementos o cuando se eligen todos los elementos (i).\n",
        "##else: Si j no es 0 ni igual a i, se calcula el coeficiente binomial usando la siguiente fórmula: B[j] = B[j] + B[j-1]\n",
        "##B[j] = B[j] + B[j-1]. Esta fórmula se basa en la propiedad de Pascal del triángulo de Pascal\n",
        "##return B[k]: Después de que los bucles hayan completado todas las iteraciones, la función devuelve el valor de B[k], que representa el coeficiente binomial para elegir k elementos de un conjunto de n elementos."
      ]
    },
    {
      "cell_type": "markdown",
      "source": [
        "#comparacion de la funcion bin1,bin2 y bin3\n",
        "## el algoritmo bin3 tiene una Complejidad Temporal: O(n). Similar a fib2, aunque se utiliza una lista para almacenar los resultados\n",
        "#Eficiencia: La Función 1 (fib1) es la menos eficiente debido a su complejidad exponencial. Para valores grandes de n, se vuelve impracticable.\n",
        "#Memorización: Tanto la Función 2 (fib2) como la Función 3 (fib3) son mucho más eficientes, con complejidades lineales. Ambas evitan cálculos redundantes."
      ],
      "metadata": {
        "id": "W-rzT05sqDUn"
      },
      "id": "W-rzT05sqDUn"
    },
    {
      "cell_type": "markdown",
      "id": "7cef2a44",
      "metadata": {
        "id": "7cef2a44"
      },
      "source": [
        "___"
      ]
    },
    {
      "cell_type": "code",
      "source": [
        "def bin3(n,k):\n",
        "    B = [0] * (n + 1)\n",
        "    for i in range(n + 1):\n",
        "        for j in range(n, -1, -1):\n",
        "            if j==0 or j==i:\n",
        "                B[j] = 1\n",
        "            else:\n",
        "                B[j] = B[j] + B[j-1]\n",
        "    return B[k]\n",
        "\n",
        "\n",
        "for i in range(10):\n",
        "    for j in range(i+1):\n",
        "        print(bin3(i,j),end=\" \")\n",
        "    print()"
      ],
      "metadata": {
        "colab": {
          "base_uri": "https://localhost:8080/"
        },
        "id": "pAwAb6V1i9ZF",
        "outputId": "30a858d7-48d7-4435-8edb-d596ee5effec"
      },
      "id": "pAwAb6V1i9ZF",
      "execution_count": null,
      "outputs": [
        {
          "output_type": "stream",
          "name": "stdout",
          "text": [
            "1 \n",
            "1 1 \n",
            "1 2 1 \n",
            "1 3 3 1 \n",
            "1 4 6 4 1 \n",
            "1 5 10 10 5 1 \n",
            "1 6 15 20 15 6 1 \n",
            "1 7 21 35 35 21 7 1 \n",
            "1 8 28 56 70 56 28 8 1 \n",
            "1 9 36 84 126 126 84 36 9 1 \n"
          ]
        }
      ]
    },
    {
      "cell_type": "markdown",
      "id": "d36e67d4",
      "metadata": {
        "id": "d36e67d4"
      },
      "source": [
        "## Q 33-01\n",
        "\n",
        "Si reemplaza cada letra con un número en la siguiente letra, el número correspondiente a las cinco palabras son todos cuadrados.\n",
        "\n",
        "Para cada palabra, la suma de cada dígito también es un número cuadrado.\n",
        "\n",
        "Encuentra el número representado por cada letra.\n",
        "\n",
        "**Código de referencia:**"
      ]
    },
    {
      "cell_type": "code",
      "execution_count": 5,
      "id": "13991ae0",
      "metadata": {
        "colab": {
          "base_uri": "https://localhost:8080/"
        },
        "id": "13991ae0",
        "outputId": "37eab89e-44e7-42ec-e505-3f87c316ea4a"
      },
      "outputs": [
        {
          "output_type": "stream",
          "name": "stdout",
          "text": [
            "A: 9\n",
            "TO: 81\n",
            "ALL: 900\n",
            "XMAS: 7396\n",
            "MERRY: 34225\n",
            "Elapsed Time: 0.0034232139587402344 seconds\n"
          ]
        }
      ],
      "source": [
        "from math import sqrt, floor\n",
        "import time\n",
        "\n",
        "def is_square_digitsum(n):\n",
        "    s = 0\n",
        "    while n > 0:\n",
        "         s += n % 10\n",
        "         n//= 10\n",
        "    if sqrt(s) == int(sqrt(s)):\n",
        "        return True\n",
        "    return False\n",
        "\n",
        "def find_all_squares():\n",
        "    sqrs = [[] for _ in range(5)]\n",
        "    for i in range(1, floor (sqrt(10 ** 5)) + 1):\n",
        "        n = i * i\n",
        "        if not is_square_digitsum(n):\n",
        "            continue\n",
        "        s = str(n)\n",
        "        if len(s) == 3 and s[1] != s[2]:\n",
        "            continue\n",
        "        if len(s) == 5 and s[2] != s[3]:\n",
        "            continue\n",
        "        if len(s) in [4, 5] and len(set(s)) != 4:\n",
        "            continue\n",
        "        sqrs[len(s) - 1].append(n)\n",
        "    return sqrs\n",
        "\n",
        "def promising (s, n, dic):\n",
        "    for i in range(len(s)):\n",
        "        digit = int(str(n)[i])\n",
        "        for key, value in dic.items():\n",
        "            if key == s[i] and value != digit:\n",
        "                return False\n",
        "            if value == digit and key != s[i]:\n",
        "                return False\n",
        "    return True\n",
        "\n",
        "def solve(words, dic, squares):\n",
        "    global solved\n",
        "    if (len(words) == 0):\n",
        "        solved = dic\n",
        "    else:\n",
        "        s = words[0]\n",
        "        candidates = squares[len(s) - 1]\n",
        "        for n in candidates:\n",
        "            if promising(s, n, dic):\n",
        "                newdic = dic.copy()\n",
        "                for i in range(len(s)):\n",
        "                    newdic[s[i]] = int(str(n)[i])\n",
        "                solve(words [1:], newdic, squares)\n",
        "\n",
        "def main():\n",
        "    squares = find_all_squares()\n",
        "    # print(squares)\n",
        "    words = ['A', 'TO', 'ALL', 'XMAS', 'MERRY']\n",
        "    dic = {}\n",
        "    solve (words, dic, squares)\n",
        "    for word in words:\n",
        "        print (word, end=\": \")\n",
        "        for c in word:\n",
        "            print(solved[c], end=\"\")\n",
        "        print()\n",
        "\n",
        "start = time.time()\n",
        "solved = {}\n",
        "main()\n",
        "end = time.time()\n",
        "print(\"Elapsed Time:\", end-start,\"seconds\")"
      ]
    },
    {
      "cell_type": "markdown",
      "id": "0a7153c2",
      "metadata": {
        "id": "0a7153c2"
      },
      "source": []
    },
    {
      "cell_type": "markdown",
      "id": "d31d23cb",
      "metadata": {
        "id": "d31d23cb"
      },
      "source": [
        "___"
      ]
    },
    {
      "cell_type": "markdown",
      "id": "c815e543",
      "metadata": {
        "id": "c815e543"
      },
      "source": [
        "# Fin"
      ]
    }
  ],
  "metadata": {
    "kernelspec": {
      "display_name": "Python 3 (ipykernel)",
      "language": "python",
      "name": "python3"
    },
    "language_info": {
      "codemirror_mode": {
        "name": "ipython",
        "version": 3
      },
      "file_extension": ".py",
      "mimetype": "text/x-python",
      "name": "python",
      "nbconvert_exporter": "python",
      "pygments_lexer": "ipython3",
      "version": "3.10.12"
    },
    "colab": {
      "provenance": []
    }
  },
  "nbformat": 4,
  "nbformat_minor": 5
}