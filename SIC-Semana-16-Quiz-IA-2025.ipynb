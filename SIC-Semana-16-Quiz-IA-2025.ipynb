{
  "cells": [
    {
      "cell_type": "markdown",
      "id": "f34adb44",
      "metadata": {
        "id": "f34adb44"
      },
      "source": [
        "# Inteligencia Artificial\n",
        "\n",
        "## Capítulo 6\n",
        "\n",
        "### Machine Learning / Aprendizaje no Supervisado\n",
        "\n",
        "- **Unidad 1.** Algoritmo de Machine Learning/aprendizaje automático no supervisado\n",
        "- **Unidad 2.** Clustering jerárquico (agrupación de la información en base a las palabras)\n",
        "- **Unidad 3.** Clustering no jerárquico\n",
        "- **Unidad 4.** Modelo factorial lineal para la reducción de la dimensionalidad\n",
        "\n",
        "# Quiz"
      ]
    },
    {
      "cell_type": "markdown",
      "id": "2e42031a",
      "metadata": {
        "id": "2e42031a"
      },
      "source": [
        "___"
      ]
    },
    {
      "cell_type": "markdown",
      "id": "ac1e9b02",
      "metadata": {
        "id": "ac1e9b02"
      },
      "source": [
        "## Q 06-01\n",
        "\n",
        "### ¿Cuál de las siguientes afirmaciones sobre el aprendizaje es incorrecta?\n",
        "1) El aprendizaje supervisado utiliza tanto datos de entrada como datos de aprendizaje dado un resultado, pero el aprendizaje no supervisado se utiliza en forma de aprendizaje que utiliza solo datos de entrada sin datos de aprendizaje.\n",
        "2) Se puede decir que el aprendizaje no supervisado es un método de aprendizaje que informa el problema pero no da la respuesta.\n",
        "3) Como algoritmo de aprendizaje no supervisado, se pueden utilizar el análisis de agrupamiento jerárquico y el agrupamiento de K-medias para la agrupación.\n",
        "4) La agrupación de K-medias tiene la ventaja de que es fácil determinar el número inicial de agrupaciones y fácil de interpretar los resultados."
      ]
    },
    {
      "cell_type": "markdown",
      "id": "903e6874",
      "metadata": {
        "id": "903e6874"
      },
      "source": [
        "## Respuesta Q 06-01\n",
        "# La afirmacion numero 4 es la incorrecta"
      ]
    },
    {
      "cell_type": "markdown",
      "id": "26e1df49",
      "metadata": {
        "id": "26e1df49"
      },
      "source": [
        "___"
      ]
    },
    {
      "cell_type": "markdown",
      "id": "87a3a925",
      "metadata": {
        "id": "87a3a925"
      },
      "source": [
        "## Q 06-02\n",
        "\n",
        "### ¿Cuál de las siguientes afirmaciones sobre la agrupación es incorrecta?\n",
        "\n",
        "1) La técnica de agrupación más utilizada es K-Means.\n",
        "2) La agrupación jerárquica se decide después de la agrupación sin determinar el número de grupos.\n",
        "3) El algoritmo de agrupamiento jerárquico tiene K-Medoids.\n",
        "4) La agrupación es una técnica que asigna y analiza grupos en función de la similitud o diferencia entre cada entidad."
      ]
    },
    {
      "cell_type": "markdown",
      "id": "62678495",
      "metadata": {
        "id": "62678495"
      },
      "source": [
        "## Respuesta Q 06-02\n",
        "# La afirmacion numero 3 es la incorrecta\n",
        "\n",
        "\n",
        "\n"
      ]
    },
    {
      "cell_type": "markdown",
      "id": "203a055b",
      "metadata": {
        "id": "203a055b"
      },
      "source": [
        "___"
      ]
    },
    {
      "cell_type": "markdown",
      "id": "8c115f28",
      "metadata": {
        "id": "8c115f28"
      },
      "source": [
        "## Q 06-03\n",
        "\n",
        "### El algoritmo EM pertenece al algoritmo codicioso. Por favor explique el motivo."
      ]
    },
    {
      "cell_type": "markdown",
      "id": "4b66252e",
      "metadata": {
        "id": "4b66252e"
      },
      "source": [
        "#El algoritmo EM no es codicioso, ya que su enfoque no se basa en tomar decisiones locales sin mirar el panorama general. Es un algoritmo iterativo que busca maximizar la verosimilitud global de un modelo, lo cual lo coloca más en la categoría de algoritmos de optimización iterativa en lugar de algoritmos codiciosos.\n",
        "\n"
      ]
    },
    {
      "cell_type": "markdown",
      "id": "7410bc11",
      "metadata": {
        "id": "7410bc11"
      },
      "source": [
        "___"
      ]
    },
    {
      "cell_type": "markdown",
      "id": "410f8980",
      "metadata": {
        "id": "410f8980"
      },
      "source": [
        "## Q 06-04\n",
        "\n",
        "### Escribe tres o más ejemplos de algoritmo de clustering"
      ]
    },
    {
      "cell_type": "markdown",
      "source": [
        "## Respuesta Q 06-04\n",
        "\n",
        "1.    K-means\n",
        "2.    DBSCAN\n",
        "3.    Jerárquico"
      ],
      "metadata": {
        "id": "FIr-897nvhsc"
      },
      "id": "FIr-897nvhsc"
    },
    {
      "cell_type": "markdown",
      "id": "ba019f33",
      "metadata": {
        "id": "ba019f33"
      },
      "source": [
        "___"
      ]
    },
    {
      "cell_type": "markdown",
      "source": [
        "##Respuesta Q 06-04\n",
        "#K-means, DBSCAN, Jerárquico."
      ],
      "metadata": {
        "id": "CwC8lDAGwlog"
      },
      "id": "CwC8lDAGwlog"
    },
    {
      "cell_type": "markdown",
      "id": "d4b76da3",
      "metadata": {
        "id": "d4b76da3"
      },
      "source": [
        "## Q 06-05\n",
        "\n",
        "### Explique los dos métodos para elegir el número óptimo de cluters cuando se utilizan k-medias. Describa cómo encontrar el número óptimo de clusters utilizando los dos métodos."
      ]
    },
    {
      "cell_type": "markdown",
      "id": "20998ef3",
      "metadata": {
        "id": "20998ef3"
      },
      "source": [
        "## Respuesta Q 06-04\n",
        "# El Método del Codo busca el valor de k donde la disminución de la inercia (error cuadrático) se desacelera, indicando el número óptimo de clústeres.\n",
        "#El Método de la Silueta evalúa la calidad del agrupamiento midiendo qué tan bien se asigna cada punto a su clúster y la separación entre clústeres, y selecciona el k que maximiza este índice.\n",
        "# Mientras el Método del Codo es más visual y rápido, el Método de la Silueta es más preciso en la evaluación de la calidad del agrupamiento. Ambos métodos a menudo se usan juntos para confirmar el número óptimo de clústeres."
      ]
    },
    {
      "cell_type": "markdown",
      "id": "aa90491d",
      "metadata": {
        "id": "aa90491d"
      },
      "source": [
        "___"
      ]
    },
    {
      "cell_type": "markdown",
      "id": "ed04e881",
      "metadata": {
        "id": "ed04e881"
      },
      "source": [
        "## Fin"
      ]
    }
  ],
  "metadata": {
    "kernelspec": {
      "display_name": "Python 3 (ipykernel)",
      "language": "python",
      "name": "python3"
    },
    "language_info": {
      "codemirror_mode": {
        "name": "ipython",
        "version": 3
      },
      "file_extension": ".py",
      "mimetype": "text/x-python",
      "name": "python",
      "nbconvert_exporter": "python",
      "pygments_lexer": "ipython3",
      "version": "3.10.12"
    },
    "colab": {
      "provenance": []
    }
  },
  "nbformat": 4,
  "nbformat_minor": 5
}