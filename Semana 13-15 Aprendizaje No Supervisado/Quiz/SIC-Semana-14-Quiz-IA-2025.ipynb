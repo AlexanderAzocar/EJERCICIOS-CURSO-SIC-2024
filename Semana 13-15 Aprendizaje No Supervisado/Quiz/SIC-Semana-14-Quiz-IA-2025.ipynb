{
  "cells": [
    {
      "cell_type": "markdown",
      "id": "f34adb44",
      "metadata": {
        "id": "f34adb44"
      },
      "source": [
        "# Inteligencia Artificial\n",
        "\n",
        "## Capítulo 5\n",
        "\n",
        "### Machine Learning / Aprendizaje Supervisado\n",
        "\n",
        "- **Unidad 1.** Análisis de datos basado en el aprendizaje automático\n",
        "- **Unidad 2.** Aplicación del modelo de aprendizaje supervisado para la predicción numérica\n",
        "- **Unidad 3.** Aplicación del modelo de aprendizaje supervisado para la clasificación\n",
        "- **Unidad 4.** Árbol de decisión\n",
        "- **Unidad 5.** Algoritmo Naïve Bayes (Algoritmo de predicción)\n",
        "- **Unidad 6.** Algoritmo KNN\n",
        "- **Unidad 7.** Algoritmo SVM\n",
        "- **Unidad 8.** Algoritmos Ensemble\n",
        "\n",
        "# Quiz"
      ]
    },
    {
      "cell_type": "markdown",
      "id": "2e42031a",
      "metadata": {
        "id": "2e42031a"
      },
      "source": [
        "___"
      ]
    },
    {
      "cell_type": "markdown",
      "id": "ac1e9b02",
      "metadata": {
        "id": "ac1e9b02"
      },
      "source": [
        "## Q 05-01\n",
        "\n",
        "### ¿Cuál de las siguientes afirmaciones sobre el aprendizaje supervisado es incorrecta?\n",
        "\n",
        "1. El aprendiz supervisado debe hacer predicciones correctamente con los datos dados a partir de los datos de entrenamiento.\n",
        "2. La precisión es la relación entre lo que el modelo clasifica como verdadero y lo que realmente clasifica como verdadero. A esto se le puede llamar la tasa de respuesta.\n",
        "3. La relación de recuerdo es la relación entre lo que el modelo predice que es verdadero y lo que es realmente cierto.\n",
        "4. La relación de recuperación se calcula como $\\frac{tp}{tp+fp}$. (donde $tp$ es verdadero positivo y $fp$ es falso positivo).\n",
        "\n",
        "**Respuesta:**"
      ]
    },
    {
      "cell_type": "markdown",
      "id": "903e6874",
      "metadata": {
        "id": "903e6874"
      },
      "source": [
        "##Respuesta Q 05-01\n",
        "#la afirmacion 2 es la incorrecta"
      ]
    },
    {
      "cell_type": "markdown",
      "id": "26e1df49",
      "metadata": {
        "id": "26e1df49"
      },
      "source": [
        "___"
      ]
    },
    {
      "cell_type": "markdown",
      "id": "87a3a925",
      "metadata": {
        "id": "87a3a925"
      },
      "source": [
        "## Q 05-02\n",
        "\n",
        "### ¿Cuál es el método de estimación de los coeficientes de regresión en el análisis de regresión?"
      ]
    },
    {
      "cell_type": "markdown",
      "id": "62678495",
      "metadata": {
        "id": "62678495"
      },
      "source": [
        "##Respuesta Q 05-02\n",
        "# El método para estimar los coeficientes de regresión en un análisis de regresión es el Método de Mínimos Cuadrados Ordinarios (MCO),con el fin de minimizar los errores y estimar los coeficientes. ya que proporciona una forma objetiva y matemáticamente sólida de encontrar la mejor línea de ajuste para un conjunto de datos"
      ]
    },
    {
      "cell_type": "markdown",
      "id": "203a055b",
      "metadata": {
        "id": "203a055b"
      },
      "source": [
        "___"
      ]
    },
    {
      "cell_type": "markdown",
      "id": "8c115f28",
      "metadata": {
        "id": "8c115f28"
      },
      "source": [
        "## Q 05-03\n",
        "\n",
        "### ¿Cuál de las siguientes afirmaciones sobre el sobreajuste es incorrecta?\n",
        "\n",
        "1. Una característica de un patrón que se encuentra en un conjunto de datos específico que existe solo en ese conjunto de datos, o una característica de un patrón que no se generaliza y existe solo en un dato específico se denomina sobreajuste\n",
        "2. Los métodos de extracción utilizados para resolver el problema de sobreajuste incluyen el método de exclusión, el método de validación cruzada, el método de arranque, etc.\n",
        "3. En el método de reserva, la validación cruzada se realiza dividiendo los datos de entrenamiento para el aprendizaje y la construcción del modelo y los datos de verificación para la evaluación del desempeño, y los resultados de los datos de verificación se usan solo para la medición del desempeño sin afectar el modelo.\n",
        "4. El método de validación cruzada es un método para volver a seleccionar datos de entrenamiento repetidamente y en función de la extracción de restauración, y es adecuado cuando la cantidad total de datos no es grande.\n",
        "\n",
        "**Respuesta:**"
      ]
    },
    {
      "cell_type": "markdown",
      "id": "4b66252e",
      "metadata": {
        "id": "4b66252e"
      },
      "source": [
        "##Respuesta Q 05-03\n",
        "# la afirmacion 4 es la incorrecta"
      ]
    },
    {
      "cell_type": "markdown",
      "id": "7410bc11",
      "metadata": {
        "id": "7410bc11"
      },
      "source": [
        "___"
      ]
    },
    {
      "cell_type": "markdown",
      "id": "410f8980",
      "metadata": {
        "id": "410f8980"
      },
      "source": [
        "## Q 05-04\n",
        "\n",
        "### ¿Cuál de las siguientes afirmaciones sobre el modelo de árbol de decisión es incorrecta?\n",
        "\n",
        "1. Los árboles de decisión se utilizan para la predicción de quiebras corporativas, la predicción del tope del precio de las acciones, la predicción del tipo de cambio y la predicción de las perspectivas económicas.\n",
        "2. El algoritmo CHAID (detección automática de interacción chi-cuadrado) es un algoritmo que realiza la separación mediante la prueba chi-cuadrado o F.\n",
        "3. El algoritmo CART (árboles de clasificación y regresión) es un algoritmo que realiza la separación utilizando el índice Gini, y 100 representa un nodo perfectamente puro entre 0 y 100.\n",
        "4. El índice de entropía del algoritmo C4.5 se puede obtener utilizando la estadística de prueba de razón de verosimilitud en la distribución polinómica y restando la entropía del nodo hijo de la entropía del nodo padre.\n",
        "\n",
        "**Respuesta:**"
      ]
    },
    {
      "cell_type": "markdown",
      "id": "b239c413",
      "metadata": {
        "id": "b239c413"
      },
      "source": [
        "## Respuesta Q 05-04\n",
        "# la afirmacion 4 es la incorrecta"
      ]
    },
    {
      "cell_type": "markdown",
      "id": "ba019f33",
      "metadata": {
        "id": "ba019f33"
      },
      "source": [
        "___"
      ]
    },
    {
      "cell_type": "markdown",
      "source": [],
      "metadata": {
        "id": "Zx1hePkBra20"
      },
      "id": "Zx1hePkBra20"
    },
    {
      "cell_type": "markdown",
      "id": "d4b76da3",
      "metadata": {
        "id": "d4b76da3"
      },
      "source": [
        "## Q 05-05\n",
        "\n",
        "### Cuando entrené un clasificador SVM usando el kernel RBF, parece no adaptarse al conjunto de entrenamiento. ¿Deberíamos aumentar o disminuir gamma? ¿Qué pasa con C?\n"
      ]
    },
    {
      "cell_type": "markdown",
      "id": "20998ef3",
      "metadata": {
        "id": "20998ef3"
      },
      "source": [
        "## Respuesta Q 05-05\n",
        "# Primero revisando que el SVM con kernel RBF no se ajusta bien a los datos de entrenamiento, es probable que sea un problema de sobreajuste o subajuste. Para identificar el problema, se observa el rendimiento del modelo en el conjunto de prueba. Si el modelo tiene un alto rendimiento en el conjunto de entrenamiento pero un bajo rendimiento en el conjunto de prueba, es probable que este sufriendo de sobreajuste. En ese caso se  intenta disminuir gamma y aumentar C para simplificar el modelo. Por otro lado, si el modelo tiene un bajo rendimiento tanto en el conjunto de entrenamiento como en el de prueba, es probable que sea un subajuste. En ese caso, se deberia intentar aumentar gamma y disminuir C para hacer que el modelo sea más complejo."
      ]
    },
    {
      "cell_type": "markdown",
      "id": "aa90491d",
      "metadata": {
        "id": "aa90491d"
      },
      "source": [
        "___"
      ]
    },
    {
      "cell_type": "markdown",
      "id": "ed04e881",
      "metadata": {
        "id": "ed04e881"
      },
      "source": [
        "## Fin"
      ]
    }
  ],
  "metadata": {
    "kernelspec": {
      "display_name": "Python 3 (ipykernel)",
      "language": "python",
      "name": "python3"
    },
    "language_info": {
      "codemirror_mode": {
        "name": "ipython",
        "version": 3
      },
      "file_extension": ".py",
      "mimetype": "text/x-python",
      "name": "python",
      "nbconvert_exporter": "python",
      "pygments_lexer": "ipython3",
      "version": "3.10.12"
    },
    "colab": {
      "provenance": []
    }
  },
  "nbformat": 4,
  "nbformat_minor": 5
}