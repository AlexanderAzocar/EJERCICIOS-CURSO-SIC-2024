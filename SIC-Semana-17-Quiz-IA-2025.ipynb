{
  "cells": [
    {
      "cell_type": "markdown",
      "id": "f34adb44",
      "metadata": {
        "id": "f34adb44"
      },
      "source": [
        "# Inteligencia Artificial\n",
        "\n",
        "## Capítulo 7\n",
        "\n",
        "### Procesamiento del lenguaje natural y modelos lingüísticos para la minería de textos\n",
        "\n",
        "- **Unidad 1.** Minería de textos\n",
        "- **Unidad 2.** Preprocesamiento de textos\n",
        "- **Unidad 3.** Modelo lingüístico\n",
        "- **Unidad 4.** Procesamiento del lenguaje natural con Keras\n",
        "\n",
        "# Quiz"
      ]
    },
    {
      "cell_type": "markdown",
      "id": "2e42031a",
      "metadata": {
        "id": "2e42031a"
      },
      "source": [
        "___"
      ]
    },
    {
      "cell_type": "markdown",
      "id": "ac1e9b02",
      "metadata": {
        "id": "ac1e9b02"
      },
      "source": [
        "## Q 07-01\n",
        "\n",
        "### ¿Cuál de las siguientes afirmaciones sobre la minería de textos es incorrecta?\n",
        "1. Puedes conocer la reacción ante un grupo específico.\n",
        "2. Se puede obtener información sobre oportunidades de ventas.\n",
        "3. Se pueden establecer estrategias competitivas monitoreando otras marcas.\n",
        "4. El mismo método se puede aplicar a varios idiomas."
      ]
    },
    {
      "cell_type": "markdown",
      "id": "903e6874",
      "metadata": {
        "id": "903e6874"
      },
      "source": [
        "#Respuesta Q 07-01\n",
        "## La afirmacion 4 es incorrecta"
      ]
    },
    {
      "cell_type": "markdown",
      "id": "26e1df49",
      "metadata": {
        "id": "26e1df49"
      },
      "source": [
        "___"
      ]
    },
    {
      "cell_type": "markdown",
      "id": "87a3a925",
      "metadata": {
        "id": "87a3a925"
      },
      "source": [
        "## Q 07-02\n",
        "\n",
        "### ¿Cuál de las siguientes afirmaciones no es cierta sobre el uso de las redes sociales?\n",
        "1. Es posible saber de cuántos grupos está compuesta la red.\n",
        "2. Es posible conocer clientes influyentes.\n",
        "3. Es posible ver el cambio a lo largo del tiempo.\n",
        "4. Es posible saber si los clientes se irán la próxima vez."
      ]
    },
    {
      "cell_type": "markdown",
      "id": "62678495",
      "metadata": {
        "id": "62678495"
      },
      "source": [
        "#Respuesta Q 07-02\n",
        "## La afirmacion 4 es incorrecta"
      ]
    },
    {
      "cell_type": "markdown",
      "id": "203a055b",
      "metadata": {
        "id": "203a055b"
      },
      "source": [
        "___"
      ]
    },
    {
      "cell_type": "markdown",
      "id": "8c115f28",
      "metadata": {
        "id": "8c115f28"
      },
      "source": [
        "## Q 07-03\n",
        "\n",
        "### ¿Qué significa el término separar una raíz de una palabra cuya forma ha sido modificada para extraerla? ¿Cuál es la palabra que es objeto de análisis de morfemas?"
      ]
    },
    {
      "cell_type": "markdown",
      "id": "4b66252e",
      "metadata": {
        "id": "4b66252e"
      },
      "source": [
        "#Respuesta Q 07-03\n",
        "## tecnica llamada steaming Consiste en cortar una palabra para obtener su raíz, eliminando prefijos y sufijos, aunque la raíz resultante no siempre sea una palabra válida.\n",
        "## La palabra que es objeto de análisis de morfemas es \"lema\". Esto se obtiene mediante lematización que convierte una palabra a su forma base o canónica, y siempre devuelve una palabra válida en el idioma."
      ]
    },
    {
      "cell_type": "markdown",
      "id": "7410bc11",
      "metadata": {
        "id": "7410bc11"
      },
      "source": [
        "___"
      ]
    },
    {
      "cell_type": "markdown",
      "id": "410f8980",
      "metadata": {
        "id": "410f8980"
      },
      "source": [
        "## Q 07-04\n",
        "\n",
        "### ¿Qué significa el término un conjunto de materiales que pueden mostrar los aspectos esenciales del lenguaje como material de investigación requerido en cada campo de la investigación del lenguaje?"
      ]
    },
    {
      "cell_type": "markdown",
      "id": "b239c413",
      "metadata": {
        "id": "b239c413"
      },
      "source": [
        "#Respuesta Q 07-04\n",
        "## Es un corpus lingüístico es una colección de textos que se utiliza como material de investigación para estudiar los aspectos esenciales del lenguaje y es una herramienta fundamental en lingüística, procesamiento del lenguaje natural (NLP)"
      ]
    },
    {
      "cell_type": "markdown",
      "id": "ba019f33",
      "metadata": {
        "id": "ba019f33"
      },
      "source": [
        "___"
      ]
    },
    {
      "cell_type": "markdown",
      "id": "d4b76da3",
      "metadata": {
        "id": "d4b76da3"
      },
      "source": [
        "## Q 07-05\n",
        "\n",
        "### Explique sobre TF (Frecuencia de términos) y escriba cómo calcular TF (fórmula)."
      ]
    },
    {
      "cell_type": "markdown",
      "id": "20998ef3",
      "metadata": {
        "id": "20998ef3"
      },
      "source": [
        "#Respuesta Q 07-05\n",
        "## TF (Frecuencia de Términos) es una medida que indica cuántas veces aparece una palabra en un documento en relación con el total de palabras en ese documento, sirve para saber qué tan importante es una palabra en un texto específico y se calcula dividiendo el número de veces que aparece la palabra entre el total de palabras en el documento\n",
        "\n",
        "### formula:  TF(t,d) = numero de veces que aparece la palabra en el documento/numero total de palabras en el documento"
      ]
    },
    {
      "cell_type": "markdown",
      "id": "aa90491d",
      "metadata": {
        "id": "aa90491d"
      },
      "source": [
        "___"
      ]
    },
    {
      "cell_type": "markdown",
      "id": "ed04e881",
      "metadata": {
        "id": "ed04e881"
      },
      "source": [
        "## Fin"
      ]
    }
  ],
  "metadata": {
    "kernelspec": {
      "display_name": "Python 3 (ipykernel)",
      "language": "python",
      "name": "python3"
    },
    "language_info": {
      "codemirror_mode": {
        "name": "ipython",
        "version": 3
      },
      "file_extension": ".py",
      "mimetype": "text/x-python",
      "name": "python",
      "nbconvert_exporter": "python",
      "pygments_lexer": "ipython3",
      "version": "3.10.12"
    },
    "colab": {
      "provenance": []
    }
  },
  "nbformat": 4,
  "nbformat_minor": 5
}