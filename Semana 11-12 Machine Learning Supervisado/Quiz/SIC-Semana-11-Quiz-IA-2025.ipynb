{
 "cells": [
  {
   "cell_type": "markdown",
   "id": "f34adb44",
   "metadata": {
    "id": "f34adb44"
   },
   "source": [
    "# Inteligencia Artificial\n",
    "\n",
    "## Capítulo 3\n",
    "\n",
    "### NumPy Arrays: Computación Numérica Optimizada y Pandas: Análisis Exploratorio de Datos\n",
    "\n",
    "- **Unidad 1.** Estructura de datos de matriz de NumPy para un rendimiento computacional óptimo\n",
    "- **Unidad 2.** Exploración óptima de datos a través de pandas\n",
    "- **Unidad 3.** Pre-procesamiento de datos de pandas para una ejecución óptima del modelo\n",
    "- **Unidad 4.** Visualización de datos para varias escalas de datos\n",
    "\n",
    "# Quiz"
   ]
  },
  {
   "cell_type": "markdown",
   "id": "2e42031a",
   "metadata": {
    "id": "2e42031a"
   },
   "source": [
    "___"
   ]
  },
  {
   "cell_type": "markdown",
   "id": "ac1e9b02",
   "metadata": {
    "id": "ac1e9b02"
   },
   "source": [
    "## Q 03-01\n",
    "\n",
    "### ¿Cuál es una sintaxis correcta para crear una matriz NumPy?\n",
    "\n",
    "1. np.createArray([1, 2, 3, 4, 5])\n",
    "2. np.array([1, 2, 3, 4, 5])\n",
    "3. np.object([1, 2, 3, 4, 5])"
   ]
  },
  {
   "cell_type": "markdown",
   "id": "903e6874",
   "metadata": {
    "id": "903e6874"
   },
   "source": [
    "**Respuesta:**"
   ]
  },
  {
   "cell_type": "code",
   "execution_count": 4,
   "id": "mQPwnr-d4nn4",
   "metadata": {
    "id": "mQPwnr-d4nn4"
   },
   "outputs": [
    {
     "data": {
      "text/plain": [
       "array([1, 2, 3, 4, 5])"
      ]
     },
     "execution_count": 4,
     "metadata": {},
     "output_type": "execute_result"
    }
   ],
   "source": [
    "import numpy as np\n",
    "a = np.array([1, 2, 3, 4, 5])\n",
    "a"
   ]
  },
  {
   "cell_type": "markdown",
   "id": "87a3a925",
   "metadata": {
    "id": "87a3a925"
   },
   "source": [
    "## Q 03-02\n",
    "\n",
    "### ¿Cuál es una sintaxis correcta para verificar el número de dimensiones en una matriz?\n",
    "\n",
    "1. np.dim()\n",
    "2. np.ndim()\n",
    "3. np.ndim\n",
    "4. np.dim"
   ]
  },
  {
   "cell_type": "markdown",
   "id": "62678495",
   "metadata": {
    "id": "62678495"
   },
   "source": [
    "**Respuesta:**"
   ]
  },
  {
   "cell_type": "code",
   "execution_count": 7,
   "id": "Ws3ZJVSh49SB",
   "metadata": {
    "id": "Ws3ZJVSh49SB"
   },
   "outputs": [
    {
     "data": {
      "text/plain": [
       "1"
      ]
     },
     "execution_count": 7,
     "metadata": {},
     "output_type": "execute_result"
    }
   ],
   "source": [
    "np.ndim(a)"
   ]
  },
  {
   "cell_type": "markdown",
   "id": "8c115f28",
   "metadata": {
    "id": "8c115f28"
   },
   "source": [
    "## Q 03-03\n",
    "\n",
    "### ¿Cuál sería la respuesta de esta suma acumulada en NumPy?\n",
    "\n",
    "```\n",
    "arr = np.array([1,2,3])\n",
    "print(np.cumsum(arr))\n",
    "\n",
    "```\n",
    "\n",
    "1. [3, 6, 9]\n",
    "2. [6]\n",
    "3. [9]\n",
    "4. [1 3 6]"
   ]
  },
  {
   "cell_type": "markdown",
   "id": "4b66252e",
   "metadata": {
    "id": "4b66252e"
   },
   "source": [
    "**Respuesta:**"
   ]
  },
  {
   "cell_type": "code",
   "execution_count": 8,
   "id": "b8a00784",
   "metadata": {},
   "outputs": [
    {
     "name": "stdout",
     "output_type": "stream",
     "text": [
      "[1 3 6]\n"
     ]
    }
   ],
   "source": [
    "arr = np.array([1,2,3])\n",
    "print(np.cumsum(arr))"
   ]
  },
  {
   "cell_type": "markdown",
   "id": "410f8980",
   "metadata": {
    "id": "410f8980"
   },
   "source": [
    "## Q 03-04\n",
    "\n",
    "### Responde las siguientes preguntas.\n",
    "\n",
    "```\n",
    "import pandas as pd\n",
    "import numpy as np\n",
    "import os\n",
    "import matplotlib.pyplot as plt\n",
    "%matplotlib inline\n",
    "\n",
    "# Lea los datos.\n",
    "# Vaya al directorio donde se encuentra el archivo de los datos.\n",
    "os.chdir(r'~~') # Reemplace con la dirección del archivo\n",
    "df = pd.read_csv('data_sales.csv', header='infer')\n",
    "df.shape\n",
    "df.head(5)\n",
    "```\n",
    "\n",
    "1. Agregue una nueva variable 𝐴𝑚𝑜𝑢𝑛𝑡=𝑈𝑛𝑖𝑡𝑃𝑟𝑖𝑐×𝑈𝑛𝑖𝑡𝑠Amount=UnitPric×Units.\n",
    "2. Precio unitario medio de cada región. Utilice el método groupby().\n",
    "3. Precio unitario medio de cada región. Usa el método pivot_table()."
   ]
  },
  {
   "cell_type": "markdown",
   "id": "b239c413",
   "metadata": {
    "id": "b239c413"
   },
   "source": [
    "**Respuesta:**"
   ]
  },
  {
   "cell_type": "code",
   "execution_count": 32,
   "id": "QjlPDxBc7XOE",
   "metadata": {
    "id": "QjlPDxBc7XOE"
   },
   "outputs": [
    {
     "data": {
      "text/html": [
       "<div>\n",
       "<style scoped>\n",
       "    .dataframe tbody tr th:only-of-type {\n",
       "        vertical-align: middle;\n",
       "    }\n",
       "\n",
       "    .dataframe tbody tr th {\n",
       "        vertical-align: top;\n",
       "    }\n",
       "\n",
       "    .dataframe thead th {\n",
       "        text-align: right;\n",
       "    }\n",
       "</style>\n",
       "<table border=\"1\" class=\"dataframe\">\n",
       "  <thead>\n",
       "    <tr style=\"text-align: right;\">\n",
       "      <th></th>\n",
       "      <th>Date</th>\n",
       "      <th>Region</th>\n",
       "      <th>Item</th>\n",
       "      <th>Unit Price</th>\n",
       "      <th>Units</th>\n",
       "    </tr>\n",
       "  </thead>\n",
       "  <tbody>\n",
       "    <tr>\n",
       "      <th>0</th>\n",
       "      <td>04-Jul-14</td>\n",
       "      <td>East</td>\n",
       "      <td>Pen Set</td>\n",
       "      <td>4.99</td>\n",
       "      <td>62</td>\n",
       "    </tr>\n",
       "    <tr>\n",
       "      <th>1</th>\n",
       "      <td>12-Jul-14</td>\n",
       "      <td>East</td>\n",
       "      <td>Binder</td>\n",
       "      <td>1.99</td>\n",
       "      <td>29</td>\n",
       "    </tr>\n",
       "    <tr>\n",
       "      <th>2</th>\n",
       "      <td>21-Jul-14</td>\n",
       "      <td>Central</td>\n",
       "      <td>Pen Set</td>\n",
       "      <td>12.49</td>\n",
       "      <td>55</td>\n",
       "    </tr>\n",
       "    <tr>\n",
       "      <th>3</th>\n",
       "      <td>29-Jul-14</td>\n",
       "      <td>East</td>\n",
       "      <td>Binder</td>\n",
       "      <td>19.99</td>\n",
       "      <td>81</td>\n",
       "    </tr>\n",
       "    <tr>\n",
       "      <th>4</th>\n",
       "      <td>07-Aug-14</td>\n",
       "      <td>Central</td>\n",
       "      <td>Pen Set</td>\n",
       "      <td>23.95</td>\n",
       "      <td>42</td>\n",
       "    </tr>\n",
       "  </tbody>\n",
       "</table>\n",
       "</div>"
      ],
      "text/plain": [
       "        Date   Region     Item  Unit Price  Units\n",
       "0  04-Jul-14     East  Pen Set        4.99     62\n",
       "1  12-Jul-14     East   Binder        1.99     29\n",
       "2  21-Jul-14  Central  Pen Set       12.49     55\n",
       "3  29-Jul-14     East   Binder       19.99     81\n",
       "4  07-Aug-14  Central  Pen Set       23.95     42"
      ]
     },
     "execution_count": 32,
     "metadata": {},
     "output_type": "execute_result"
    }
   ],
   "source": [
    "import pandas as pd\n",
    "import numpy as np\n",
    "import matplotlib.pyplot as plt\n",
    "%matplotlib inline\n",
    "\n",
    "df = pd.read_csv('data_sales.csv', header='infer')\n",
    "df.shape\n",
    "df.head(5)\n",
    "\n"
   ]
  },
  {
   "cell_type": "code",
   "execution_count": 44,
   "id": "afe80e4b",
   "metadata": {},
   "outputs": [
    {
     "data": {
      "text/html": [
       "<div>\n",
       "<style scoped>\n",
       "    .dataframe tbody tr th:only-of-type {\n",
       "        vertical-align: middle;\n",
       "    }\n",
       "\n",
       "    .dataframe tbody tr th {\n",
       "        vertical-align: top;\n",
       "    }\n",
       "\n",
       "    .dataframe thead th {\n",
       "        text-align: right;\n",
       "    }\n",
       "</style>\n",
       "<table border=\"1\" class=\"dataframe\">\n",
       "  <thead>\n",
       "    <tr style=\"text-align: right;\">\n",
       "      <th></th>\n",
       "      <th>Date</th>\n",
       "      <th>Region</th>\n",
       "      <th>Item</th>\n",
       "      <th>Unit Price</th>\n",
       "      <th>Units</th>\n",
       "      <th>Amount</th>\n",
       "    </tr>\n",
       "  </thead>\n",
       "  <tbody>\n",
       "    <tr>\n",
       "      <th>0</th>\n",
       "      <td>04-Jul-14</td>\n",
       "      <td>East</td>\n",
       "      <td>Pen Set</td>\n",
       "      <td>4.99</td>\n",
       "      <td>62</td>\n",
       "      <td>309.38</td>\n",
       "    </tr>\n",
       "    <tr>\n",
       "      <th>1</th>\n",
       "      <td>12-Jul-14</td>\n",
       "      <td>East</td>\n",
       "      <td>Binder</td>\n",
       "      <td>1.99</td>\n",
       "      <td>29</td>\n",
       "      <td>57.71</td>\n",
       "    </tr>\n",
       "    <tr>\n",
       "      <th>2</th>\n",
       "      <td>21-Jul-14</td>\n",
       "      <td>Central</td>\n",
       "      <td>Pen Set</td>\n",
       "      <td>12.49</td>\n",
       "      <td>55</td>\n",
       "      <td>686.95</td>\n",
       "    </tr>\n",
       "    <tr>\n",
       "      <th>3</th>\n",
       "      <td>29-Jul-14</td>\n",
       "      <td>East</td>\n",
       "      <td>Binder</td>\n",
       "      <td>19.99</td>\n",
       "      <td>81</td>\n",
       "      <td>1619.19</td>\n",
       "    </tr>\n",
       "    <tr>\n",
       "      <th>4</th>\n",
       "      <td>07-Aug-14</td>\n",
       "      <td>Central</td>\n",
       "      <td>Pen Set</td>\n",
       "      <td>23.95</td>\n",
       "      <td>42</td>\n",
       "      <td>1005.90</td>\n",
       "    </tr>\n",
       "  </tbody>\n",
       "</table>\n",
       "</div>"
      ],
      "text/plain": [
       "        Date   Region     Item  Unit Price  Units   Amount\n",
       "0  04-Jul-14     East  Pen Set        4.99     62   309.38\n",
       "1  12-Jul-14     East   Binder        1.99     29    57.71\n",
       "2  21-Jul-14  Central  Pen Set       12.49     55   686.95\n",
       "3  29-Jul-14     East   Binder       19.99     81  1619.19\n",
       "4  07-Aug-14  Central  Pen Set       23.95     42  1005.90"
      ]
     },
     "execution_count": 44,
     "metadata": {},
     "output_type": "execute_result"
    }
   ],
   "source": [
    "df['Amount'] = df['Unit Price'] * df['Units']\n",
    "df.head()"
   ]
  },
  {
   "cell_type": "code",
   "execution_count": 46,
   "id": "8fe6e69d",
   "metadata": {},
   "outputs": [
    {
     "name": "stdout",
     "output_type": "stream",
     "text": [
      "Region\n",
      "Central    18.018750\n",
      "East        9.143846\n",
      "West       53.658333\n",
      "Name: Unit Price, dtype: float64\n"
     ]
    }
   ],
   "source": [
    "media_precio_por_region = df.groupby('Region')['Unit Price'].mean()\n",
    "print(media_precio_por_region)"
   ]
  },
  {
   "cell_type": "code",
   "execution_count": 48,
   "id": "5374a3d8",
   "metadata": {},
   "outputs": [
    {
     "name": "stdout",
     "output_type": "stream",
     "text": [
      "         Unit Price\n",
      "Region             \n",
      "Central   18.018750\n",
      "East       9.143846\n",
      "West      53.658333\n"
     ]
    }
   ],
   "source": [
    "tabla_pivote = df.pivot_table(values='Unit Price', index='Region', aggfunc='mean')\n",
    "print(tabla_pivote)"
   ]
  },
  {
   "cell_type": "markdown",
   "id": "ba019f33",
   "metadata": {
    "id": "ba019f33"
   },
   "source": [
    "___"
   ]
  },
  {
   "cell_type": "markdown",
   "id": "d4b76da3",
   "metadata": {
    "id": "d4b76da3"
   },
   "source": [
    "## Q 03-05\n",
    "\n",
    "### Responde las siguientes preguntas.\n",
    "\n",
    "```\n",
    "import pandas as pd\n",
    "import numpy as np\n",
    "import os\n",
    "import matplotlib.pyplot as plt\n",
    "%matplotlib inline\n",
    "\n",
    "# Lea los datos.\n",
    "# Vaya al directorio donde se encuentra el archivo de los datos.\n",
    "os.chdir(r'~~') # Reemplace con la dirección del archivo\n",
    "df = pd.read_csv('data_coffeeshop.csv', header='infer', na_values=[' '])\n",
    "df.shape\n",
    "df.head(5)\n",
    "```\n",
    "\n",
    "1.   Haz una tabla de frecuencia de 'yearOfStart' y visualízala por año.\n",
    "- Ordenar por año.\n",
    "- Dibuja un gráfico de líneas desde 1997 hasta 2014. <= Pista: plt.xlim()"
   ]
  },
  {
   "cell_type": "markdown",
   "id": "20998ef3",
   "metadata": {
    "id": "20998ef3"
   },
   "source": [
    "**Respuesta:**"
   ]
  },
  {
   "cell_type": "code",
   "execution_count": 62,
   "id": "rBDeXJRl8LEJ",
   "metadata": {
    "id": "rBDeXJRl8LEJ"
   },
   "outputs": [
    {
     "data": {
      "text/html": [
       "<div>\n",
       "<style scoped>\n",
       "    .dataframe tbody tr th:only-of-type {\n",
       "        vertical-align: middle;\n",
       "    }\n",
       "\n",
       "    .dataframe tbody tr th {\n",
       "        vertical-align: top;\n",
       "    }\n",
       "\n",
       "    .dataframe thead th {\n",
       "        text-align: right;\n",
       "    }\n",
       "</style>\n",
       "<table border=\"1\" class=\"dataframe\">\n",
       "  <thead>\n",
       "    <tr style=\"text-align: right;\">\n",
       "      <th></th>\n",
       "      <th>Year of Start</th>\n",
       "      <th>Current State</th>\n",
       "      <th>Size of Site</th>\n",
       "    </tr>\n",
       "  </thead>\n",
       "  <tbody>\n",
       "    <tr>\n",
       "      <th>0</th>\n",
       "      <td>2008.0</td>\n",
       "      <td>In</td>\n",
       "      <td>20.80</td>\n",
       "    </tr>\n",
       "    <tr>\n",
       "      <th>1</th>\n",
       "      <td>2010.0</td>\n",
       "      <td>In</td>\n",
       "      <td>212.72</td>\n",
       "    </tr>\n",
       "    <tr>\n",
       "      <th>2</th>\n",
       "      <td>2013.0</td>\n",
       "      <td>In</td>\n",
       "      <td>20.04</td>\n",
       "    </tr>\n",
       "    <tr>\n",
       "      <th>3</th>\n",
       "      <td>2012.0</td>\n",
       "      <td>In</td>\n",
       "      <td>64.17</td>\n",
       "    </tr>\n",
       "    <tr>\n",
       "      <th>4</th>\n",
       "      <td>2002.0</td>\n",
       "      <td>Out</td>\n",
       "      <td>11.40</td>\n",
       "    </tr>\n",
       "  </tbody>\n",
       "</table>\n",
       "</div>"
      ],
      "text/plain": [
       "   Year of Start Current State  Size of Site\n",
       "0         2008.0            In         20.80\n",
       "1         2010.0            In        212.72\n",
       "2         2013.0            In         20.04\n",
       "3         2012.0            In         64.17\n",
       "4         2002.0           Out         11.40"
      ]
     },
     "execution_count": 62,
     "metadata": {},
     "output_type": "execute_result"
    }
   ],
   "source": [
    "import pandas as pd\n",
    "import numpy as np\n",
    "import matplotlib.pyplot as plt\n",
    "%matplotlib inline\n",
    "\n",
    "df1 = pd.read_csv('data_coffeeshop.csv', header='infer', na_values=[' '])\n",
    "df1.shape\n",
    "df1.head(5)"
   ]
  },
  {
   "cell_type": "code",
   "execution_count": 73,
   "id": "9017dc81",
   "metadata": {},
   "outputs": [
    {
     "name": "stdout",
     "output_type": "stream",
     "text": [
      "Year of Start\n",
      "1964.0       2\n",
      "1966.0       2\n",
      "1967.0       3\n",
      "1968.0       1\n",
      "1969.0       2\n",
      "1970.0       4\n",
      "1971.0       6\n",
      "1972.0       3\n",
      "1974.0       1\n",
      "1975.0       2\n",
      "1976.0       5\n",
      "1979.0       4\n",
      "1980.0       9\n",
      "1981.0       8\n",
      "1982.0      12\n",
      "1983.0       9\n",
      "1984.0      11\n",
      "1985.0      18\n",
      "1986.0      21\n",
      "1987.0      21\n",
      "1988.0      26\n",
      "1989.0      23\n",
      "1990.0      25\n",
      "1991.0      28\n",
      "1992.0      37\n",
      "1993.0      50\n",
      "1994.0      48\n",
      "1995.0      48\n",
      "1996.0      41\n",
      "1997.0      54\n",
      "1998.0      54\n",
      "1999.0      46\n",
      "2000.0      89\n",
      "2001.0     183\n",
      "2002.0     398\n",
      "2003.0     799\n",
      "2004.0     648\n",
      "2005.0     654\n",
      "2006.0     863\n",
      "2007.0    1233\n",
      "2008.0    1579\n",
      "2009.0    2489\n",
      "2010.0    4172\n",
      "2011.0    5942\n",
      "2012.0    6315\n",
      "2013.0    7270\n",
      "2014.0    9905\n",
      "Name: count, dtype: int64\n"
     ]
    }
   ],
   "source": [
    "orden_age = df1['Year of Start'].value_counts().sort_index()\n",
    "print(orden_age)"
   ]
  },
  {
   "cell_type": "markdown",
   "id": "aa90491d",
   "metadata": {
    "id": "aa90491d"
   },
   "source": [
    "___"
   ]
  },
  {
   "cell_type": "code",
   "execution_count": 74,
   "id": "b658f724",
   "metadata": {},
   "outputs": [
    {
     "data": {
      "image/png": "[encoded data removed]",
      "text/plain": [
       "<Figure size 1000x600 with 1 Axes>"
      ]
     },
     "metadata": {},
     "output_type": "display_data"
    }
   ],
   "source": [
    "frecuencia_table = df1['Year of Start'].value_counts().sort_index()\n",
    "\n",
    "plt.figure(figsize=(10, 6))\n",
    "plt.plot(frecuencia_table.index, frecuencia_table.values, marker='o', color='blue', linestyle='--')\n",
    "plt.xlim(1997, 2014)\n",
    "plt.grid(True)\n",
    "plt.title('Frecuencia de inicio por año')\n",
    "plt.xlabel('Año de inicio')\n",
    "plt.ylabel('Frecuencia')\n",
    "plt.show()"
   ]
  },
  {
   "cell_type": "markdown",
   "id": "ed04e881",
   "metadata": {
    "id": "ed04e881"
   },
   "source": [
    "## Fin"
   ]
  }
 ],
 "metadata": {
  "colab": {
   "provenance": []
  },
  "kernelspec": {
   "display_name": "practica",
   "language": "python",
   "name": "python3"
  },
  "language_info": {
   "codemirror_mode": {
    "name": "ipython",
    "version": 3
   },
   "file_extension": ".py",
   "mimetype": "text/x-python",
   "name": "python",
   "nbconvert_exporter": "python",
   "pygments_lexer": "ipython3",
   "version": "3.12.8"
  }
 },
 "nbformat": 4,
 "nbformat_minor": 5
}
