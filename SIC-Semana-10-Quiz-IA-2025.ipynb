{
  "cells": [
    {
      "cell_type": "markdown",
      "id": "f34adb44",
      "metadata": {
        "id": "f34adb44"
      },
      "source": [
        "# Inteligencia Artificial\n",
        "\n",
        "## Capítulo 2\n",
        "\n",
        "### Matemática Básica para Ciencias de Datos\n",
        "\n",
        "- **Unidad 1.** Introducción\n",
        "- **Unidad 2.** Matemática Básica para Ciencias de Datos\n",
        "- **Unidad 3.** Entendiendo las Ciencias de Datos: Vector\n",
        "- **Unidad 4.** Entendiendo las Ciencias de Datos: Matriz\n",
        "- **Unidad 5.** Entendiendo las Ciencias de Datos: Derivativas\n",
        "\n",
        "# Quiz"
      ]
    },
    {
      "cell_type": "markdown",
      "id": "2e42031a",
      "metadata": {
        "id": "2e42031a"
      },
      "source": [
        "___"
      ]
    },
    {
      "cell_type": "markdown",
      "id": "ac1e9b02",
      "metadata": {
        "id": "ac1e9b02"
      },
      "source": [
        "## Q 02-01\n",
        "\n",
        "### Cree ejemplos de vector cero, vector unitario, matriz cuadrada, matriz diagonal, matriz identidad y matriz simétrica uno por uno, y represente vectores y matrices con NumPy."
      ]
    },
    {
      "cell_type": "code",
      "source": [
        "#vector cero\n",
        "import numpy as np\n",
        "\n",
        "vector_cero = np.zeros(5)\n",
        "print(vector_cero)\n"
      ],
      "metadata": {
        "colab": {
          "base_uri": "https://localhost:8080/"
        },
        "id": "l1sp2s6m5XCD",
        "outputId": "522e6857-823e-43a2-94e1-bc004b701db7"
      },
      "id": "l1sp2s6m5XCD",
      "execution_count": 14,
      "outputs": [
        {
          "output_type": "stream",
          "name": "stdout",
          "text": [
            "[0. 0. 0. 0. 0.]\n"
          ]
        }
      ]
    },
    {
      "cell_type": "code",
      "source": [
        "#Vector Unitario\n",
        "import numpy as np\n",
        "\n",
        "vector = np.array([3, 4])\n",
        "vec_norm = np.linalg.norm(vector)\n",
        "vector_unitario = vector / vec_norm\n",
        "\n",
        "print(\"Vector unitario:\", vector_unitario)"
      ],
      "metadata": {
        "colab": {
          "base_uri": "https://localhost:8080/"
        },
        "id": "17lPvsJpFmgO",
        "outputId": "b5c9b697-9ce4-4d12-eb5e-814685ae6e38"
      },
      "id": "17lPvsJpFmgO",
      "execution_count": 7,
      "outputs": [
        {
          "output_type": "stream",
          "name": "stdout",
          "text": [
            "Vector unitario: [0.6 0.8]\n"
          ]
        }
      ]
    },
    {
      "cell_type": "code",
      "source": [
        "#matriz cuadrada\n",
        "import numpy as np\n",
        "matriz_cuadrada = np.array([[1, 2, 3], [4, 5, 6], [7, 8, 9]])\n",
        "print(matriz_cuadrada)"
      ],
      "metadata": {
        "colab": {
          "base_uri": "https://localhost:8080/"
        },
        "id": "OldahK4bGdDH",
        "outputId": "aaa1da73-1044-4810-caff-54f5e805f11f"
      },
      "id": "OldahK4bGdDH",
      "execution_count": 8,
      "outputs": [
        {
          "output_type": "stream",
          "name": "stdout",
          "text": [
            "[[1 2 3]\n",
            " [4 5 6]\n",
            " [7 8 9]]\n"
          ]
        }
      ]
    },
    {
      "cell_type": "code",
      "source": [
        "#Matriz diagonal\n",
        "import numpy as np\n",
        "matriz_diagonal = np.diag([1, 2, 3])\n",
        "print(matriz_diagonal)"
      ],
      "metadata": {
        "colab": {
          "base_uri": "https://localhost:8080/"
        },
        "id": "yq3DozlKGlbG",
        "outputId": "99a35dca-4511-4599-a468-7dbd58e1c61a"
      },
      "id": "yq3DozlKGlbG",
      "execution_count": 10,
      "outputs": [
        {
          "output_type": "stream",
          "name": "stdout",
          "text": [
            "[[1 0 0]\n",
            " [0 2 0]\n",
            " [0 0 3]]\n"
          ]
        }
      ]
    },
    {
      "cell_type": "code",
      "source": [
        "#Matriz identidad\n",
        "import numpy as np\n",
        "matriz_identidad = np.eye(3)\n",
        "print(matriz_identidad)"
      ],
      "metadata": {
        "colab": {
          "base_uri": "https://localhost:8080/"
        },
        "id": "CJs0csqjGvfn",
        "outputId": "e4e85faf-0b53-402a-c9c4-334fdf991e46"
      },
      "id": "CJs0csqjGvfn",
      "execution_count": 11,
      "outputs": [
        {
          "output_type": "stream",
          "name": "stdout",
          "text": [
            "[[1. 0. 0.]\n",
            " [0. 1. 0.]\n",
            " [0. 0. 1.]]\n"
          ]
        }
      ]
    },
    {
      "cell_type": "code",
      "source": [
        "#Matriz simetrica\n",
        "import numpy as np\n",
        "matriz_simetrica = np.array([[1, 2, 3], [2, 4, 5], [3, 5, 6]])\n",
        "print(matriz_simetrica)"
      ],
      "metadata": {
        "colab": {
          "base_uri": "https://localhost:8080/"
        },
        "id": "eG9ePTrmG5QO",
        "outputId": "3c0b94e3-4e22-4f1a-91c9-55194b888770"
      },
      "id": "eG9ePTrmG5QO",
      "execution_count": 12,
      "outputs": [
        {
          "output_type": "stream",
          "name": "stdout",
          "text": [
            "[[1 2 3]\n",
            " [2 4 5]\n",
            " [3 5 6]]\n"
          ]
        }
      ]
    },
    {
      "cell_type": "markdown",
      "id": "87a3a925",
      "metadata": {
        "id": "87a3a925"
      },
      "source": [
        "## Q 02-02\n",
        "\n",
        "### Las acciones de tres empresas A, B y C son 1 millón de wones, 800.000 wones y 500.000 wones, respectivamente. Queremos encontrar la cantidad necesaria para comprar 3, 4 y 5 acciones de estas acciones, respectivamente.\n",
        "\n",
        "1) Exprese el precio y la cantidad de las acciones como vector p y vector n, respectivamente y codificados con NumPy."
      ]
    },
    {
      "cell_type": "code",
      "source": [
        "import numpy as np\n",
        "vector_p = np.array([1000000, 800000, 500000])\n",
        "vector_n = np.array([3, 4, 5])"
      ],
      "metadata": {
        "id": "wPn-fGAKHnyl"
      },
      "id": "wPn-fGAKHnyl",
      "execution_count": 15,
      "outputs": []
    },
    {
      "cell_type": "markdown",
      "id": "884fdced",
      "metadata": {
        "id": "884fdced"
      },
      "source": [
        "2) La cantidad necesaria para comprar acciones se expresa mediante multiplicación y el valor se calcula mediante la operación Numpy."
      ]
    },
    {
      "cell_type": "code",
      "source": [
        "# Cantidad necesaria para la compra de las acciones\n",
        "cantidad = vector_n * vector_p\n",
        "print(\"Cantidad de acciones a comprar:\", vector_n)\n",
        "print(\"Precio por acción:\", vector_p)\n",
        "print(\"Cantidad necesaria para comprar las acciones:\", cantidad)"
      ],
      "metadata": {
        "colab": {
          "base_uri": "https://localhost:8080/"
        },
        "id": "ty_g1_S0IslI",
        "outputId": "c24f4648-af48-4430-ef60-ca5b788cd53d"
      },
      "id": "ty_g1_S0IslI",
      "execution_count": 17,
      "outputs": [
        {
          "output_type": "stream",
          "name": "stdout",
          "text": [
            "Cantidad de acciones a comprar: [3 4 5]\n",
            "Precio por acción: [1000000  800000  500000]\n",
            "Cantidad necesaria para comprar las acciones: [3000000 3200000 2500000]\n"
          ]
        }
      ]
    },
    {
      "cell_type": "markdown",
      "id": "203a055b",
      "metadata": {
        "id": "203a055b"
      },
      "source": [
        "___"
      ]
    },
    {
      "cell_type": "markdown",
      "id": "8c115f28",
      "metadata": {
        "id": "8c115f28"
      },
      "source": [
        "## Q 02-03\n",
        "\n",
        "### Cuando se ejecuta el siguiente código, todos los datos de la imagen numérica MNIST se convierten en vectores para crear una única matriz NumPy X. Utilice esta matriz para resolver el siguiente problema.\n",
        "```\n",
        "from sklearn.datasets import load_digits\n",
        "X=load_digits().data\n",
        "```\n",
        "\n",
        "1) Encuentre la similitud entre la primera imagen y la décima imagen usando el producto escalar."
      ]
    },
    {
      "cell_type": "code",
      "source": [
        "from sklearn.datasets import load_digits\n",
        "X=load_digits().data"
      ],
      "metadata": {
        "id": "OJ6_IzQ4KwP_"
      },
      "id": "OJ6_IzQ4KwP_",
      "execution_count": 35,
      "outputs": []
    },
    {
      "cell_type": "code",
      "source": [
        "import numpy as np\n",
        "\n",
        "imagen_1 = X[0]  # Primera imagen\n",
        "imagen_10 = X[9]  # Décima imagen\n",
        "\n",
        "similitud = np.dot(imagen_1, imagen_10)\n",
        "\n",
        "print(\"La similitud entre la primera y la décima imagen, usando el producto escalar es:\", similitud)"
      ],
      "metadata": {
        "colab": {
          "base_uri": "https://localhost:8080/"
        },
        "id": "X3v7-YC2PwSJ",
        "outputId": "c7fe1b99-8f1c-4359-b80c-151fb1b6697a"
      },
      "id": "X3v7-YC2PwSJ",
      "execution_count": 41,
      "outputs": [
        {
          "output_type": "stream",
          "name": "stdout",
          "text": [
            "La similitud entre la primera y la décima imagen, usando el producto escalar es: 2807.0\n"
          ]
        }
      ]
    },
    {
      "cell_type": "markdown",
      "id": "86a05c4b",
      "metadata": {
        "id": "86a05c4b"
      },
      "source": [
        "2) Encuentre la similitud para una combinación de todas las imágenes usando el producto escalar, ¿cómo sería eficiente implementarlo (pista: usando matrices y multiplicación de matrices)?\n"
      ]
    },
    {
      "cell_type": "code",
      "source": [
        "matriz_similitud = np.dot(X, X.T)\n",
        "\n",
        "# Mostrar la matriz de similitud\n",
        "print(\"Matriz de similitud (producto escalar):\")\n",
        "print(matriz_similitud)"
      ],
      "metadata": {
        "colab": {
          "base_uri": "https://localhost:8080/"
        },
        "id": "HQ9NfhnPQWSp",
        "outputId": "1a1d4c80-a274-4c2f-b1a9-5c3e7f92f06d"
      },
      "id": "HQ9NfhnPQWSp",
      "execution_count": 42,
      "outputs": [
        {
          "output_type": "stream",
          "name": "stdout",
          "text": [
            "Matriz de similitud (producto escalar):\n",
            "[[3070. 1866. 2264. ... 2812. 3006. 2898.]\n",
            " [1866. 4209. 3432. ... 3906. 3083. 3307.]\n",
            " [2264. 3432. 4388. ... 4005. 3063. 3697.]\n",
            " ...\n",
            " [2812. 3906. 4005. ... 5092. 3729. 4598.]\n",
            " [3006. 3083. 3063. ... 3729. 4316. 3850.]\n",
            " [2898. 3307. 3697. ... 4598. 3850. 4938.]]\n"
          ]
        }
      ]
    },
    {
      "cell_type": "markdown",
      "id": "7410bc11",
      "metadata": {
        "id": "7410bc11"
      },
      "source": [
        "___"
      ]
    },
    {
      "cell_type": "markdown",
      "id": "410f8980",
      "metadata": {
        "id": "410f8980"
      },
      "source": [
        "## Q 02-04\n",
        "\n",
        "### Calculate the following inverse matrix.\n"
      ]
    },
    {
      "cell_type": "markdown",
      "id": "fb13fe63",
      "metadata": {
        "id": "fb13fe63"
      },
      "source": [
        "![matrix.png](attachment:matrix.png)"
      ]
    },
    {
      "cell_type": "code",
      "source": [
        "import numpy as np\n",
        "\n",
        "# Definir la matriz\n",
        "matriz = np.array([\n",
        "    [-1, 4, 0],\n",
        "    [-1, 3, 1],\n",
        "    [0, 3, -2]\n",
        "])\n",
        "\n",
        "print(\"Matriz de la imagen\")\n",
        "print(matriz)\n",
        "\n",
        "#Calculamos su determinante para saber si tiene inversa\n",
        "det_matriz = np.linalg.det(matriz)\n",
        "print(\"\\nDeterminante de la matriz:\")\n",
        "print(det_matriz)\n",
        "\n",
        "# Como el determinante es igual a 1 se, calcula la matriz inversa\n",
        "matriz_inversa = np.linalg.inv(matriz)\n",
        "\n",
        "print(\"\\nMatriz inversa:\")\n",
        "print(matriz_inversa)\n"
      ],
      "metadata": {
        "colab": {
          "base_uri": "https://localhost:8080/"
        },
        "id": "q94_yamXLupJ",
        "outputId": "91e94f04-ae0e-4215-8082-c1f37ccc3f45"
      },
      "id": "q94_yamXLupJ",
      "execution_count": 31,
      "outputs": [
        {
          "output_type": "stream",
          "name": "stdout",
          "text": [
            "Matriz de la imagen\n",
            "[[-1  4  0]\n",
            " [-1  3  1]\n",
            " [ 0  3 -2]]\n",
            "\n",
            "Determinante de la matriz:\n",
            "1.0000000000000002\n",
            "\n",
            "Matriz inversa:\n",
            "[[-9.  8.  4.]\n",
            " [-2.  2.  1.]\n",
            " [-3.  3.  1.]]\n"
          ]
        }
      ]
    },
    {
      "cell_type": "markdown",
      "id": "ba019f33",
      "metadata": {
        "id": "ba019f33"
      },
      "source": [
        "___"
      ]
    },
    {
      "cell_type": "markdown",
      "id": "d4b76da3",
      "metadata": {
        "id": "d4b76da3"
      },
      "source": [
        "## Q 02-05\n",
        "\n",
        "### El problema del precio de la vivienda en Boston es un problema de predicción del precio de la vivienda en cada ciudad de Boston (EE.UU.) utilizando características como el índice de delincuencia y la contaminación atmosférica de la zona. Puede importarse del paquete scikit-learn. Encuentre el vector de pesos x cuando el problema del precio de la vivienda en Boston se resuelva con el modelo de predicción lineal Ax=b. Los datos matriciales y vectoriales pueden obtenerse como sigue. Aquí, para simplificar el problema, limitamos los datos de entrada a la tasa de criminalidad (CRIM), la calidad del aire (NOX), el número de habitaciones (RM) y la edad (AGE), y sólo se utilizaron cuatro datos.\n",
        "\n",
        "Ejecute el código siguiente para comprobar si la magnitud o el signo del vector de pesos obtenido al ejecutar el programa se ajusta a la noción común. Para ello, interprete la salida impresa para todos los factores: CRIM, NOX, RM y EDAD.\n",
        "\n",
        "(※ Escriba la salida interpretada como \"el precio de la vivienda está en proporción inversa a la tasa de criminalidad (CRIM)\").\n",
        "```\n",
        "from sklearn.datasets import load_boston\n",
        "boston=load_boston()\n",
        "X=boston.data\n",
        "y=boston.target\n",
        "A=X[:4, [0,4,5,6]] # ‘CRIM’,’NOX’,’RM’,’AGE’\n",
        "b=y[:4]\n",
        "```"
      ]
    },
    {
      "cell_type": "code",
      "source": [
        "from sklearn.datasets import load_boston\n",
        "boston=load_boston()\n",
        "X=boston.data\n",
        "y=boston.target\n",
        "A=X[:4, [0,4,5,6]] # ‘CRIM’,’NOX’,’RM’,’AGE’\n",
        "b=y[:4]"
      ],
      "metadata": {
        "id": "ZPN71MSOTbFg"
      },
      "id": "ZPN71MSOTbFg",
      "execution_count": null,
      "outputs": []
    },
    {
      "cell_type": "code",
      "source": [
        "A = np.array([[0.00632,0.02731,0.02729,0.03237],[0.538,0.469,0.469,0.458],[6.575,6.421,7.185,6.998],[65.2,78.9,61.1,45.8]])\n",
        "\n",
        "b = np.array([24., 21.6, 34.7, 33.4])\n",
        "\n",
        "x = np.linalg.solve(A, b)\n",
        "# resultados\n",
        "print(\"Pesos para CRIM, NOX, RM y AGE:\")\n",
        "print(x)"
      ],
      "metadata": {
        "colab": {
          "base_uri": "https://localhost:8080/"
        },
        "id": "SWWp7U9ZTs_h",
        "outputId": "3b266951-7b54-4902-e48a-6cafe9ae3ee6"
      },
      "id": "SWWp7U9ZTs_h",
      "execution_count": 48,
      "outputs": [
        {
          "output_type": "stream",
          "name": "stdout",
          "text": [
            "Pesos para CRIM, NOX, RM y AGE:\n",
            "[ -443.58948971  1306.42961934 -2737.70617156  2033.88613199]\n"
          ]
        }
      ]
    },
    {
      "cell_type": "markdown",
      "id": "aa90491d",
      "metadata": {
        "id": "aa90491d"
      },
      "source": [
        "___"
      ]
    },
    {
      "cell_type": "markdown",
      "id": "ed04e881",
      "metadata": {
        "id": "ed04e881"
      },
      "source": [
        "## Fin"
      ]
    }
  ],
  "metadata": {
    "kernelspec": {
      "display_name": "Python 3 (ipykernel)",
      "language": "python",
      "name": "python3"
    },
    "language_info": {
      "codemirror_mode": {
        "name": "ipython",
        "version": 3
      },
      "file_extension": ".py",
      "mimetype": "text/x-python",
      "name": "python",
      "nbconvert_exporter": "python",
      "pygments_lexer": "ipython3",
      "version": "3.10.12"
    },
    "colab": {
      "provenance": []
    }
  },
  "nbformat": 4,
  "nbformat_minor": 5
}