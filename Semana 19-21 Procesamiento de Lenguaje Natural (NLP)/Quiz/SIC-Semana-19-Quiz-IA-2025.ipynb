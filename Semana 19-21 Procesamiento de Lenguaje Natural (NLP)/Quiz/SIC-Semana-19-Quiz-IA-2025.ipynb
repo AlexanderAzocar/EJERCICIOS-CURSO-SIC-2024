{
  "cells": [
    {
      "cell_type": "markdown",
      "id": "f34adb44",
      "metadata": {
        "id": "f34adb44"
      },
      "source": [
        "# Inteligencia Artificial\n",
        "\n",
        "## Capítulo 8\n",
        "\n",
        "### Fundamentos de las redes neuronales\n",
        "\n",
        "- **Unidad 1.** Modelo de neurona: el Perceptrón\n",
        "    * Entendiendo el Perceptrón con Excel\n",
        "    * Entendiendo el Perceptrón Multicapa con Excel\n",
        "    * Del Perceptrón Multicapa al Aprendizaje Profundo\n",
        "    * Retropropagación de errores y descenso de gradiente para reducir los errores\n",
        "    * Función de activación\n",
        "    * Aprendizaje profundo\n",
        "    * Problemas con el aprendizaje profundo\n",
        "- **Unidad 2.** Fundamentos de TensorFlow\n",
        "- **Unidad 3.** Métodos de aprendizaje profundo con TensorFlow y Keras\n",
        "\n",
        "# Quiz"
      ]
    },
    {
      "cell_type": "markdown",
      "id": "2e42031a",
      "metadata": {
        "id": "2e42031a"
      },
      "source": [
        "___"
      ]
    },
    {
      "cell_type": "markdown",
      "id": "ac1e9b02",
      "metadata": {
        "id": "ac1e9b02"
      },
      "source": [
        "## Q 08-01\n",
        "\n",
        "### 1. ¿Cuál es el problema que ocurre cuando el número de nodos es pequeño al analizar redes neuronales artificiales?\n",
        "1) Si la cantidad de nodos es pequeña, la cantidad de operaciones a procesar es pequeña, por lo que se realiza rápidamente.\n",
        "2) No se pueden crear límites complejos para la toma de decisiones al realizar un modelo de análisis.\n",
        "3) No se puede realizar el algoritmo de retropropagación que ajusta pesos y umbrales.\n",
        "4) La cantidad de nodos no tiene nada que ver con el modelo de análisis. *texto en cursiva*"
      ]
    },
    {
      "cell_type": "markdown",
      "id": "562ca3a9",
      "metadata": {
        "id": "562ca3a9"
      },
      "source": [
        "##Respuesta Q 08-01\n",
        "# La Respuesta es la 2"
      ]
    },
    {
      "cell_type": "markdown",
      "id": "26e1df49",
      "metadata": {
        "id": "26e1df49"
      },
      "source": [
        "___"
      ]
    },
    {
      "cell_type": "markdown",
      "id": "87a3a925",
      "metadata": {
        "id": "87a3a925"
      },
      "source": [
        "## Q 08-02\n",
        "\n",
        "### 2. ¿Cuál es el concepto que se describe a continuación?\n",
        "`Matriz multidimensional con 3 componentes: rango, forma, tipo`"
      ]
    },
    {
      "cell_type": "markdown",
      "id": "62678495",
      "metadata": {
        "id": "62678495"
      },
      "source": [
        "El concepto que se describe es un tensor."
      ]
    },
    {
      "cell_type": "markdown",
      "id": "203a055b",
      "metadata": {
        "id": "203a055b"
      },
      "source": [
        "___"
      ]
    },
    {
      "cell_type": "markdown",
      "id": "8c115f28",
      "metadata": {
        "id": "8c115f28"
      },
      "source": [
        "## Q 08-03\n",
        "\n",
        "### ¿Qué sucede si el error de verificación aumenta constantemente cuando graficamos el error de verificación para cada época utilizando el método de descenso de pendiente por lotes? Además, ¿cómo se puede solucionar este problema?"
      ]
    },
    {
      "cell_type": "markdown",
      "id": "4b66252e",
      "metadata": {
        "id": "4b66252e"
      },
      "source": [
        "Esto indica un problema de sobreajuste.\n",
        "Para solucionar este problema podriamos reducir la tasa de aprendizaje."
      ]
    },
    {
      "cell_type": "markdown",
      "id": "7410bc11",
      "metadata": {
        "id": "7410bc11"
      },
      "source": [
        "___"
      ]
    },
    {
      "cell_type": "markdown",
      "id": "410f8980",
      "metadata": {
        "id": "410f8980"
      },
      "source": [
        "## Q 08-04\n",
        "\n",
        "### La siguiente figura son datos con una estructura tridimensional.\n",
        "1) Presente las ecuaciones de convolución para (a)\n",
        "2) Presente las ecuaciones de convolución para (b)"
      ]
    },
    {
      "cell_type": "markdown",
      "id": "273f8c30",
      "metadata": {
        "id": "273f8c30"
      },
      "source": [
        "![q08-04.png](attachment:q08-04.png)"
      ]
    },
    {
      "cell_type": "markdown",
      "id": "df8a156a",
      "metadata": {
        "id": "df8a156a"
      },
      "source": [
        "Respuesta para a:\n",
        "\n",
        "y[i, j, o] = Σ (c=0 a C-1) Σ (α=0 a Kh-1) Σ (β=0 a Kw-1) w[α, β, c, o] * x[i+α, j+β, c] + b[o]"
      ]
    },
    {
      "cell_type": "markdown",
      "id": "b239c413",
      "metadata": {
        "id": "b239c413"
      },
      "source": [
        "Respuesta para b:\n",
        "\n",
        "y[i, j, k, o] = Σ (c=0 a C-1) Σ (α=0 a Kh-1) Σ (β=0 a Kw-1) Σ (γ=0 a Kd-1) w[α, β, γ, c, o] * x[i+α, j+β, k+γ, c] + b[o]"
      ]
    },
    {
      "cell_type": "markdown",
      "id": "ba019f33",
      "metadata": {
        "id": "ba019f33"
      },
      "source": [
        "___"
      ]
    },
    {
      "cell_type": "markdown",
      "id": "d4b76da3",
      "metadata": {
        "id": "d4b76da3"
      },
      "source": [
        "## Q 08-05\n",
        "\n",
        "### Aplique la función softmax cuando la salida de la red neuronal sea $(0.4,2.0,0.001,0.32)^T$ y escriba el resultado."
      ]
    },
    {
      "cell_type": "code",
      "execution_count": null,
      "id": "9c0126ba",
      "metadata": {
        "id": "9c0126ba",
        "outputId": "4d68e34c-8029-425b-da44-4b9e0765c6f2"
      },
      "outputs": [
        {
          "name": "stdout",
          "output_type": "stream",
          "text": [
            "Softmax: [0.13250053 0.65627943 0.08890663 0.12231341]\n"
          ]
        }
      ],
      "source": [
        "import numpy as np\n",
        "\n",
        "def softmax(x):\n",
        "    # Restamos el máximo para estabilidad numérica\n",
        "    e_x = np.exp(x - np.max(x))\n",
        "    return e_x / e_x.sum()\n",
        "\n",
        "# Vector de entrada\n",
        "x = np.array([0.4, 2.0, 0.001, 0.32])\n",
        "resultado = softmax(x)\n",
        "\n",
        "print(\"Softmax:\", resultado)"
      ]
    },
    {
      "cell_type": "markdown",
      "id": "aa90491d",
      "metadata": {
        "id": "aa90491d"
      },
      "source": [
        "___"
      ]
    },
    {
      "cell_type": "markdown",
      "id": "ed04e881",
      "metadata": {
        "id": "ed04e881"
      },
      "source": [
        "## Fin"
      ]
    }
  ],
  "metadata": {
    "kernelspec": {
      "display_name": "testing",
      "language": "python",
      "name": "python3"
    },
    "language_info": {
      "codemirror_mode": {
        "name": "ipython",
        "version": 3
      },
      "file_extension": ".py",
      "mimetype": "text/x-python",
      "name": "python",
      "nbconvert_exporter": "python",
      "pygments_lexer": "ipython3",
      "version": "3.11.2"
    },
    "colab": {
      "provenance": []
    }
  },
  "nbformat": 4,
  "nbformat_minor": 5
}