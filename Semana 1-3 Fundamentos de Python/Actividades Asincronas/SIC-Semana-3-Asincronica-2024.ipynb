{
  "cells": [
    {
      "cell_type": "markdown",
      "id": "5ad8356f",
      "metadata": {
        "id": "5ad8356f"
      },
      "source": [
        "# Actividades Capítulo 3.\n",
        "\n",
        "\n",
        "# Concepto básico de programación e inicio en Python\n",
        "\n",
        "## Resumen de actividades\n",
        "\n",
        "\n",
        "- **Unidad 17.** Función\n",
        "- **Unidad 18.** Llamada a la función de recurrencia.\n",
        "- **Unidad 19.** Lambda\n",
        "- **Unidad 20.** Clausura\n",
        "- **Unidad 21.** Clase\n"
      ]
    },
    {
      "cell_type": "markdown",
      "id": "8c5aa9c8",
      "metadata": {
        "id": "8c5aa9c8"
      },
      "source": [
        "# Actividad: Creacion de funciones.\n",
        "\n",
        "\n",
        "## Instrucciones\n",
        "\n",
        "1. Defina en forma breve el concepto de función.\n",
        "\n",
        "2. Crear una función para realizar la suma de los números impares en el rango de 0 a 100, dentro de la función imprima los valores sumados y al final retorne el resultado de la sumatoria.\n"
      ]
    },
    {
      "cell_type": "markdown",
      "source": [
        "#Respuesta\n",
        "##Una funcion son estructuras de codigo reutilizables, puedes recibir datos reutilizarlos y devolver datos, que resuelven problemas especificos"
      ],
      "metadata": {
        "id": "omkwB7rB0jZA"
      },
      "id": "omkwB7rB0jZA"
    },
    {
      "cell_type": "code",
      "execution_count": null,
      "id": "90cd2e33",
      "metadata": {
        "colab": {
          "base_uri": "https://localhost:8080/"
        },
        "id": "90cd2e33",
        "outputId": "4160a947-52bb-4485-ba7c-c3f21de2434c"
      },
      "outputs": [
        {
          "output_type": "stream",
          "name": "stdout",
          "text": [
            "Los números impares son: [1, 3, 5, 7, 9, 11, 13, 15, 17, 19, 21, 23, 25, 27, 29, 31, 33, 35, 37, 39, 41, 43, 45, 47, 49, 51, 53, 55, 57, 59, 61, 63, 65, 67, 69, 71, 73, 75, 77, 79, 81, 83, 85, 87, 89, 91, 93, 95, 97, 99]\n",
            "Resultado de la función: 2500\n"
          ]
        }
      ],
      "source": [
        "# Espacio para desarrollar el código requerido, recuerde agregar algunos\n",
        "# comentarios breves sobre su funcionamiento.valores = range(0,101)\n",
        "def suma_impares(): #Declaracion de la funcion para sumar los numeros impares\n",
        "    suma = 0 #variable de la suma de todos los numeros impares\n",
        "    impares = [] #lista que almacena todos los numeros impares\n",
        "    for numero in range(1, 101, 2): #un ciclo for que itere dentro de un rango de 1 - 101 solo numeros impares\n",
        "        suma += numero #aca se almacena la suma de los numeros impares con el iterador numero\n",
        "        impares.append(numero) #aca se agrega a la lista impares cada numero impar usando el metodo append\n",
        "    print(\"Los números impares son:\", impares) #aca se imprime la lista de numeros impares\n",
        "    return suma  # Agregar esta línea para retornar la suma\n",
        "\n",
        "resultado = suma_impares()  # Llamar a la función y almacenar el resultado\n",
        "print(\"Resultado de la función:\", resultado)\n"
      ]
    },
    {
      "cell_type": "markdown",
      "id": "a11871f3",
      "metadata": {
        "id": "a11871f3"
      },
      "source": [
        "# Actividad: Diseñe una función para codificar strings y otra para decodificar strings.\n",
        "\n",
        "1. Revise documentación relacionada a los procesos de encriptación, explique brevemente como funcionan.\n",
        "2. Ambas funciones deben tener como entrada un string y una ¨Clave\", la ¨Clave¨ será usada para codificar y decodificar.\n",
        "3. El desarrollo de está actividad esta abierto a multiples soluciones, por favor sea original en su respuesta.\n"
      ]
    },
    {
      "cell_type": "code",
      "execution_count": 43,
      "id": "1e7a5371",
      "metadata": {
        "id": "1e7a5371",
        "colab": {
          "base_uri": "https://localhost:8080/"
        },
        "outputId": "1557ecd6-68da-41e4-f4be-b9ea0b6016d6"
      },
      "outputs": [
        {
          "output_type": "stream",
          "name": "stdout",
          "text": [
            "Ingrese el mensaje que quiera codificar: santiago\n",
            "Ò²°Î¹¶Ê\n",
            "santiago\n"
          ]
        }
      ],
      "source": [
        "import random\n",
        "\n",
        "def encriptar(prompt):\n",
        "    primera_clave = [random.randint(30,100) for _ in range(len(prompt))]\n",
        "    prompt_encode = ''\n",
        "    for i, ch in enumerate(prompt):\n",
        "        new_ascii_value = ord(ch) + primera_clave[i]\n",
        "        prompt_encode += chr(new_ascii_value)\n",
        "\n",
        "    return prompt_encode, primera_clave\n",
        "\n",
        "def decode(prompt, key):\n",
        "    prompt_decode = ''\n",
        "    for i, ch in enumerate(prompt):\n",
        "        original_ascii_value = ord(ch) - key[i]\n",
        "        prompt_decode += chr(original_ascii_value)\n",
        "\n",
        "    return prompt_decode\n",
        "\n",
        "mensaje, key = encriptar(input('Ingrese el mensaje que quiera codificar: '))\n",
        "\n",
        "print(mensaje)\n",
        "print(decode(mensaje, key))\n"
      ]
    },
    {
      "cell_type": "markdown",
      "id": "a207d974",
      "metadata": {
        "id": "a207d974"
      },
      "source": [
        "\n",
        "# Actividad: Diseñe y codifique una función.\n",
        "\n",
        "1. Diseñe una función que revise el contenido de una carpeta, la mision de esta funcion es revisar todas las carpetas existentes y obtener los nommbres de los archivos contenidos.\n",
        "2. Considere que dentro de cada carpete pueden existir otras carpetas.\n",
        "3. Todas las carpetas deben ser revisadas.\n",
        "4. Con la ejecucion de la siguiente celda se crearan las carpetas y los archivos.\n",
        "5. Es posible que debas considerar el uso de una función recursiva."
      ]
    },
    {
      "cell_type": "code",
      "execution_count": 29,
      "id": "b4ac1d5a",
      "metadata": {
        "id": "b4ac1d5a",
        "colab": {
          "base_uri": "https://localhost:8080/"
        },
        "outputId": "98f856d8-8680-478d-91ae-0452e5fe03fc"
      },
      "outputs": [
        {
          "output_type": "stream",
          "name": "stdout",
          "text": [
            "Carpeta_principal\n",
            "Carpeta_principal/folder_0\n",
            "Carpeta_principal/folder_0\n",
            "Carpeta_principal/folder_0/folder_2\n",
            "Carpeta_principal/folder_0/folder_5\n",
            "Carpeta_principal/folder_0/folder_7\n",
            "Carpeta_principal/folder_0/folder_7\n",
            "Carpeta_principal/folder_0/folder_5\n",
            "Carpeta_principal/folder_0/folder_5/folder_1\n",
            "Carpeta_principal/folder_0/folder_5/folder_1\n",
            "Carpeta_principal/folder_0/folder_2\n"
          ]
        }
      ],
      "source": [
        "import os\n",
        "import random\n",
        "\n",
        "def guardar_archivo(text_content, file_path):\n",
        "    with open(file_path, 'w') as file:\n",
        "        # Write the text content to the file\n",
        "        file.write(text_content)\n",
        "\n",
        "\n",
        "if os.path.exists(\"Carpeta_principal\"):\n",
        "    os.system(f'rm -r \"Carpeta_principal\"')\n",
        "\n",
        "os.mkdir(\"Carpeta_principal\")\n",
        "# Inicialización\n",
        "\n",
        "\n",
        "\n",
        "def crear_carpetas(ruta_actual):\n",
        "    global numeracion_del_archivo, numero_de_sub_carpetas\n",
        "    numero_de_archivos_o_carpetas = random.randint(0,15) # genración de numero aleatorio entre 0 y 15.\n",
        "    print(ruta_actual)\n",
        "    if numero_de_sub_carpetas < max_carpetas:\n",
        "        for n in range(0, numero_de_archivos_o_carpetas):\n",
        "\n",
        "            numero_aleatorio_2 = random.randint(0,2) # número aleatoria entre 0 y 1.\n",
        "            if numero_aleatorio_2 == 0:\n",
        "                os.mkdir(ruta_actual +'/'+ 'folder_{}'.format(n) )\n",
        "                print(ruta_actual +'/'+ 'folder_{}'.format(n))\n",
        "            else:\n",
        "                contenido_del_archivo = \"Contenido_{}\".format(numeracion_del_archivo)\n",
        "                ruta_del_archivo = ruta_actual + '/' + \"archivo_{}.text\".format(numeracion_del_archivo)\n",
        "#                 print(\"ruta_del_archivo: \", ruta_del_archivo)\n",
        "                guardar_archivo(contenido_del_archivo, ruta_del_archivo)\n",
        "                numeracion_del_archivo += 1\n",
        "\n",
        "        lista_de_nuevas_carpetas = [f.path for f in os.scandir(ruta_actual) if f.is_dir()] # Busqueda de nueva carpeta\n",
        "\n",
        "        numero_de_sub_carpetas += 1\n",
        "        for carpeta in lista_de_nuevas_carpetas:\n",
        "            crear_carpetas(carpeta)\n",
        "max_carpetas = 4\n",
        "numeracion_del_archivo = 0\n",
        "numero_de_sub_carpetas = 0\n",
        "ruta_actual = \"Carpeta_principal\"\n",
        "crear_carpetas(ruta_actual)"
      ]
    },
    {
      "cell_type": "code",
      "execution_count": 30,
      "id": "a4f925a4",
      "metadata": {
        "id": "a4f925a4",
        "colab": {
          "base_uri": "https://localhost:8080/"
        },
        "outputId": "3769180a-82b5-4ae5-cec2-2521946c4a1d"
      },
      "outputs": [
        {
          "output_type": "stream",
          "name": "stdout",
          "text": [
            "Los archivos de la ruta: \n",
            " \"Carpeta_principal/archivo_1.text\", son: \n",
            "\t \"archivo_1.text\"\n",
            "Los archivos de la ruta: \n",
            " \"Carpeta_principal/archivo_0.text\", son: \n",
            "\t \"archivo_0.text\"\n",
            "Los archivos de la ruta: \n",
            " \"Carpeta_principal/folder_0/archivo_3.text\", son: \n",
            "\t \"archivo_3.text\"\n",
            "Los archivos de la ruta: \n",
            " \"Carpeta_principal/folder_0/archivo_6.text\", son: \n",
            "\t \"archivo_6.text\"\n",
            "Los archivos de la ruta: \n",
            " \"Carpeta_principal/folder_0/archivo_5.text\", son: \n",
            "\t \"archivo_5.text\"\n",
            "Los archivos de la ruta: \n",
            " \"Carpeta_principal/folder_0/folder_5/archivo_10.text\", son: \n",
            "\t \"archivo_10.text\"\n",
            "Los archivos de la ruta: \n",
            " \"Carpeta_principal/folder_0/folder_5/archivo_8.text\", son: \n",
            "\t \"archivo_8.text\"\n",
            "Los archivos de la ruta: \n",
            " \"Carpeta_principal/folder_0/folder_5/archivo_9.text\", son: \n",
            "\t \"archivo_9.text\"\n",
            "Los archivos de la ruta: \n",
            " \"Carpeta_principal/folder_0/archivo_7.text\", son: \n",
            "\t \"archivo_7.text\"\n",
            "Los archivos de la ruta: \n",
            " \"Carpeta_principal/folder_0/archivo_4.text\", son: \n",
            "\t \"archivo_4.text\"\n",
            "Los archivos de la ruta: \n",
            " \"Carpeta_principal/archivo_2.text\", son: \n",
            "\t \"archivo_2.text\"\n"
          ]
        }
      ],
      "source": [
        "# Celda para desarrollar\n",
        "def leer_carpetas(dir):\n",
        "    ruta_completa = os.path.join(dir)\n",
        "    content = os.listdir(ruta_completa)\n",
        "\n",
        "    for element in content:\n",
        "        ruta = os.path.join(ruta_completa, element)\n",
        "\n",
        "        if os.path.isfile(ruta):\n",
        "            print(f'Los archivos de la ruta: \\n \"{ruta}\", son: \\n\\t \"{element}\"')\n",
        "        else:\n",
        "            leer_carpetas(ruta)\n",
        "\n",
        "leer_carpetas(ruta_actual)"
      ]
    },
    {
      "cell_type": "markdown",
      "id": "26a6bb9e",
      "metadata": {
        "id": "26a6bb9e"
      },
      "source": [
        "# Actividad: Crear diccionarios y guardarlos como archivo JSON.\n",
        "\n",
        "De la unidad 11 sección 4.6 revise el ejemplo mostrado.\n",
        "\n",
        "Genera un diccionario, sobre la información que deseas guardar como base de datos, desarrollo el código necesario para generar el archivo JSON, y también el código para cargar la información del archivo JSON.\n"
      ]
    },
    {
      "cell_type": "code",
      "execution_count": 47,
      "id": "6670eace",
      "metadata": {
        "id": "6670eace",
        "colab": {
          "base_uri": "https://localhost:8080/"
        },
        "outputId": "cabe432e-ac0b-41dd-c327-79a148640dae"
      },
      "outputs": [
        {
          "output_type": "stream",
          "name": "stdout",
          "text": [
            "{\"nombre\":\"Alexander\",\"edad\":21,\"pais\":\"Venezuela\"}\n",
            "<class 'str'>\n"
          ]
        }
      ],
      "source": [
        "# Espacio para desarrollar el código siguiendo las instrucciones.\n",
        "import json\n",
        "\n",
        "json_dic = '{\"nombre\":\"Alexander\",\"edad\":21,\"pais\":\"Venezuela\"}'\n",
        "print(json_dic)\n",
        "\n",
        "\n",
        "python_dict = json.loads(json_dic)\n",
        "with open('json_dic.json', 'w') as archive:\n",
        "    json.dump(json_dic, archive, indent='\\t')\n",
        "\n",
        "print(type(json_dic))\n"
      ]
    },
    {
      "cell_type": "markdown",
      "id": "fbfb4985",
      "metadata": {
        "id": "fbfb4985"
      },
      "source": [
        "# Actividad: Uso de la funcion Lambda.\n",
        "\n",
        "## Instrucciones\n",
        "\n",
        "1. Escriba una función regular donde se realice una operación.\n",
        "2. Escriba la misma función donde use la expresión lambda.\n",
        "3. Explica brevemente las ventajas de usar la función Lambda.\n",
        " Respuesta\n",
        "\n",
        " *  Una de las ventajas de usar La funcion lambda es que nos permiten definir funciones pequeñas en una sola línea de código.\n",
        "\n",
        " *  Al ser funciones anónimas, las funciones lambda pueden ser utilizadas directamente en el lugar donde se necesitan.\n",
        "\n",
        " * Al eliminar la necesidad de definir funciones completas con def, las funciones lambda pueden ayudar a reducir la cantidad de código necesario."
      ]
    },
    {
      "cell_type": "code",
      "execution_count": 46,
      "id": "fc5b1a43",
      "metadata": {
        "colab": {
          "base_uri": "https://localhost:8080/"
        },
        "id": "fc5b1a43",
        "outputId": "3f77a18c-3034-4ac2-c5da-dbeb594dd870"
      },
      "outputs": [
        {
          "output_type": "stream",
          "name": "stdout",
          "text": [
            "[('juna', 4.5), ('david', 3.2), ('maria', 2.3), ('jean', 1.1)]\n"
          ]
        }
      ],
      "source": [
        "# Espacio para desarrollar el código siguiendo las instrucciones.\n",
        "#funcion para retornar la calificacion de un estudiante en la lista de estudiantes y ordenarlos con la funcion sort\n",
        "def retornar_lista(estudiante):\n",
        "    return estudiante[1]\n",
        "lista_estudiantes = [('maria', 2.3),\n",
        "                     ('juna', 4.5),\n",
        "                     ('david', 3.2),\n",
        "                     ('jean', 1.1)]\n",
        "\n",
        "lista_estudiantes.sort(key=retornar_lista, reverse=True)\n",
        "print(lista_estudiantes)"
      ]
    },
    {
      "cell_type": "code",
      "source": [
        "lista_estudiantes = [('maria', 2.3),\n",
        "                     ('juna', 4.5),\n",
        "                     ('david', 3.2),\n",
        "                     ('jean', 1.1)]\n",
        "\n",
        "lista_estudiantes.sort(key=lambda estudiante: estudiante[1], reverse= True) #y aca se agrego la funcion lambda\n",
        "print(lista_estudiantes)"
      ],
      "metadata": {
        "colab": {
          "base_uri": "https://localhost:8080/"
        },
        "id": "wShMOOsn9a-a",
        "outputId": "b6041e07-79b7-47e5-ba5d-3df3f4d7cd28"
      },
      "id": "wShMOOsn9a-a",
      "execution_count": 45,
      "outputs": [
        {
          "output_type": "stream",
          "name": "stdout",
          "text": [
            "[('juna', 4.5), ('david', 3.2), ('maria', 2.3), ('jean', 1.1)]\n"
          ]
        }
      ]
    },
    {
      "cell_type": "markdown",
      "id": "98938d2d",
      "metadata": {
        "id": "98938d2d"
      },
      "source": [
        "# Actividad: Usar la función map para duplicar el valor de cada uno de los elementos contenidos.\n",
        "\n",
        "## Instrucciones\n",
        "\n",
        "1. Describa brevemente el pfuncionamiento y las ventajas de usar la función ma\n",
        "2. Escriba el código en el siguiente espacio.\n",
        "\n",
        "Respuesta\n",
        "\n",
        "la funcion map() nos permite aplicar una función a cada elemento de un objeto iterable, como una lista o una tupla. Esta funcion toma dos argumentos tales como una función y un iterable. La función se aplica a cada elemento del iterable, y el resultado es un objeto iterable que contiene los resultados de la aplicación de la función."
      ]
    },
    {
      "cell_type": "code",
      "execution_count": 44,
      "id": "a35ef1b7",
      "metadata": {
        "id": "a35ef1b7",
        "colab": {
          "base_uri": "https://localhost:8080/"
        },
        "outputId": "4ef76032-7d41-4abe-9ddd-01317ffdffb0"
      },
      "outputs": [
        {
          "output_type": "stream",
          "name": "stdout",
          "text": [
            "[1, 4, 9, 16, 25, 36, 49, 64, 81, 100, 121, 144, 169, 196, 225, 256, 289, 324, 361, 400, 441, 484, 529, 576, 625, 676, 729, 784, 841, 900, 961, 1024, 1089, 1156, 1225, 1296, 1369, 1444, 1521, 1600, 1681, 1764, 1849, 1936, 2025, 2116, 2209, 2304, 2401, 2500, 2601, 2704, 2809, 2916, 3025, 3136, 3249, 3364, 3481, 3600, 3721, 3844, 3969, 4096, 4225, 4356, 4489, 4624, 4761, 4900, 5041, 5184, 5329, 5476, 5625, 5776, 5929, 6084, 6241, 6400, 6561, 6724, 6889, 7056, 7225, 7396, 7569, 7744, 7921, 8100, 8281, 8464, 8649, 8836, 9025, 9216, 9409, 9604, 9801, 10000]\n"
          ]
        }
      ],
      "source": [
        "# Espacio para desarrollar el código.\n",
        "def duplicar_valor(numero):\n",
        "    return numero * numero\n",
        "\n",
        "numeros = list(range(1,101))\n",
        "numeros_duplicados = list(map(duplicar_valor, numeros))\n",
        "print(numeros_duplicados)\n"
      ]
    }
  ],
  "metadata": {
    "kernelspec": {
      "display_name": "Python 3 (ipykernel)",
      "language": "python",
      "name": "python3"
    },
    "language_info": {
      "codemirror_mode": {
        "name": "ipython",
        "version": 3
      },
      "file_extension": ".py",
      "mimetype": "text/x-python",
      "name": "python",
      "nbconvert_exporter": "python",
      "pygments_lexer": "ipython3",
      "version": "3.10.12"
    },
    "colab": {
      "provenance": []
    }
  },
  "nbformat": 4,
  "nbformat_minor": 5
}