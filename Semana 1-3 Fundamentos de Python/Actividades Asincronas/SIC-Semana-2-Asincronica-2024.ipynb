{
  "cells": [
    {
      "cell_type": "markdown",
      "id": "5ad8356f",
      "metadata": {
        "id": "5ad8356f"
      },
      "source": [
        "# Actividades Capítulo 2.\n",
        "\n",
        "\n",
        "# Concepto básico de programación e inicio en Python\n",
        "\n",
        "## Resumen de actividades\n",
        "\n",
        "- **Unidad 10.** Tipos de datos lista y tupla Tipos de datos lista y tupla\n",
        "- **Unidad 11.** Tipos de datos de diccionario Tipos de datos de diccionario\n",
        "- **Unidad 12.** Tipos de datos de secuencia\n",
        "- **Unidad 13.** Listas 2D\n",
        "- **Unidad 14.** Método del diccionario-1\n",
        "- **Unidad 15.** Método del diccionario-2\n",
        "- **Unidad 16.** Establecer tipos de datos\n"
      ]
    },
    {
      "cell_type": "markdown",
      "id": "8c5aa9c8",
      "metadata": {
        "id": "8c5aa9c8"
      },
      "source": [
        "# Actividad: Creación de una Base de Datos en Python\n",
        "\n",
        "## Descripción\n",
        "\n",
        "A continuación debes crear una base de datos simple utilizando listas en Python. Una base de datos es una colección de datos organizados que se utilizan para almacenar y recuperar información. En este caso, simularemos una base de datos de estudiantes con información básica.\n",
        "\n",
        "## Instrucciones\n",
        "\n",
        "1. Crea un programa en Python que permita a los usuarios realizar las siguientes acciones:\n",
        "\n",
        "   a. Agregar un nuevo estudiante a la base de datos. Cada estudiante debe tener al menos un nombre, un número de identificación y una edad. Puedes utilizar una lista para almacenar estos datos.\n",
        "\n",
        "   b. Mostrar la lista de estudiantes en la base de datos.\n",
        "\n",
        "   c. Buscar un estudiante por su número de identificación y mostrar su información.\n",
        "\n",
        "   d. Actualizar la información de un estudiante existente en la base de datos.\n",
        "\n",
        "   e. Eliminar un estudiante de la base de datos.\n",
        "\n",
        "2. Utiliza listas de Python para almacenar la información de los estudiantes. Por ejemplo, puedes crear una lista de diccionarios, donde cada diccionario representa un estudiante con sus datos.\n",
        "\n",
        "3. Ofrece un menú interactivo que permita a los usuarios elegir las acciones que desean realizar en la base de datos.\n",
        "\n",
        "4. Implementa la lógica necesaria para cada acción, como agregar, buscar, actualizar o eliminar estudiantes.\n",
        "\n",
        "## Ejemplo de Base de Datos\n",
        "\n",
        "A continuación, se muestra un ejemplo de cómo podría verse una base de datos de estudiantes utilizando listas y diccionarios:\n",
        "\n",
        "```python\n",
        "base_de_datos = [\n",
        "    {\"nombre\": \"Juan\", \"id\": 1, \"edad\": 20},\n",
        "    {\"nombre\": \"María\", \"id\": 2, \"edad\": 22},\n",
        "    {\"nombre\": \"Carlos\", \"id\": 3, \"edad\": 21}\n",
        "]\n",
        "\n",
        "Desarrolle el código en la siguiente lista."
      ]
    },
    {
      "cell_type": "code",
      "execution_count": 1,
      "id": "90cd2e33",
      "metadata": {
        "id": "90cd2e33",
        "colab": {
          "base_uri": "https://localhost:8080/"
        },
        "outputId": "36940635-4008-48bb-c5af-2e102a65b697"
      },
      "outputs": [
        {
          "name": "stdout",
          "output_type": "stream",
          "text": [
            "\n",
            "Menú:\n",
            "1. Agregar estudiante\n",
            "2. Mostrar estudiantes\n",
            "3. Buscar estudiante\n",
            "4. Actualizar estudiante\n",
            "5. Eliminar estudiante\n",
            "6. Salir\n",
            "Seleccione una opción: 2\n",
            "Nombre: Juan, ID: 1, Edad: 20\n",
            "Nombre: María, ID: 2, Edad: 22\n",
            "Nombre: Carlos, ID: 3, Edad: 21\n",
            "\n",
            "Menú:\n",
            "1. Agregar estudiante\n",
            "2. Mostrar estudiantes\n",
            "3. Buscar estudiante\n",
            "4. Actualizar estudiante\n",
            "5. Eliminar estudiante\n",
            "6. Salir\n",
            "Seleccione una opción: 1\n",
            "Ingrese el nombre del estudiante: Alexander Azocar\n",
            "Ingrese el ID del estudiante: 4\n",
            "Ingrese la edad del estudiante: 21\n",
            "\n",
            "Menú:\n",
            "1. Agregar estudiante\n",
            "2. Mostrar estudiantes\n",
            "3. Buscar estudiante\n",
            "4. Actualizar estudiante\n",
            "5. Eliminar estudiante\n",
            "6. Salir\n",
            "Seleccione una opción: 2\n",
            "Nombre: Juan, ID: 1, Edad: 20\n",
            "Nombre: María, ID: 2, Edad: 22\n",
            "Nombre: Carlos, ID: 3, Edad: 21\n",
            "Nombre: Alexander Azocar, ID: 4, Edad: 21\n",
            "\n",
            "Menú:\n",
            "1. Agregar estudiante\n",
            "2. Mostrar estudiantes\n",
            "3. Buscar estudiante\n",
            "4. Actualizar estudiante\n",
            "5. Eliminar estudiante\n",
            "6. Salir\n",
            "Seleccione una opción: 3\n",
            "Ingrese el ID del estudiante a buscar: 2\n",
            "Nombre: María, ID: 2, Edad: 22\n",
            "\n",
            "Menú:\n",
            "1. Agregar estudiante\n",
            "2. Mostrar estudiantes\n",
            "3. Buscar estudiante\n",
            "4. Actualizar estudiante\n",
            "5. Eliminar estudiante\n",
            "6. Salir\n",
            "Seleccione una opción: 4\n",
            "Ingrese el ID del estudiante a actualizar: 2\n",
            "Ingrese el nuevo nombre del estudiante: Rosa\n",
            "Ingrese la nueva edad del estudiante: 20\n",
            "Estudiante actualizado.\n",
            "\n",
            "Menú:\n",
            "1. Agregar estudiante\n",
            "2. Mostrar estudiantes\n",
            "3. Buscar estudiante\n",
            "4. Actualizar estudiante\n",
            "5. Eliminar estudiante\n",
            "6. Salir\n",
            "Seleccione una opción: 2\n",
            "Nombre: Juan, ID: 1, Edad: 20\n",
            "Nombre: Rosa, ID: 2, Edad: 20\n",
            "Nombre: Carlos, ID: 3, Edad: 21\n",
            "Nombre: Alexander Azocar, ID: 4, Edad: 21\n",
            "\n",
            "Menú:\n",
            "1. Agregar estudiante\n",
            "2. Mostrar estudiantes\n",
            "3. Buscar estudiante\n",
            "4. Actualizar estudiante\n",
            "5. Eliminar estudiante\n",
            "6. Salir\n",
            "Seleccione una opción: 5\n",
            "Ingrese el ID del estudiante a eliminar: 2\n",
            "Estudiante eliminado.\n",
            "\n",
            "Menú:\n",
            "1. Agregar estudiante\n",
            "2. Mostrar estudiantes\n",
            "3. Buscar estudiante\n",
            "4. Actualizar estudiante\n",
            "5. Eliminar estudiante\n",
            "6. Salir\n",
            "Seleccione una opción: 2\n",
            "Nombre: Juan, ID: 1, Edad: 20\n",
            "Nombre: Carlos, ID: 3, Edad: 21\n",
            "Nombre: Alexander Azocar, ID: 4, Edad: 21\n",
            "\n",
            "Menú:\n",
            "1. Agregar estudiante\n",
            "2. Mostrar estudiantes\n",
            "3. Buscar estudiante\n",
            "4. Actualizar estudiante\n",
            "5. Eliminar estudiante\n",
            "6. Salir\n",
            "Seleccione una opción: 6\n"
          ]
        }
      ],
      "source": [
        "def agregar_estudiante(base_de_datos, nombre, id, edad):\n",
        "    base_de_datos.append({\"nombre\": nombre, \"id\": id, \"edad\": edad})\n",
        "\n",
        "def mostrar_estudiantes(base_de_datos):\n",
        "    for estudiante in base_de_datos:\n",
        "        print(f\"Nombre: {estudiante['nombre']}, ID: {estudiante['id']}, Edad: {estudiante['edad']}\")\n",
        "\n",
        "def buscar_estudiante(base_de_datos, id):\n",
        "    for estudiante in base_de_datos:\n",
        "        if estudiante['id'] == id:\n",
        "            return estudiante\n",
        "    return None\n",
        "\n",
        "def actualizar_estudiante(base_de_datos, id, nombre, edad):\n",
        "    for estudiante in base_de_datos:\n",
        "        if estudiante['id'] == id:\n",
        "            estudiante['nombre'] = nombre\n",
        "            estudiante['edad'] = edad\n",
        "            return True\n",
        "    return False\n",
        "\n",
        "def eliminar_estudiante(base_de_datos, id):\n",
        "    for i, estudiante in enumerate(base_de_datos):\n",
        "        if estudiante['id'] == id:\n",
        "            del base_de_datos[i]\n",
        "            return True\n",
        "    return False\n",
        "\n",
        "def menu():\n",
        "    base_de_datos = [\n",
        "        {\"nombre\": \"Juan\", \"id\": 1, \"edad\": 20},\n",
        "        {\"nombre\": \"María\", \"id\": 2, \"edad\": 22},\n",
        "        {\"nombre\": \"Carlos\", \"id\": 3, \"edad\": 21}\n",
        "    ]\n",
        "\n",
        "    while True:\n",
        "        print(\"\\nMenú:\")\n",
        "        print(\"1. Agregar estudiante\")\n",
        "        print(\"2. Mostrar estudiantes\")\n",
        "        print(\"3. Buscar estudiante\")\n",
        "        print(\"4. Actualizar estudiante\")\n",
        "        print(\"5. Eliminar estudiante\")\n",
        "        print(\"6. Salir\")\n",
        "\n",
        "        opcion = input(\"Seleccione una opción: \")\n",
        "\n",
        "        if opcion == '1':\n",
        "            nombre = input(\"Ingrese el nombre del estudiante: \")\n",
        "            id = int(input(\"Ingrese el ID del estudiante: \"))\n",
        "            edad = int(input(\"Ingrese la edad del estudiante: \"))\n",
        "            agregar_estudiante(base_de_datos, nombre, id, edad)\n",
        "\n",
        "        elif opcion == '2':\n",
        "            mostrar_estudiantes(base_de_datos)\n",
        "\n",
        "        elif opcion == '3':\n",
        "            id = int(input(\"Ingrese el ID del estudiante a buscar: \"))\n",
        "            estudiante = buscar_estudiante(base_de_datos, id)\n",
        "            if estudiante:\n",
        "                print(f\"Nombre: {estudiante['nombre']}, ID: {estudiante['id']}, Edad: {estudiante['edad']}\")\n",
        "            else:\n",
        "                print(\"Estudiante no encontrado.\")\n",
        "\n",
        "        elif opcion == '4':\n",
        "            id = int(input(\"Ingrese el ID del estudiante a actualizar: \"))\n",
        "            nombre = input(\"Ingrese el nuevo nombre del estudiante: \")\n",
        "            edad = int(input(\"Ingrese la nueva edad del estudiante: \"))\n",
        "            if actualizar_estudiante(base_de_datos, id, nombre, edad):\n",
        "                print(\"Estudiante actualizado.\")\n",
        "            else:\n",
        "                print(\"Estudiante no encontrado.\")\n",
        "\n",
        "        elif opcion == '5':\n",
        "            id = int(input(\"Ingrese el ID del estudiante a eliminar: \"))\n",
        "            if eliminar_estudiante(base_de_datos, id):\n",
        "                print(\"Estudiante eliminado.\")\n",
        "            else:\n",
        "                print(\"Estudiante no encontrado.\")\n",
        "\n",
        "        elif opcion == '6':\n",
        "            break\n",
        "\n",
        "        else:\n",
        "            print(\"Opción no válida. Intente de nuevo.\")\n",
        "\n",
        "menu()"
      ]
    },
    {
      "cell_type": "markdown",
      "id": "a11871f3",
      "metadata": {
        "id": "a11871f3"
      },
      "source": [
        "# Actividad: Rebanado de listas.\n",
        "\n",
        "Revisa la unidad 10,sección 5.3 aparece un resumen de los comandos para tomar secciones de una lista, aplica los comandos en la siguiente lista:\n",
        "\n",
        "\n",
        "list_notas = [15, 21, 24, 40, 13, 14, 18, 17, 14.5]\n",
        "\n"
      ]
    },
    {
      "cell_type": "code",
      "execution_count": null,
      "id": "1e7a5371",
      "metadata": {
        "colab": {
          "base_uri": "https://localhost:8080/"
        },
        "id": "1e7a5371",
        "outputId": "b37ad9e6-95f7-482e-9656-afb549d0af34"
      },
      "outputs": [
        {
          "output_type": "stream",
          "name": "stdout",
          "text": [
            "[15, 21, 24, 40, 13, 14, 18, 17, 14.5]\n",
            "[15, 21, 24, 40, 13, 14, 18, 17]\n",
            "[21, 24, 40, 13, 14, 18, 17, 14.5]\n",
            "[15, 21, 24, 40, 13, 14, 18]\n",
            "[17, 14.5]\n",
            "[14.5, 17, 18, 14, 13, 40, 24, 21, 15]\n",
            "[21, 15]\n",
            "[21, 13, 17]\n"
          ]
        }
      ],
      "source": [
        "# Espacio para desarrollar las pruebas, si tienes alguna duda o comentario adicional\n",
        "# lo puedes dejar planteado acá.\n",
        "list_notas = [15, 21, 24, 40, 13, 14, 18, 17, 14.5]\n",
        "print(list_notas[:])#este comando de rebana toda la lista\n",
        "print(list_notas[:-1]) #este comando rebana los elementos desde el inicio hasta el fin, no incluye los elementos del indice final\n",
        "print(list_notas[1:]) #este comando rebana los elementos desde el indice 1 hasta el final\n",
        "print(list_notas[:-2]) #este comando rebana los elementos desde el inicio hasta el indice -2, no incluye el indice -2\n",
        "print(list_notas[-2:]) #este comando rebana partidas enteras desde el principio excepto las dos ultimas partidas\n",
        "print(list_notas[::-1]) #Extrae todos los indices en orden inverso\n",
        "print(list_notas[1::-1]) #este comando corta los dos primeros elementos en orden inverso\n",
        "print(list_notas[1:-1:3]) #este comando es el incio, fin, paso, rebana saltandose un paso de principio a fin -1\n",
        "print(list_notas[::2]) # Devuelve los indices que corresponden a las posiciones de los pasos que se le pasaron como argumento.\n",
        "\n",
        "\n",
        "\n",
        "\n",
        "\n",
        "\n",
        "\n",
        "\n",
        "\n"
      ]
    },
    {
      "cell_type": "markdown",
      "id": "a207d974",
      "metadata": {
        "id": "a207d974"
      },
      "source": [
        "\n",
        "# Actividad: Diferentes métodos usados en listas.\n",
        "\n",
        "De la unidad 10, sección 6.3 revise los métodos disponibles para usar sobre las listas.\n",
        "\n",
        "Aplique los métodos disponibles sobre la lista mostrada en la siguiente celda.\n",
        "\n",
        "Nota: usando el método **sort()** ordene de mayor a menor y viceversa (Si es necesario revise documentación adicional relacionada sobre este método)\n"
      ]
    },
    {
      "cell_type": "code",
      "execution_count": null,
      "id": "b4ac1d5a",
      "metadata": {
        "id": "b4ac1d5a"
      },
      "outputs": [],
      "source": [
        "# Aplique los métodos disponibles y agregue comentarios breves sobre su funcinamiento.\n",
        "\n",
        "list_notas = [15, 21, 24, 40, 13, 14, 18, 13, 17, 14.5]\n",
        "list_notas_2 = [22, 30, 25, 40, 25, 15]\n",
        "list_notas.clear() #este metodo elimina todos los elementos de la lista\n",
        "list_notas.append(7) #este metodo añade un item al final de la lista\n",
        "list_notas.extend(list_notas_2) #este metodo une una lista a otra\n",
        "list_notas.count(15) #este metodo cuenta el numero de veces que aparece un item\n",
        "list_notas.index(15) #este metodo devuelve el indice de un item\n",
        "list_notas.insert(3, 20) #este metodo inserta un item en un indice especifico\n",
        "list_notas.pop() #este metodo elimina el ultimo item de la lista, o Podemos indicarle un índice con el elemento a sacar\n",
        "list_notas.pop((3)) #aca el ejemplo de eliminar un indice en especifico\n",
        "list_notas.remove(40) #este metodo borra el item de la lista cuyo valor concuerde con el que indicamos\n",
        "list_notas.reverse() #este metodo invierte el orden de los elementos de la lista\n",
        "list_notas.sort() # este metodo Ordena automáticamente los ítems de una lista por su valor de menor a mayor:\n",
        "list_notas.copy() # Crea una copia superficial de la lista.\n",
        "\n",
        "\n",
        "\n",
        "\n",
        "\n",
        "\n",
        "\n",
        "\n",
        "\n",
        "\n",
        "\n",
        "\n"
      ]
    },
    {
      "cell_type": "markdown",
      "id": "26a6bb9e",
      "metadata": {
        "id": "26a6bb9e"
      },
      "source": [
        "# Actividad: Crear diccionarios y guardarlos como archivo JSON.\n",
        "\n",
        "De la unidad 11 sección 4.6 revise el ejemplo mostrado.\n",
        "\n",
        "Genera un diccionario, sobre la información que deseas guardar como base de datos, desarrollo el código necesario para generar el archivo JSON, y también el código para cargar la información del archivo JSON.\n"
      ]
    },
    {
      "cell_type": "code",
      "execution_count": null,
      "id": "6670eace",
      "metadata": {
        "colab": {
          "base_uri": "https://localhost:8080/"
        },
        "id": "6670eace",
        "outputId": "f753b4be-591e-4e84-9b52-8a85486f1b78"
      },
      "outputs": [
        {
          "output_type": "stream",
          "name": "stdout",
          "text": [
            "{'name': 'Alexander', 'last_name': 'Azocar', 'age': 21, 'languages': ['c++', 'JavaScript']}\n"
          ]
        }
      ],
      "source": [
        "# Espacio para desarrollar el código.\n",
        "\n",
        "import json\n",
        "\n",
        "data = '{\"name\": \"Alexander\",\"last_name\": \"Azocar\",\"age\": 21,\"languages\": [\"c++\", \"JavaScript\"]}'\n",
        "\n",
        "json_data = json.loads(data)\n",
        "\n",
        "with open('book.json', 'w') as archive:\n",
        "    json.dump(json_data, archive, indent='\\t')\n",
        "\n",
        "print(json_data)\n",
        "\n",
        "\n",
        "\n",
        "\n",
        "\n",
        "\n",
        "\n",
        "\n",
        "\n",
        "\n",
        "\n",
        "\n"
      ]
    },
    {
      "cell_type": "markdown",
      "id": "fbfb4985",
      "metadata": {
        "id": "fbfb4985"
      },
      "source": [
        "# Actividad: Creación y manejo de tuplas.\n",
        "\n",
        "## Instrucciones\n",
        "\n",
        "1. Escriba una diferencia entre las tuplas y las listas.\n",
        "###Respuesta de la 1\n",
        " Una tupla es similar a una lista en el sentido de que también puede almacenar varios elementos en una misma variable, de manera ordenada. Sin embargo, a diferencia de las listas, las tuplas son inmutables, lo que significa que no se pueden modificar después de su creación.\n",
        "2. Crear una tupla con varios elementos.\n",
        "3. Usar el operador in para verificar si la tuple contiene determinado elemento.\n"
      ]
    },
    {
      "cell_type": "code",
      "execution_count": null,
      "id": "fc5b1a43",
      "metadata": {
        "colab": {
          "base_uri": "https://localhost:8080/"
        },
        "id": "fc5b1a43",
        "outputId": "aa86f82f-f102-4937-f438-4cb080d3feb9"
      },
      "outputs": [
        {
          "output_type": "stream",
          "name": "stdout",
          "text": [
            "(1, 2, 3, 4, 5, 55, 88, 34, 12, 87)\n",
            "True\n",
            "El número 5 está en la tupla.\n"
          ]
        }
      ],
      "source": [
        "# Espacio para desarrollar el código siguiendo las instrucciones.\n",
        "\n",
        "tupla_practica = (1, 2, 3, 4, 5, 55, 88, 34, 12, 87)\n",
        "print(tupla_practica)\n",
        "print(87 in tupla_practica)\n",
        "if 5 in tupla_practica:\n",
        "    print(\"El número 5 está en la tupla.\")\n",
        "else:\n",
        "    print(\"El número 5 no está en la tupla.\")\n",
        "\n",
        "\n",
        "\n",
        "\n",
        "\n",
        "\n",
        "\n"
      ]
    },
    {
      "cell_type": "markdown",
      "id": "98938d2d",
      "metadata": {
        "id": "98938d2d"
      },
      "source": [
        "# Actividad: Revisión y manejo de listas bidimensionales.\n",
        "\n",
        "## Instrucciones\n",
        "\n",
        "1. Describa brevemente que entiende por lista bidimensional.\n",
        "  ### una lista bidimensional se define como una matriz dentro de la matriz. El índice de la matriz comienza con 0 y termina con un tamaño de matriz menos 1.\n",
        "2. Crear una lista bidimensional.\n",
        "3. Generar un doble loop para acceder de la lista bidimensional\n",
        "4. Sumar todo los elementos de esta lista bidimensional."
      ]
    },
    {
      "cell_type": "code",
      "execution_count": null,
      "id": "a35ef1b7",
      "metadata": {
        "colab": {
          "base_uri": "https://localhost:8080/"
        },
        "id": "a35ef1b7",
        "outputId": "8fd6dd49-7de2-408e-b33a-69f8d7401f39"
      },
      "outputs": [
        {
          "output_type": "stream",
          "name": "stdout",
          "text": [
            "9\n",
            "8\n",
            "5\n",
            "6\n",
            "5\n",
            "64\n",
            "La suma total de los elementos es: 97\n"
          ]
        }
      ],
      "source": [
        "# Espacio para desarrollar el código, escriba comentarias breves para explicar su funcionamiento.\n",
        "\n",
        "# Lista bidimensional: estructura de datos de tipo lista que contienen listas dentro de ella, formando algo parecido a una matriz.\n",
        "\n",
        "lista_bidimensional = [\n",
        "    [9, 8, 5],\n",
        "    [6, 5, 64],\n",
        "]\n",
        "\n",
        "for fila in lista_bidimensional:\n",
        "    for elemento in fila:\n",
        "        print(elemento)\n",
        "\n",
        "suma_total = 0\n",
        "\n",
        "for fila in lista_bidimensional:\n",
        "    for elemento in fila:\n",
        "        suma_total += elemento\n",
        "\n",
        "print(f\"La suma total de los elementos es: {suma_total}\")\n"
      ]
    },
    {
      "cell_type": "markdown",
      "id": "4261fa65",
      "metadata": {
        "id": "4261fa65"
      },
      "source": [
        "# Actividad: Revision de los métodos usados en el manejo de diccionarios.\n",
        "\n",
        "## Instrucciones\n",
        "\n",
        "1. Crear un diccionario.\n",
        "2. Testear los siguientes métodos para el majeo de diccionarios get(), keys(), values(), items(), pop(), clear()\n",
        "3. Agregar un breve comentario sobre su funcionamiento."
      ]
    },
    {
      "cell_type": "code",
      "execution_count": null,
      "id": "2f5887bb",
      "metadata": {
        "colab": {
          "base_uri": "https://localhost:8080/"
        },
        "id": "2f5887bb",
        "outputId": "874157cc-a967-4f8c-a776-0484c770c97f"
      },
      "outputs": [
        {
          "output_type": "stream",
          "name": "stdout",
          "text": [
            "{'2': {'nombre': 'María', 'id': 2, 'edad': 22}, '3': {'nombre': 'Carlos', 'id': 3, 'edad': 21}}\n"
          ]
        }
      ],
      "source": [
        "# Espacio para desarrollar el código.\n",
        "diccionario_practica = {\n",
        "     '1': {\"nombre\": \"Juan\", \"id\": 1, \"edad\": 20},\n",
        "     '2': {\"nombre\": \"María\", \"id\": 2, \"edad\": 22},\n",
        "     '3': {\"nombre\": \"Carlos\", \"id\": 3, \"edad\": 21}\n",
        "}\n",
        "diccionario_practica.get('1') #Busca un elemento a partir de su clave y si no lo encuentra devuelve un valor por defecto\n",
        "diccionario_practica.keys() #Genera una lista en clave de los registros del diccionario\n",
        "diccionario_practica.values() #Genera una lista en valor de los registros del diccionario\n",
        "diccionario_practica.items() #Genera una lista en clave-valor de los registros del diccionario\n",
        "diccionario_practica.pop('1') #Extrae un registro de un diccionario a partir de su clave y lo borra, acepta valor por defecto\n",
        "diccionario_practica.clear() #Elimina todos los registros de un diccionario\n",
        "print(diccionario_practica)\n",
        "\n",
        "\n",
        "\n",
        "\n",
        "\n",
        "\n"
      ]
    },
    {
      "cell_type": "code",
      "source": [
        "diccionario_practica = {\n",
        "     '1': {\"nombre\": \"Juan\", \"id\": 1, \"edad\": 20},\n",
        "     '2': {\"nombre\": \"María\", \"id\": 2, \"edad\": 22},\n",
        "     '3': {\"nombre\": \"Carlos\", \"id\": 3, \"edad\": 21}\n",
        "}\n",
        "\n",
        "print(diccionario_practica.pop('1'))"
      ],
      "metadata": {
        "colab": {
          "base_uri": "https://localhost:8080/"
        },
        "id": "n6wsLZqIIKW5",
        "outputId": "c063b0a3-9ed5-45c8-d874-62d475ecfa51"
      },
      "id": "n6wsLZqIIKW5",
      "execution_count": null,
      "outputs": [
        {
          "output_type": "stream",
          "name": "stdout",
          "text": [
            "{'nombre': 'Juan', 'id': 1, 'edad': 20}\n"
          ]
        }
      ]
    }
  ],
  "metadata": {
    "kernelspec": {
      "display_name": "Python 3 (ipykernel)",
      "language": "python",
      "name": "python3"
    },
    "language_info": {
      "codemirror_mode": {
        "name": "ipython",
        "version": 3
      },
      "file_extension": ".py",
      "mimetype": "text/x-python",
      "name": "python",
      "nbconvert_exporter": "python",
      "pygments_lexer": "ipython3",
      "version": "3.10.12"
    },
    "colab": {
      "provenance": []
    }
  },
  "nbformat": 4,
  "nbformat_minor": 5
}