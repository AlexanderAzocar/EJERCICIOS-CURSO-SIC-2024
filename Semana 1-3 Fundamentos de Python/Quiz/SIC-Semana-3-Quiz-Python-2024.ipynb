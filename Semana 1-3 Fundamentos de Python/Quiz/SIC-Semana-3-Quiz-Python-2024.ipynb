{
  "cells": [
    {
      "cell_type": "markdown",
      "id": "5ad8356f",
      "metadata": {
        "id": "5ad8356f"
      },
      "source": [
        "# Coding and Programming\n",
        "\n",
        "## Capítulo 3\n",
        "\n",
        "### Función, clausura y clase\n",
        "\n",
        "- **Unidad 17.** Función\n",
        "- **Unidad 18.** Llamada a la función de recurrencia.\n",
        "- **Unidad 19.** Lambda\n",
        "- **Unidad 20.** Clausura\n",
        "- **Unidad 21.** Clase\n",
        "\n",
        "# Quiz 3"
      ]
    },
    {
      "cell_type": "markdown",
      "id": "a94ec368",
      "metadata": {
        "id": "a94ec368"
      },
      "source": [
        "___"
      ]
    },
    {
      "cell_type": "markdown",
      "id": "a11871f3",
      "metadata": {
        "id": "a11871f3"
      },
      "source": [
        "## Q 17-01\n",
        "\n",
        "Reciba las coordenadas `(x1, y1), (x2, y2)` de dos puntos del usuario e imprima la distancia entre los dos puntos de la siguiente manera. Para hacer esto, implemente la función `distancia(x1, y1, x2, y2)`.\n",
        "\n",
        "\n",
        "**Pauta de código:** consulte la fórmula para encontrar la distancia entre dos puntos.\n"
      ]
    },
    {
      "cell_type": "code",
      "execution_count": null,
      "id": "b7786578",
      "metadata": {
        "id": "b7786578",
        "outputId": "a5c63012-ae5d-4791-8f19-1bc9bb0fd581"
      },
      "outputs": [
        {
          "data": {
            "text/plain": [
              "6.708203932499369"
            ]
          },
          "execution_count": 21,
          "metadata": {},
          "output_type": "execute_result"
        }
      ],
      "source": [
        "import math\n",
        "distancia = lambda x1,y1,x2,y2: math.sqrt((x2-x1)**2 + (y2-y1)**2)\n",
        "\n",
        "a = float(input('Inserte la coordenada que corresponde a x1'))\n",
        "b = float(input('Inserte la coordenada que corresponde a y1'))\n",
        "c = float(input('Inserte la coordenada que corresponde a x2'))\n",
        "d = float(input('Inserte la coordenada que corresponde a y2'))\n",
        "distancia(a,b,c,d)"
      ]
    },
    {
      "cell_type": "markdown",
      "id": "a207d974",
      "metadata": {
        "id": "a207d974"
      },
      "source": [
        "## Q 18-01\n",
        "\n",
        "Un palíndromo es una oración, palabra o cadena que es lo mismo que leer cualquier carácter de forma consecutiva.\n",
        "\n",
        "Por ejemplo, hay palabras como level, kayak, salas, somos, radar, reconocer.\n",
        "\n",
        "Usemos una llamada recursiva para determinar el palíndromo.\n",
        "\n",
        "Defina una función llamada `is_palindrome` y escriba un programa que reciba una cadena del usuario e imprima si el palindrome es correcto o no.\n",
        "\n",
        "**Pauta de código:** Llame a la función `is_palindrome` dentro de la función `is_palindrome`"
      ]
    },
    {
      "cell_type": "code",
      "execution_count": null,
      "id": "aa784055",
      "metadata": {
        "id": "aa784055",
        "outputId": "cdb0aaf3-8333-4e3a-eb55-a15ec99d6684"
      },
      "outputs": [
        {
          "name": "stdout",
          "output_type": "stream",
          "text": [
            "La palabra kayak es un palindromo\n"
          ]
        }
      ],
      "source": [
        "def is_palindromo(prompt, mem=''):\n",
        "    if not mem: mem = prompt\n",
        "\n",
        "    if len(prompt) <= 1:\n",
        "        print(f'La palabra {mem} es un palindromo')\n",
        "        return\n",
        "\n",
        "    if prompt[0] == prompt[-1]:\n",
        "        is_palindromo(prompt[1:-1], mem)\n",
        "    else:\n",
        "        print(f'La palabra {mem} no es un palindromo')\n",
        "        return\n",
        "\n",
        "entrada = 'kayak'\n",
        "is_palindromo(entrada)"
      ]
    },
    {
      "cell_type": "markdown",
      "id": "fbfb4985",
      "metadata": {
        "id": "fbfb4985"
      },
      "source": [
        "## Q 19-01\n",
        "\n",
        "\n",
        "Después de poner una lista llamada `n_list` con valores de `[10, 20, 30]` en la función `map`.\n",
        "\n",
        "```\n",
        "n_list = [10,20,30]\n",
        "twice  = list(map(lambda x: x*2, n_list))\n",
        "triple = list(map(lambda x: x*3, n_list))\n",
        "```\n",
        "\n",
        "Indique el contenido de las variables `twice` y `triple`."
      ]
    },
    {
      "cell_type": "code",
      "execution_count": null,
      "id": "2cdc7344",
      "metadata": {
        "id": "2cdc7344",
        "outputId": "4b3af716-ac8c-4509-d212-6f61031a7235"
      },
      "outputs": [
        {
          "name": "stdout",
          "output_type": "stream",
          "text": [
            "[20, 40, 60]\n",
            "[30, 60, 90]\n"
          ]
        }
      ],
      "source": [
        "n_list = [10,20,30]\n",
        "twice  = list(map(lambda x: x*2, n_list))\n",
        "triple = list(map(lambda x: x*3, n_list))\n",
        "\n",
        "print(twice)\n",
        "print(triple)"
      ]
    },
    {
      "cell_type": "markdown",
      "id": "98938d2d",
      "metadata": {
        "id": "98938d2d"
      },
      "source": [
        "## Q 20-01\n",
        "\n",
        "En el siguiente código, espere qué valor se incluye finalmente en `num_list`. Calcule el resultado esperado a mano.\n",
        "\n",
        "**Pauta de codificación:** Escriba 5 veces la declaración `for`. Espere este resultado y envíe el resultado.\n",
        "\n",
        "```\n",
        "def calc_digit(n):\n",
        "    def findal(digit):\n",
        "        return digit**n\n",
        "    return final\n",
        "\n",
        "num_list = []\n",
        "for num in range(1,6):\n",
        "    num_list.append( calc_digit(num) )\n",
        "    print( num_list[num-1](num) )\n",
        "```"
      ]
    },
    {
      "cell_type": "code",
      "execution_count": 1,
      "id": "fcde558f",
      "metadata": {
        "colab": {
          "base_uri": "https://localhost:8080/",
          "height": 315
        },
        "id": "fcde558f",
        "outputId": "2cf83ff1-d6d0-4b0d-c01f-5250f533b071"
      },
      "outputs": [
        {
          "output_type": "error",
          "ename": "NameError",
          "evalue": "name 'final' is not defined",
          "traceback": [
            "\u001b[0;31m---------------------------------------------------------------------------\u001b[0m",
            "\u001b[0;31mNameError\u001b[0m                                 Traceback (most recent call last)",
            "\u001b[0;32m<ipython-input-1-d4b6f8f691ab>\u001b[0m in \u001b[0;36m<cell line: 7>\u001b[0;34m()\u001b[0m\n\u001b[1;32m      6\u001b[0m \u001b[0mnum_list\u001b[0m \u001b[0;34m=\u001b[0m \u001b[0;34m[\u001b[0m\u001b[0;34m]\u001b[0m\u001b[0;34m\u001b[0m\u001b[0;34m\u001b[0m\u001b[0m\n\u001b[1;32m      7\u001b[0m \u001b[0;32mfor\u001b[0m \u001b[0mnum\u001b[0m \u001b[0;32min\u001b[0m \u001b[0mrange\u001b[0m\u001b[0;34m(\u001b[0m\u001b[0;36m1\u001b[0m\u001b[0;34m,\u001b[0m\u001b[0;36m6\u001b[0m\u001b[0;34m)\u001b[0m\u001b[0;34m:\u001b[0m\u001b[0;34m\u001b[0m\u001b[0;34m\u001b[0m\u001b[0m\n\u001b[0;32m----> 8\u001b[0;31m     \u001b[0mnum_list\u001b[0m\u001b[0;34m.\u001b[0m\u001b[0mappend\u001b[0m\u001b[0;34m(\u001b[0m \u001b[0mcalc_digit\u001b[0m\u001b[0;34m(\u001b[0m\u001b[0mnum\u001b[0m\u001b[0;34m)\u001b[0m \u001b[0;34m)\u001b[0m\u001b[0;34m\u001b[0m\u001b[0;34m\u001b[0m\u001b[0m\n\u001b[0m\u001b[1;32m      9\u001b[0m     \u001b[0mprint\u001b[0m\u001b[0;34m(\u001b[0m \u001b[0mnum_list\u001b[0m\u001b[0;34m[\u001b[0m\u001b[0mnum\u001b[0m\u001b[0;34m-\u001b[0m\u001b[0;36m1\u001b[0m\u001b[0;34m]\u001b[0m\u001b[0;34m(\u001b[0m\u001b[0mnum\u001b[0m\u001b[0;34m)\u001b[0m \u001b[0;34m)\u001b[0m\u001b[0;34m\u001b[0m\u001b[0;34m\u001b[0m\u001b[0m\n",
            "\u001b[0;32m<ipython-input-1-d4b6f8f691ab>\u001b[0m in \u001b[0;36mcalc_digit\u001b[0;34m(n)\u001b[0m\n\u001b[1;32m      2\u001b[0m     \u001b[0;32mdef\u001b[0m \u001b[0mfindal\u001b[0m\u001b[0;34m(\u001b[0m\u001b[0mdigit\u001b[0m\u001b[0;34m)\u001b[0m\u001b[0;34m:\u001b[0m\u001b[0;34m\u001b[0m\u001b[0;34m\u001b[0m\u001b[0m\n\u001b[1;32m      3\u001b[0m         \u001b[0;32mreturn\u001b[0m \u001b[0mdigit\u001b[0m\u001b[0;34m**\u001b[0m\u001b[0mn\u001b[0m\u001b[0;34m\u001b[0m\u001b[0;34m\u001b[0m\u001b[0m\n\u001b[0;32m----> 4\u001b[0;31m     \u001b[0;32mreturn\u001b[0m \u001b[0mfinal\u001b[0m\u001b[0;34m\u001b[0m\u001b[0;34m\u001b[0m\u001b[0m\n\u001b[0m\u001b[1;32m      5\u001b[0m \u001b[0;34m\u001b[0m\u001b[0m\n\u001b[1;32m      6\u001b[0m \u001b[0mnum_list\u001b[0m \u001b[0;34m=\u001b[0m \u001b[0;34m[\u001b[0m\u001b[0;34m]\u001b[0m\u001b[0;34m\u001b[0m\u001b[0;34m\u001b[0m\u001b[0m\n",
            "\u001b[0;31mNameError\u001b[0m: name 'final' is not defined"
          ]
        }
      ],
      "source": []
    },
    {
      "cell_type": "markdown",
      "id": "d3ece88b",
      "metadata": {
        "id": "d3ece88b"
      },
      "source": [
        "## Q 21-01\n",
        "\n",
        "Implemente las funciones de multiplicación (*) y división (/) de dos vectores usando los métodos `mul` y `truediv` aprendidos en la **unidad 21**. Suponiendo que `v1` es `(30, 40)` y `v2` es `(10, 20)`, codifique (escriba la declaración de salida) para devolver el siguiente resultado como resultado de la multiplicación y división de dos vectores.\n",
        "\n",
        "\n",
        "**Pauta de codificación:** escriba código que amplíe la funcionalidad de la clase `Vector2D` que aprendió en este capítulo."
      ]
    },
    {
      "cell_type": "code",
      "execution_count": null,
      "id": "1d58d47c",
      "metadata": {
        "id": "1d58d47c",
        "outputId": "82578f93-d968-41cf-c62e-a316cc6faded"
      },
      "outputs": [
        {
          "name": "stdout",
          "output_type": "stream",
          "text": [
            "v1 * v2 =  (300,800)\n",
            "v1 / v2 =  (3.0,2.0)\n"
          ]
        }
      ],
      "source": [
        "class vector2D:\n",
        "    def __init__(self, x, y):\n",
        "        self.x = x\n",
        "        self.y = y\n",
        "\n",
        "    def __mul__(self, other):\n",
        "        return vector2D(self.x * other.x, self.y * other.y)\n",
        "\n",
        "    def __truediv__(self, other):\n",
        "        return vector2D(self.x / other.x, self.y / other.y)\n",
        "\n",
        "    def __str__(self):\n",
        "        return \"({},{})\".format(self.x, self.y)\n",
        "\n",
        "v1 = vector2D(30,40)\n",
        "v2 = vector2D(10,20)\n",
        "\n",
        "v3 = v1 * v2\n",
        "v4 =v1 / v2\n",
        "print('v1 * v2 = ', v3)\n",
        "print('v1 / v2 = ', v4)\n",
        "\n"
      ]
    },
    {
      "cell_type": "markdown",
      "id": "2717ce09",
      "metadata": {
        "id": "2717ce09"
      },
      "source": [
        "___"
      ]
    },
    {
      "cell_type": "markdown",
      "id": "10514335",
      "metadata": {
        "id": "10514335"
      },
      "source": [
        "# Fin"
      ]
    }
  ],
  "metadata": {
    "kernelspec": {
      "display_name": "Python 3",
      "language": "python",
      "name": "python3"
    },
    "language_info": {
      "codemirror_mode": {
        "name": "ipython",
        "version": 3
      },
      "file_extension": ".py",
      "mimetype": "text/x-python",
      "name": "python",
      "nbconvert_exporter": "python",
      "pygments_lexer": "ipython3",
      "version": "3.11.2"
    },
    "colab": {
      "provenance": []
    }
  },
  "nbformat": 4,
  "nbformat_minor": 5
}