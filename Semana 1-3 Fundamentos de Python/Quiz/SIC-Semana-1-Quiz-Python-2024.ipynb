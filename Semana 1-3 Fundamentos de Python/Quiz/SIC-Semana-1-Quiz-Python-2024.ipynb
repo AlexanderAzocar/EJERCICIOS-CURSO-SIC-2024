{
  "cells": [
    {
      "cell_type": "markdown",
      "id": "f34adb44",
      "metadata": {
        "id": "f34adb44"
      },
      "source": [
        "# Coding and Programming\n",
        "\n",
        "## Capítulo 1\n",
        "\n",
        "### Conceptos básicos de programación e iniciación con python\n",
        "\n",
        "\n",
        "- **Unidad 1**: Programación secuencial\n",
        "- **Unidad 2**: Planificación de la programación\n",
        "- **Unidad 3**: Fundamentos de los tipos de datos numéricos y operaciones aritméticas\n",
        "- **Unidad 4**: Variables y entradas (Inputs)\n",
        "- **Unidad 5**: Operaciones lógicas y de comparación\n",
        "- **Unidad 6**: Enunciado condicional-1: Condiciones y toma de decisiones\n",
        "- **Unidad 7**: Enunciado condicional-2: Tomar decisiones en dos direcciones y aplicar enunciados condicionales\n",
        "- **Unidad 8**: Bucle-1\n",
        "- **Unidad 9**: Bucle-2\n",
        "\n",
        "# Quiz 1"
      ]
    },
    {
      "cell_type": "markdown",
      "id": "2e42031a",
      "metadata": {
        "id": "2e42031a"
      },
      "source": [
        "___"
      ]
    },
    {
      "cell_type": "markdown",
      "id": "ac1e9b02",
      "metadata": {
        "id": "ac1e9b02"
      },
      "source": [
        "## Q 01-01\n",
        "\n",
        "El código que imprime los valores numéricos del 1 al 3 utilizando la función `print()` es `print(1+2+3)`.\n",
        "\n",
        "Con referencia a este código, imprima los valores de 1 a 5 de forma similar.\n",
        "\n",
        "**Respuesta:**"
      ]
    },
    {
      "cell_type": "markdown",
      "id": "903e6874",
      "metadata": {
        "id": "903e6874"
      },
      "source": [
        "print(1+2+3+4+5)"
      ]
    },
    {
      "cell_type": "markdown",
      "id": "26e1df49",
      "metadata": {
        "id": "26e1df49"
      },
      "source": [
        "___"
      ]
    },
    {
      "cell_type": "code",
      "source": [],
      "metadata": {
        "id": "sJx6SEORk-ca"
      },
      "id": "sJx6SEORk-ca",
      "execution_count": null,
      "outputs": []
    },
    {
      "cell_type": "markdown",
      "id": "87a3a925",
      "metadata": {
        "id": "87a3a925"
      },
      "source": [
        "## Q 02-01\n",
        "\n",
        "Un programa que calcula la suma de números impares entre enteros entre 1 y 100 e imprime el resultado.\n",
        "\n",
        "Completa los espacios en blanco de la segunda figura del siguiente diagrama de flujo."
      ]
    },
    {
      "cell_type": "markdown",
      "source": [
        "N = 1\n",
        "\n",
        "S = 0\n",
        "\n",
        "N % 2 != 0\n",
        "\n",
        "S = S + N\n",
        "\n",
        "N = N + 1\n",
        "\n",
        "N > 100"
      ],
      "metadata": {
        "id": "AmccTnXdg6z4"
      },
      "id": "AmccTnXdg6z4"
    },
    {
      "cell_type": "code",
      "source": [
        "total_impares = 0\n",
        "for i in range(1, 101):\n",
        "    if i % 2 != 0:  #\n",
        "        total_impares += i\n",
        "\n",
        "print(\"La suma de los números impares entre 1 y 100 es:\", total_impares)"
      ],
      "metadata": {
        "colab": {
          "base_uri": "https://localhost:8080/"
        },
        "id": "7t9fTFmvf6dL",
        "outputId": "205a0133-b9f9-4d01-f79e-b6d0064b61ef"
      },
      "id": "7t9fTFmvf6dL",
      "execution_count": 10,
      "outputs": [
        {
          "output_type": "stream",
          "name": "stdout",
          "text": [
            "La suma de los números impares entre 1 y 100 es: 2500\n"
          ]
        }
      ]
    },
    {
      "cell_type": "markdown",
      "id": "8c115f28",
      "metadata": {
        "id": "8c115f28"
      },
      "source": [
        "## Q 02-02\n",
        "\n",
        "Un programa que reciba un número entero positivo del usuario y en indique si es un número par o impar.\n",
        "\n",
        "Complete el pseudocódigo apropiado para **___**."
      ]
    },
    {
      "cell_type": "markdown",
      "id": "4b66252e",
      "metadata": {
        "id": "4b66252e"
      },
      "source": [
        "```\n",
        "print(\"Ingrese un entero:\")\n",
        "n = input()\n",
        "if ___:\n",
        "    print(\"Es par\")\n",
        "else:\n",
        "    print(\"Es impar\")\n",
        "```"
      ]
    },
    {
      "cell_type": "code",
      "source": [
        "print(\"Ingrese un entero:\")\n",
        "n = int(input())\n",
        "if n % 2 == 0:\n",
        "    print(\"Es par\")\n",
        "else:\n",
        "    print(\"Es impar\")"
      ],
      "metadata": {
        "id": "s8sKgZukZHDI",
        "colab": {
          "base_uri": "https://localhost:8080/"
        },
        "outputId": "0f349ff7-7252-4023-95b4-0106bcde9bc5"
      },
      "id": "s8sKgZukZHDI",
      "execution_count": null,
      "outputs": [
        {
          "output_type": "stream",
          "name": "stdout",
          "text": [
            "Ingrese un entero:\n",
            "55\n",
            "Es impar\n"
          ]
        }
      ]
    },
    {
      "cell_type": "markdown",
      "id": "7410bc11",
      "metadata": {
        "id": "7410bc11"
      },
      "source": [
        "___"
      ]
    },
    {
      "cell_type": "markdown",
      "id": "410f8980",
      "metadata": {
        "id": "410f8980"
      },
      "source": [
        "## Q 03-01\n",
        "\n",
        "El Código para imprimir la siguiente salida decorativa.\n",
        "\n",
        "`***********************************`\n",
        "\n",
        "`###################################`\n",
        "\n",
        "\n",
        "Utilice sólo un carácter '*' en la primera línea y use el operador * y número.\n",
        "\n",
        "En la segunda línea, utilice sólo un carácter '#' y un espacio, y utilice el operador * y el número.\n",
        "\n",
        "**Guía de codificación:**\n",
        "\n",
        "- En el caso de la primera línea, imprima de la misma manera que '*' * número n.\n",
        "\n",
        "- La segunda línea también utiliza el operador *.\n",
        "\n",
        "\n",
        "**Respuesta:**"
      ]
    },
    {
      "cell_type": "code",
      "source": [
        "print('*' * 35)\n",
        "print('#' * 35)"
      ],
      "metadata": {
        "colab": {
          "base_uri": "https://localhost:8080/"
        },
        "id": "JisrD3JE73qO",
        "outputId": "6a1fd40c-79f7-4c25-9609-d5d6042b86ef"
      },
      "id": "JisrD3JE73qO",
      "execution_count": null,
      "outputs": [
        {
          "output_type": "stream",
          "name": "stdout",
          "text": [
            "***********************************\n",
            "###################################\n"
          ]
        }
      ]
    },
    {
      "cell_type": "markdown",
      "id": "b239c413",
      "metadata": {
        "id": "b239c413"
      },
      "source": []
    },
    {
      "cell_type": "markdown",
      "id": "ba019f33",
      "metadata": {
        "id": "ba019f33"
      },
      "source": [
        "___"
      ]
    },
    {
      "cell_type": "markdown",
      "id": "d4b76da3",
      "metadata": {
        "id": "d4b76da3"
      },
      "source": [
        "## Q 04-01\n",
        "\n",
        "Escribe y guarda tu nombre y dirección en las variables nombre y dirección, respectivamente.\n",
        "\n",
        "Escribe un código que lo imprima en la pantalla de la siguiente manera.\n",
        "\n",
        "**Guía de codificación:** Utiliza una variable como `nombre = 'Mi nombre'`.\n",
        "\n",
        "**Respuesta:**"
      ]
    },
    {
      "cell_type": "markdown",
      "id": "20998ef3",
      "metadata": {
        "id": "20998ef3"
      },
      "source": []
    },
    {
      "cell_type": "code",
      "source": [
        "print(\"Ingresa tu nombre\")\n",
        "nombre = input()\n",
        "print(\"Ingresa su direccion\")\n",
        "direccion = input()\n",
        "\n",
        "print(\" Mi nombre es = \" + nombre)\n",
        "print(\"Mi Direccion es = \" + direccion )\n"
      ],
      "metadata": {
        "colab": {
          "base_uri": "https://localhost:8080/"
        },
        "id": "6hY66Rzg8Rp1",
        "outputId": "a4161b60-8779-481b-b45f-b2d2fc429a32"
      },
      "id": "6hY66Rzg8Rp1",
      "execution_count": 2,
      "outputs": [
        {
          "output_type": "stream",
          "name": "stdout",
          "text": [
            "Ingresa tu nombre\n",
            "alexander\n",
            "Ingresa su direccion\n",
            "los teques\n",
            " Mi nombre es = alexander\n",
            "Mi Direccion es = los teques\n"
          ]
        }
      ]
    },
    {
      "cell_type": "markdown",
      "id": "aa90491d",
      "metadata": {
        "id": "aa90491d"
      },
      "source": [
        "___"
      ]
    },
    {
      "cell_type": "markdown",
      "id": "e98e5186",
      "metadata": {
        "id": "e98e5186"
      },
      "source": [
        "## Q 05-01\n",
        "\n",
        "Espere el resultado del siguiente código y escríbalo."
      ]
    },
    {
      "cell_type": "markdown",
      "id": "6d34caea",
      "metadata": {
        "id": "6d34caea"
      },
      "source": [
        "```\n",
        "x = 1\n",
        "y = 0\n",
        "print(x and y)\n",
        "print(x or y)\n",
        "print(not x)\n",
        "print(not y)\n",
        "```"
      ]
    },
    {
      "cell_type": "markdown",
      "id": "dd43cd9d",
      "metadata": {
        "id": "dd43cd9d"
      },
      "source": [
        "-False\n",
        "-True\n",
        "-False\n",
        "-True"
      ]
    },
    {
      "cell_type": "markdown",
      "id": "1c76ac19",
      "metadata": {
        "id": "1c76ac19"
      },
      "source": [
        "___"
      ]
    },
    {
      "cell_type": "markdown",
      "id": "58ce5b20",
      "metadata": {
        "id": "58ce5b20"
      },
      "source": [
        "## Q 06-01\n",
        "\n",
        "Escriba un programa que tome dos enteros aleatorios como entrada y los enumere de menor a mayor.\n",
        "\n",
        "(Restricción: dos enteros distintos, es decir, que no sean el mismo número)\n",
        "\n",
        "**Pauta de codificación:**\n",
        "- Reciba la entrada del usuario con la función de entrada y conviértala en un número entero usando la función `int`.\n",
        "- Luego, use una declaración `if` para comparar e imprimir los dos valores.\n",
        "\n",
        "**Respuesta:**"
      ]
    },
    {
      "cell_type": "markdown",
      "id": "c7b80272",
      "metadata": {
        "id": "c7b80272"
      },
      "source": []
    },
    {
      "cell_type": "code",
      "source": [
        "num1 = int(input(\"ingresa un numero entero  \"))\n",
        "num2 = int(input(\"ingresa otro numero entero  \"))\n",
        "if num1 > num2:\n",
        "  print(num2 , \",\" , num1)\n",
        "elif num1 == num2:\n",
        "  print(\"los numeros son iguales\")\n",
        "else:\n",
        "  print(num1 , \",\" , num2)"
      ],
      "metadata": {
        "colab": {
          "base_uri": "https://localhost:8080/"
        },
        "id": "bpoygqFp-T_1",
        "outputId": "cfd28cd4-fe53-4db2-a5d4-8289088ff449"
      },
      "id": "bpoygqFp-T_1",
      "execution_count": 5,
      "outputs": [
        {
          "output_type": "stream",
          "name": "stdout",
          "text": [
            "ingresa un numero entero  22\n",
            "ingresa otro numero entero  21\n",
            "21 , 22\n"
          ]
        }
      ]
    },
    {
      "cell_type": "markdown",
      "id": "55e7a173",
      "metadata": {
        "id": "55e7a173"
      },
      "source": [
        "___"
      ]
    },
    {
      "cell_type": "markdown",
      "id": "6abcf432",
      "metadata": {
        "id": "6abcf432"
      },
      "source": [
        "## Q 07-01\n",
        "\n",
        "Escriba un programa que realice las siguientes funciones utilizando una expresión condicional compuesta de una sentencia `if`.\n",
        "\n",
        "**Guía de codificación:**\n",
        "- Escriba un código que se ejecute de forma diferente dependiendo de si la respuesta a la primera pregunta es 0 o 1.\n"
      ]
    },
    {
      "cell_type": "markdown",
      "id": "f083e248",
      "metadata": {
        "id": "f083e248"
      },
      "source": [
        "¿Eres un adulto? (1 si es mayor de edad, 0 si es menor de edad): 1\n",
        "¿Está casado? (1 si es casado, 0 si es soltero): 1\n",
        "Usted es un adulto que está casado.\n",
        "\n",
        "Las tres salidas posibles son:\n",
        "- Usted es un adulto que está casado.\n",
        "- Usted es un adulto que está soltero.\n",
        "- Usted es menor de edad.\n",
        "\n",
        "**Respuesta:**"
      ]
    },
    {
      "cell_type": "markdown",
      "id": "c7c1df00",
      "metadata": {
        "id": "c7c1df00"
      },
      "source": []
    },
    {
      "cell_type": "markdown",
      "id": "e3e514a9",
      "metadata": {
        "id": "e3e514a9"
      },
      "source": [
        "___"
      ]
    },
    {
      "cell_type": "code",
      "source": [
        "print(\"Por favor responda las siguientes preguntas con el numero 1 para decir 'Si' o el numero 0 para decir 'NO' \")\n",
        "\n",
        "q1 = int(input(\"Eres un adulto? \"))\n",
        "if q1 == 1:\n",
        "  q2 = int(input(\"Esta casado? \"))\n",
        "  if q2 == 1:\n",
        "    print(\"Usted es un adulto que está casado.\")\n",
        "  else:\n",
        "      print(\"Usted es un adulto que está soltero.\")\n",
        "else:\n",
        "  print(\"Usted es menor de edad.\")\n"
      ],
      "metadata": {
        "colab": {
          "base_uri": "https://localhost:8080/"
        },
        "id": "JXw4eWziCJ50",
        "outputId": "cb0c049b-3630-4e9b-982b-737c5b523163"
      },
      "id": "JXw4eWziCJ50",
      "execution_count": null,
      "outputs": [
        {
          "metadata": {
            "tags": null
          },
          "name": "stdout",
          "output_type": "stream",
          "text": [
            "Porfavor responda las siguientes preguntas con el numero 1 para decir 'Si' o el numero 0 para decir 'NO' \n"
          ]
        }
      ]
    },
    {
      "cell_type": "markdown",
      "id": "59dd267b",
      "metadata": {
        "id": "59dd267b"
      },
      "source": [
        "## Q 08-01\n",
        "\n",
        "Entre los números naturales positivos distintos del 1, un número que no es primo se llama número compuesto. Escribe los números primos y compuestos del 2 al 12 de la siguiente manera.\n",
        "\n",
        "**Pauta de codificación:**\n",
        "- use la instrucción `for` para resolver este problema.\n",
        "- Cuando se utiliza una instrucción `for` anidada, se debe usar una expresión para determinar un número primo en el lazo `for` interno."
      ]
    },
    {
      "cell_type": "markdown",
      "id": "3f51863d",
      "metadata": {
        "id": "3f51863d"
      },
      "source": [
        "```\n",
        "2 : Primo\n",
        "3 : Primo\n",
        "4 : Compuesto\n",
        "5 : Primo\n",
        "6 : Compuesto\n",
        "7 : Primo\n",
        "8 : Compuesto\n",
        "9 : Compuesto\n",
        "10 : Compuesto\n",
        "11 : Primo\n",
        "12 : Compuesto\n",
        "```"
      ]
    },
    {
      "cell_type": "code",
      "source": [
        "numeros = [2, 3, 4, 5, 6, 7, 8, 9, 10, 11, 12]\n",
        "\n",
        "for num in numeros:\n",
        "    es_primo = True\n",
        "    for i in range(2, int(num**0.5) + 1):\n",
        "        if num % i == 0:\n",
        "            es_primo = False\n",
        "            break\n",
        "    if es_primo:\n",
        "        print(num, \": Primo\")\n",
        "    else:\n",
        "        print(num, \": Compuesto\")"
      ],
      "metadata": {
        "id": "kAohHD9GIedO",
        "colab": {
          "base_uri": "https://localhost:8080/"
        },
        "outputId": "7447b6e7-3bd7-4b69-8b20-1cd171c2bedd"
      },
      "id": "kAohHD9GIedO",
      "execution_count": 6,
      "outputs": [
        {
          "output_type": "stream",
          "name": "stdout",
          "text": [
            "2 : Primo\n",
            "3 : Primo\n",
            "4 : Compuesto\n",
            "5 : Primo\n",
            "6 : Compuesto\n",
            "7 : Primo\n",
            "8 : Compuesto\n",
            "9 : Compuesto\n",
            "10 : Compuesto\n",
            "11 : Primo\n",
            "12 : Compuesto\n"
          ]
        }
      ]
    },
    {
      "cell_type": "markdown",
      "id": "ed8d04c5",
      "metadata": {
        "id": "ed8d04c5"
      },
      "source": [
        "## Q 09-01\n",
        "\n",
        "Un número de Armstrong es un número entero de tres dígitos que es igual a la suma de los cubos de cada dígito.\n",
        "\n",
        "Encuentre todos los números de Armstrong entre enteros de tres dígitos e imprímalos de la siguiente manera.\n",
        "\n",
        "\n",
        "**Pauta de codificación:** todos los números del 100 al 999 deben buscarse utilizando la instrucción `for`.\n",
        "\n",
        "**Respuesta:**"
      ]
    },
    {
      "cell_type": "markdown",
      "id": "892a3acb",
      "metadata": {
        "id": "892a3acb"
      },
      "source": []
    },
    {
      "cell_type": "code",
      "source": [
        "inicio = 100\n",
        "fin = 999\n",
        "\n",
        "for num in range(inicio, fin + 1):\n",
        "  suma_digitos = 0\n",
        "  numero_original = num\n",
        "  num_digitos = len(str(num))\n",
        "\n",
        "  while numero_original > 0:\n",
        "    digito = numero_original % 10\n",
        "    suma_digitos += digito ** num_digitos\n",
        "    numero_original //= 10\n",
        "\n",
        "  if suma_digitos == num:\n",
        "    print(num, \"es un número de Armstrong\")"
      ],
      "metadata": {
        "id": "NoZQVwrtJQ4V",
        "colab": {
          "base_uri": "https://localhost:8080/"
        },
        "outputId": "ba7f1f6b-d185-4518-a821-8139b1dfe59b"
      },
      "id": "NoZQVwrtJQ4V",
      "execution_count": 7,
      "outputs": [
        {
          "output_type": "stream",
          "name": "stdout",
          "text": [
            "153 es un número de Armstrong\n",
            "370 es un número de Armstrong\n",
            "371 es un número de Armstrong\n",
            "407 es un número de Armstrong\n"
          ]
        }
      ]
    },
    {
      "cell_type": "markdown",
      "id": "5f26e5d1",
      "metadata": {
        "id": "5f26e5d1"
      },
      "source": [
        "___"
      ]
    },
    {
      "cell_type": "markdown",
      "id": "ed04e881",
      "metadata": {
        "id": "ed04e881"
      },
      "source": [
        "## Fin"
      ]
    }
  ],
  "metadata": {
    "kernelspec": {
      "display_name": "Python 3 (ipykernel)",
      "language": "python",
      "name": "python3"
    },
    "language_info": {
      "codemirror_mode": {
        "name": "ipython",
        "version": 3
      },
      "file_extension": ".py",
      "mimetype": "text/x-python",
      "name": "python",
      "nbconvert_exporter": "python",
      "pygments_lexer": "ipython3",
      "version": "3.10.12"
    },
    "colab": {
      "provenance": []
    }
  },
  "nbformat": 4,
  "nbformat_minor": 5
}